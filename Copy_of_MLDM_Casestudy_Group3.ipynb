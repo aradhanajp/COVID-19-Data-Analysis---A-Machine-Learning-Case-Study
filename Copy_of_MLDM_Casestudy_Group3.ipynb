{
  "nbformat": 4,
  "nbformat_minor": 0,
  "metadata": {
    "colab": {
      "provenance": []
    },
    "kernelspec": {
      "name": "python3",
      "display_name": "Python 3"
    }
  },
  "cells": [
    {
      "cell_type": "markdown",
      "metadata": {
        "id": "x_U8XLIWSv27"
      },
      "source": [
        "# COVID-19 Data Analysis - A Machine Learning Case Study"
      ]
    },
    {
      "cell_type": "markdown",
      "metadata": {
        "id": "3xTRjd15S1zF"
      },
      "source": [
        "**Team**\n",
        "\n",
        "1.   Aaradhana J. (17308)\n",
        "2.   Arnab Datta (17309)\n",
        "3.   Ashwin Bala (17310)\n",
        "4.   Niveth Saran V J (17337)\n",
        "\n",
        "\n",
        "**Objective**\n",
        "\n",
        "1. Predict the number of COVID cases using TimeSeries Dataset\n",
        "2. Use 2 different algorithms for prediction to get more insights.\n",
        "\n",
        "**Contents of this notebook**\n",
        "\n",
        "Under every individual roll number, we have\n",
        "1. Preprocessing and EDA\n",
        "2. Model training and prediction\n",
        "3. Testing and Comparison\n",
        "\n",
        "After inidvidual analysis, we also provide comparison and conclusion of our analysis.\n",
        "\n"
      ]
    },
    {
      "cell_type": "markdown",
      "metadata": {
        "id": "YCeXpyxxUJz2"
      },
      "source": [
        "# Importing Required Libraries"
      ]
    },
    {
      "cell_type": "code",
      "metadata": {
        "id": "b36Fap7ZSvsJ",
        "colab": {
          "base_uri": "https://localhost:8080/"
        },
        "outputId": "52e55f7d-1662-403d-a4cb-3021cb8b6e62"
      },
      "source": [
        "## General Libraries\n",
        "import numpy as np # linear algebra\n",
        "import warnings\n",
        "import pandas as pd # data processing, CSV file I/O (e.g. pd.read_csv)\n",
        "import os\n",
        "import matplotlib.pyplot as plt\n",
        "import datetime\n",
        "from tqdm import tqdm\n",
        "import matplotlib\n",
        "import seaborn as sns\n",
        "import statsmodels.api as sm\n",
        "from math import sqrt\n",
        "\n",
        "## Preprocessing\n",
        "from statsmodels.tsa.seasonal import seasonal_decompose\n",
        "from sklearn.preprocessing import MinMaxScaler\n",
        "from statsmodels.tsa.stattools import adfuller\n",
        "from keras.preprocessing.sequence import TimeseriesGenerator\n",
        "from sklearn.preprocessing import MinMaxScaler\n",
        "from sklearn.model_selection import TimeSeriesSplit\n",
        "from sklearn.metrics import mean_squared_error\n",
        "from sklearn.metrics import mean_absolute_error\n",
        "from sklearn.metrics import r2_score\n",
        "\n",
        "## Keras Models\n",
        "from keras.models import Sequential\n",
        "from keras.layers import Dense\n",
        "from keras.layers import LSTM\n",
        "warnings.filterwarnings(\"ignore\")\n",
        "plt.style.use('fivethirtyeight')\n",
        "\n",
        "\n",
        "\n",
        "matplotlib.rcParams['axes.labelsize'] = 14\n",
        "matplotlib.rcParams['xtick.labelsize'] = 12\n",
        "matplotlib.rcParams['ytick.labelsize'] = 12\n",
        "matplotlib.rcParams['text.color'] = 'k'"
      ],
      "execution_count": null,
      "outputs": [
        {
          "output_type": "stream",
          "name": "stderr",
          "text": [
            "/usr/local/lib/python3.7/dist-packages/statsmodels/tools/_testing.py:19: FutureWarning: pandas.util.testing is deprecated. Use the functions in the public API at pandas.testing instead.\n",
            "  import pandas.util.testing as tm\n"
          ]
        }
      ]
    },
    {
      "cell_type": "markdown",
      "metadata": {
        "id": "eB8pE1Mad1U2"
      },
      "source": [
        "# CB.EN.U4CSE17308\n"
      ]
    },
    {
      "cell_type": "markdown",
      "metadata": {
        "id": "bEhDcw8NgS_U"
      },
      "source": [
        "## PART-1: Exploratory Data Analysis"
      ]
    },
    {
      "cell_type": "code",
      "metadata": {
        "id": "VBcIX5Otd1U3"
      },
      "source": [
        "files = [\n",
        "         'https://raw.githubusercontent.com/Ashwin1999/COVID-19-Data-Mining/master/COVID-Time%20Series%20Data/time_series_covid_19_confirmed.csv',\n",
        "         'https://raw.githubusercontent.com/Ashwin1999/COVID-19-Data-Mining/master/COVID-Time%20Series%20Data/time_series_covid_19_confirmed_US.csv',\n",
        "         'https://raw.githubusercontent.com/Ashwin1999/COVID-19-Data-Mining/master/COVID-Time%20Series%20Data/time_series_covid_19_deaths.csv',\n",
        "         'https://raw.githubusercontent.com/Ashwin1999/COVID-19-Data-Mining/master/COVID-Time%20Series%20Data/time_series_covid_19_deaths_US.csv',\n",
        "         'https://raw.githubusercontent.com/Ashwin1999/COVID-19-Data-Mining/master/COVID-Time%20Series%20Data/time_series_covid_19_recovered.csv',\n",
        "]"
      ],
      "execution_count": null,
      "outputs": []
    },
    {
      "cell_type": "code",
      "metadata": {
        "id": "A-YKFHJPd1U5",
        "colab": {
          "base_uri": "https://localhost:8080/",
          "height": 206
        },
        "outputId": "15eb2654-3210-4c5c-b569-8ad129f06483"
      },
      "source": [
        "df = pd.read_csv(files[0])\n",
        "confirmed = df.melt(['Province/State', 'Country/Region'], df.columns[4:], var_name='Dates', value_name='Count')\n",
        "confirmed.Dates = pd.to_datetime(confirmed.Dates)\n",
        "confirmed.head()"
      ],
      "execution_count": null,
      "outputs": [
        {
          "output_type": "execute_result",
          "data": {
            "text/plain": [
              "  Province/State Country/Region      Dates  Count\n",
              "0            NaN    Afghanistan 2020-01-22      0\n",
              "1            NaN        Albania 2020-01-22      0\n",
              "2            NaN        Algeria 2020-01-22      0\n",
              "3            NaN        Andorra 2020-01-22      0\n",
              "4            NaN         Angola 2020-01-22      0"
            ],
            "text/html": [
              "\n",
              "  <div id=\"df-0cf00231-b557-4d2c-9a8c-0be181eba058\">\n",
              "    <div class=\"colab-df-container\">\n",
              "      <div>\n",
              "<style scoped>\n",
              "    .dataframe tbody tr th:only-of-type {\n",
              "        vertical-align: middle;\n",
              "    }\n",
              "\n",
              "    .dataframe tbody tr th {\n",
              "        vertical-align: top;\n",
              "    }\n",
              "\n",
              "    .dataframe thead th {\n",
              "        text-align: right;\n",
              "    }\n",
              "</style>\n",
              "<table border=\"1\" class=\"dataframe\">\n",
              "  <thead>\n",
              "    <tr style=\"text-align: right;\">\n",
              "      <th></th>\n",
              "      <th>Province/State</th>\n",
              "      <th>Country/Region</th>\n",
              "      <th>Dates</th>\n",
              "      <th>Count</th>\n",
              "    </tr>\n",
              "  </thead>\n",
              "  <tbody>\n",
              "    <tr>\n",
              "      <th>0</th>\n",
              "      <td>NaN</td>\n",
              "      <td>Afghanistan</td>\n",
              "      <td>2020-01-22</td>\n",
              "      <td>0</td>\n",
              "    </tr>\n",
              "    <tr>\n",
              "      <th>1</th>\n",
              "      <td>NaN</td>\n",
              "      <td>Albania</td>\n",
              "      <td>2020-01-22</td>\n",
              "      <td>0</td>\n",
              "    </tr>\n",
              "    <tr>\n",
              "      <th>2</th>\n",
              "      <td>NaN</td>\n",
              "      <td>Algeria</td>\n",
              "      <td>2020-01-22</td>\n",
              "      <td>0</td>\n",
              "    </tr>\n",
              "    <tr>\n",
              "      <th>3</th>\n",
              "      <td>NaN</td>\n",
              "      <td>Andorra</td>\n",
              "      <td>2020-01-22</td>\n",
              "      <td>0</td>\n",
              "    </tr>\n",
              "    <tr>\n",
              "      <th>4</th>\n",
              "      <td>NaN</td>\n",
              "      <td>Angola</td>\n",
              "      <td>2020-01-22</td>\n",
              "      <td>0</td>\n",
              "    </tr>\n",
              "  </tbody>\n",
              "</table>\n",
              "</div>\n",
              "      <button class=\"colab-df-convert\" onclick=\"convertToInteractive('df-0cf00231-b557-4d2c-9a8c-0be181eba058')\"\n",
              "              title=\"Convert this dataframe to an interactive table.\"\n",
              "              style=\"display:none;\">\n",
              "        \n",
              "  <svg xmlns=\"http://www.w3.org/2000/svg\" height=\"24px\"viewBox=\"0 0 24 24\"\n",
              "       width=\"24px\">\n",
              "    <path d=\"M0 0h24v24H0V0z\" fill=\"none\"/>\n",
              "    <path d=\"M18.56 5.44l.94 2.06.94-2.06 2.06-.94-2.06-.94-.94-2.06-.94 2.06-2.06.94zm-11 1L8.5 8.5l.94-2.06 2.06-.94-2.06-.94L8.5 2.5l-.94 2.06-2.06.94zm10 10l.94 2.06.94-2.06 2.06-.94-2.06-.94-.94-2.06-.94 2.06-2.06.94z\"/><path d=\"M17.41 7.96l-1.37-1.37c-.4-.4-.92-.59-1.43-.59-.52 0-1.04.2-1.43.59L10.3 9.45l-7.72 7.72c-.78.78-.78 2.05 0 2.83L4 21.41c.39.39.9.59 1.41.59.51 0 1.02-.2 1.41-.59l7.78-7.78 2.81-2.81c.8-.78.8-2.07 0-2.86zM5.41 20L4 18.59l7.72-7.72 1.47 1.35L5.41 20z\"/>\n",
              "  </svg>\n",
              "      </button>\n",
              "      \n",
              "  <style>\n",
              "    .colab-df-container {\n",
              "      display:flex;\n",
              "      flex-wrap:wrap;\n",
              "      gap: 12px;\n",
              "    }\n",
              "\n",
              "    .colab-df-convert {\n",
              "      background-color: #E8F0FE;\n",
              "      border: none;\n",
              "      border-radius: 50%;\n",
              "      cursor: pointer;\n",
              "      display: none;\n",
              "      fill: #1967D2;\n",
              "      height: 32px;\n",
              "      padding: 0 0 0 0;\n",
              "      width: 32px;\n",
              "    }\n",
              "\n",
              "    .colab-df-convert:hover {\n",
              "      background-color: #E2EBFA;\n",
              "      box-shadow: 0px 1px 2px rgba(60, 64, 67, 0.3), 0px 1px 3px 1px rgba(60, 64, 67, 0.15);\n",
              "      fill: #174EA6;\n",
              "    }\n",
              "\n",
              "    [theme=dark] .colab-df-convert {\n",
              "      background-color: #3B4455;\n",
              "      fill: #D2E3FC;\n",
              "    }\n",
              "\n",
              "    [theme=dark] .colab-df-convert:hover {\n",
              "      background-color: #434B5C;\n",
              "      box-shadow: 0px 1px 3px 1px rgba(0, 0, 0, 0.15);\n",
              "      filter: drop-shadow(0px 1px 2px rgba(0, 0, 0, 0.3));\n",
              "      fill: #FFFFFF;\n",
              "    }\n",
              "  </style>\n",
              "\n",
              "      <script>\n",
              "        const buttonEl =\n",
              "          document.querySelector('#df-0cf00231-b557-4d2c-9a8c-0be181eba058 button.colab-df-convert');\n",
              "        buttonEl.style.display =\n",
              "          google.colab.kernel.accessAllowed ? 'block' : 'none';\n",
              "\n",
              "        async function convertToInteractive(key) {\n",
              "          const element = document.querySelector('#df-0cf00231-b557-4d2c-9a8c-0be181eba058');\n",
              "          const dataTable =\n",
              "            await google.colab.kernel.invokeFunction('convertToInteractive',\n",
              "                                                     [key], {});\n",
              "          if (!dataTable) return;\n",
              "\n",
              "          const docLinkHtml = 'Like what you see? Visit the ' +\n",
              "            '<a target=\"_blank\" href=https://colab.research.google.com/notebooks/data_table.ipynb>data table notebook</a>'\n",
              "            + ' to learn more about interactive tables.';\n",
              "          element.innerHTML = '';\n",
              "          dataTable['output_type'] = 'display_data';\n",
              "          await google.colab.output.renderOutput(dataTable, element);\n",
              "          const docLink = document.createElement('div');\n",
              "          docLink.innerHTML = docLinkHtml;\n",
              "          element.appendChild(docLink);\n",
              "        }\n",
              "      </script>\n",
              "    </div>\n",
              "  </div>\n",
              "  "
            ]
          },
          "metadata": {},
          "execution_count": 3
        }
      ]
    },
    {
      "cell_type": "code",
      "metadata": {
        "id": "RE9nxt2Ed1U8",
        "colab": {
          "base_uri": "https://localhost:8080/",
          "height": 206
        },
        "outputId": "aa0a6c8a-8432-4704-8580-c623de1c8493"
      },
      "source": [
        "df = pd.read_csv(files[1])\n",
        "confirmed_US = df.melt(['Province_State', 'Country_Region'], df.columns[11:], var_name='Dates', value_name='Count')\n",
        "confirmed_US.rename(columns={\"Province_State\": \"Province/State\", \"Country_Region\": \"Country/Region\"}, inplace=True)\n",
        "confirmed_US.Dates = pd.to_datetime(confirmed_US.Dates)\n",
        "confirmed_US.head()"
      ],
      "execution_count": null,
      "outputs": [
        {
          "output_type": "execute_result",
          "data": {
            "text/plain": [
              "  Province/State Country/Region      Dates  Count\n",
              "0        Alabama             US 2020-01-22      0\n",
              "1        Alabama             US 2020-01-22      0\n",
              "2        Alabama             US 2020-01-22      0\n",
              "3        Alabama             US 2020-01-22      0\n",
              "4        Alabama             US 2020-01-22      0"
            ],
            "text/html": [
              "\n",
              "  <div id=\"df-22d95859-aaa2-4314-9356-6b8e463db902\">\n",
              "    <div class=\"colab-df-container\">\n",
              "      <div>\n",
              "<style scoped>\n",
              "    .dataframe tbody tr th:only-of-type {\n",
              "        vertical-align: middle;\n",
              "    }\n",
              "\n",
              "    .dataframe tbody tr th {\n",
              "        vertical-align: top;\n",
              "    }\n",
              "\n",
              "    .dataframe thead th {\n",
              "        text-align: right;\n",
              "    }\n",
              "</style>\n",
              "<table border=\"1\" class=\"dataframe\">\n",
              "  <thead>\n",
              "    <tr style=\"text-align: right;\">\n",
              "      <th></th>\n",
              "      <th>Province/State</th>\n",
              "      <th>Country/Region</th>\n",
              "      <th>Dates</th>\n",
              "      <th>Count</th>\n",
              "    </tr>\n",
              "  </thead>\n",
              "  <tbody>\n",
              "    <tr>\n",
              "      <th>0</th>\n",
              "      <td>Alabama</td>\n",
              "      <td>US</td>\n",
              "      <td>2020-01-22</td>\n",
              "      <td>0</td>\n",
              "    </tr>\n",
              "    <tr>\n",
              "      <th>1</th>\n",
              "      <td>Alabama</td>\n",
              "      <td>US</td>\n",
              "      <td>2020-01-22</td>\n",
              "      <td>0</td>\n",
              "    </tr>\n",
              "    <tr>\n",
              "      <th>2</th>\n",
              "      <td>Alabama</td>\n",
              "      <td>US</td>\n",
              "      <td>2020-01-22</td>\n",
              "      <td>0</td>\n",
              "    </tr>\n",
              "    <tr>\n",
              "      <th>3</th>\n",
              "      <td>Alabama</td>\n",
              "      <td>US</td>\n",
              "      <td>2020-01-22</td>\n",
              "      <td>0</td>\n",
              "    </tr>\n",
              "    <tr>\n",
              "      <th>4</th>\n",
              "      <td>Alabama</td>\n",
              "      <td>US</td>\n",
              "      <td>2020-01-22</td>\n",
              "      <td>0</td>\n",
              "    </tr>\n",
              "  </tbody>\n",
              "</table>\n",
              "</div>\n",
              "      <button class=\"colab-df-convert\" onclick=\"convertToInteractive('df-22d95859-aaa2-4314-9356-6b8e463db902')\"\n",
              "              title=\"Convert this dataframe to an interactive table.\"\n",
              "              style=\"display:none;\">\n",
              "        \n",
              "  <svg xmlns=\"http://www.w3.org/2000/svg\" height=\"24px\"viewBox=\"0 0 24 24\"\n",
              "       width=\"24px\">\n",
              "    <path d=\"M0 0h24v24H0V0z\" fill=\"none\"/>\n",
              "    <path d=\"M18.56 5.44l.94 2.06.94-2.06 2.06-.94-2.06-.94-.94-2.06-.94 2.06-2.06.94zm-11 1L8.5 8.5l.94-2.06 2.06-.94-2.06-.94L8.5 2.5l-.94 2.06-2.06.94zm10 10l.94 2.06.94-2.06 2.06-.94-2.06-.94-.94-2.06-.94 2.06-2.06.94z\"/><path d=\"M17.41 7.96l-1.37-1.37c-.4-.4-.92-.59-1.43-.59-.52 0-1.04.2-1.43.59L10.3 9.45l-7.72 7.72c-.78.78-.78 2.05 0 2.83L4 21.41c.39.39.9.59 1.41.59.51 0 1.02-.2 1.41-.59l7.78-7.78 2.81-2.81c.8-.78.8-2.07 0-2.86zM5.41 20L4 18.59l7.72-7.72 1.47 1.35L5.41 20z\"/>\n",
              "  </svg>\n",
              "      </button>\n",
              "      \n",
              "  <style>\n",
              "    .colab-df-container {\n",
              "      display:flex;\n",
              "      flex-wrap:wrap;\n",
              "      gap: 12px;\n",
              "    }\n",
              "\n",
              "    .colab-df-convert {\n",
              "      background-color: #E8F0FE;\n",
              "      border: none;\n",
              "      border-radius: 50%;\n",
              "      cursor: pointer;\n",
              "      display: none;\n",
              "      fill: #1967D2;\n",
              "      height: 32px;\n",
              "      padding: 0 0 0 0;\n",
              "      width: 32px;\n",
              "    }\n",
              "\n",
              "    .colab-df-convert:hover {\n",
              "      background-color: #E2EBFA;\n",
              "      box-shadow: 0px 1px 2px rgba(60, 64, 67, 0.3), 0px 1px 3px 1px rgba(60, 64, 67, 0.15);\n",
              "      fill: #174EA6;\n",
              "    }\n",
              "\n",
              "    [theme=dark] .colab-df-convert {\n",
              "      background-color: #3B4455;\n",
              "      fill: #D2E3FC;\n",
              "    }\n",
              "\n",
              "    [theme=dark] .colab-df-convert:hover {\n",
              "      background-color: #434B5C;\n",
              "      box-shadow: 0px 1px 3px 1px rgba(0, 0, 0, 0.15);\n",
              "      filter: drop-shadow(0px 1px 2px rgba(0, 0, 0, 0.3));\n",
              "      fill: #FFFFFF;\n",
              "    }\n",
              "  </style>\n",
              "\n",
              "      <script>\n",
              "        const buttonEl =\n",
              "          document.querySelector('#df-22d95859-aaa2-4314-9356-6b8e463db902 button.colab-df-convert');\n",
              "        buttonEl.style.display =\n",
              "          google.colab.kernel.accessAllowed ? 'block' : 'none';\n",
              "\n",
              "        async function convertToInteractive(key) {\n",
              "          const element = document.querySelector('#df-22d95859-aaa2-4314-9356-6b8e463db902');\n",
              "          const dataTable =\n",
              "            await google.colab.kernel.invokeFunction('convertToInteractive',\n",
              "                                                     [key], {});\n",
              "          if (!dataTable) return;\n",
              "\n",
              "          const docLinkHtml = 'Like what you see? Visit the ' +\n",
              "            '<a target=\"_blank\" href=https://colab.research.google.com/notebooks/data_table.ipynb>data table notebook</a>'\n",
              "            + ' to learn more about interactive tables.';\n",
              "          element.innerHTML = '';\n",
              "          dataTable['output_type'] = 'display_data';\n",
              "          await google.colab.output.renderOutput(dataTable, element);\n",
              "          const docLink = document.createElement('div');\n",
              "          docLink.innerHTML = docLinkHtml;\n",
              "          element.appendChild(docLink);\n",
              "        }\n",
              "      </script>\n",
              "    </div>\n",
              "  </div>\n",
              "  "
            ]
          },
          "metadata": {},
          "execution_count": 4
        }
      ]
    },
    {
      "cell_type": "code",
      "metadata": {
        "id": "DSlc_ka_d1VE",
        "colab": {
          "base_uri": "https://localhost:8080/",
          "height": 206
        },
        "outputId": "b01d9810-ed1d-4bbc-ec49-f203ec0d746d"
      },
      "source": [
        "df = pd.read_csv(files[2])\n",
        "deaths = df.melt(['Province/State', 'Country/Region'], df.columns[4:], var_name='Dates', value_name='Count')\n",
        "deaths.Dates = pd.to_datetime(deaths.Dates)\n",
        "deaths.head()"
      ],
      "execution_count": null,
      "outputs": [
        {
          "output_type": "execute_result",
          "data": {
            "text/plain": [
              "  Province/State Country/Region      Dates  Count\n",
              "0            NaN    Afghanistan 2020-01-22      0\n",
              "1            NaN        Albania 2020-01-22      0\n",
              "2            NaN        Algeria 2020-01-22      0\n",
              "3            NaN        Andorra 2020-01-22      0\n",
              "4            NaN         Angola 2020-01-22      0"
            ],
            "text/html": [
              "\n",
              "  <div id=\"df-7e969ac7-239e-4aa9-83f0-cf5cdd7cc149\">\n",
              "    <div class=\"colab-df-container\">\n",
              "      <div>\n",
              "<style scoped>\n",
              "    .dataframe tbody tr th:only-of-type {\n",
              "        vertical-align: middle;\n",
              "    }\n",
              "\n",
              "    .dataframe tbody tr th {\n",
              "        vertical-align: top;\n",
              "    }\n",
              "\n",
              "    .dataframe thead th {\n",
              "        text-align: right;\n",
              "    }\n",
              "</style>\n",
              "<table border=\"1\" class=\"dataframe\">\n",
              "  <thead>\n",
              "    <tr style=\"text-align: right;\">\n",
              "      <th></th>\n",
              "      <th>Province/State</th>\n",
              "      <th>Country/Region</th>\n",
              "      <th>Dates</th>\n",
              "      <th>Count</th>\n",
              "    </tr>\n",
              "  </thead>\n",
              "  <tbody>\n",
              "    <tr>\n",
              "      <th>0</th>\n",
              "      <td>NaN</td>\n",
              "      <td>Afghanistan</td>\n",
              "      <td>2020-01-22</td>\n",
              "      <td>0</td>\n",
              "    </tr>\n",
              "    <tr>\n",
              "      <th>1</th>\n",
              "      <td>NaN</td>\n",
              "      <td>Albania</td>\n",
              "      <td>2020-01-22</td>\n",
              "      <td>0</td>\n",
              "    </tr>\n",
              "    <tr>\n",
              "      <th>2</th>\n",
              "      <td>NaN</td>\n",
              "      <td>Algeria</td>\n",
              "      <td>2020-01-22</td>\n",
              "      <td>0</td>\n",
              "    </tr>\n",
              "    <tr>\n",
              "      <th>3</th>\n",
              "      <td>NaN</td>\n",
              "      <td>Andorra</td>\n",
              "      <td>2020-01-22</td>\n",
              "      <td>0</td>\n",
              "    </tr>\n",
              "    <tr>\n",
              "      <th>4</th>\n",
              "      <td>NaN</td>\n",
              "      <td>Angola</td>\n",
              "      <td>2020-01-22</td>\n",
              "      <td>0</td>\n",
              "    </tr>\n",
              "  </tbody>\n",
              "</table>\n",
              "</div>\n",
              "      <button class=\"colab-df-convert\" onclick=\"convertToInteractive('df-7e969ac7-239e-4aa9-83f0-cf5cdd7cc149')\"\n",
              "              title=\"Convert this dataframe to an interactive table.\"\n",
              "              style=\"display:none;\">\n",
              "        \n",
              "  <svg xmlns=\"http://www.w3.org/2000/svg\" height=\"24px\"viewBox=\"0 0 24 24\"\n",
              "       width=\"24px\">\n",
              "    <path d=\"M0 0h24v24H0V0z\" fill=\"none\"/>\n",
              "    <path d=\"M18.56 5.44l.94 2.06.94-2.06 2.06-.94-2.06-.94-.94-2.06-.94 2.06-2.06.94zm-11 1L8.5 8.5l.94-2.06 2.06-.94-2.06-.94L8.5 2.5l-.94 2.06-2.06.94zm10 10l.94 2.06.94-2.06 2.06-.94-2.06-.94-.94-2.06-.94 2.06-2.06.94z\"/><path d=\"M17.41 7.96l-1.37-1.37c-.4-.4-.92-.59-1.43-.59-.52 0-1.04.2-1.43.59L10.3 9.45l-7.72 7.72c-.78.78-.78 2.05 0 2.83L4 21.41c.39.39.9.59 1.41.59.51 0 1.02-.2 1.41-.59l7.78-7.78 2.81-2.81c.8-.78.8-2.07 0-2.86zM5.41 20L4 18.59l7.72-7.72 1.47 1.35L5.41 20z\"/>\n",
              "  </svg>\n",
              "      </button>\n",
              "      \n",
              "  <style>\n",
              "    .colab-df-container {\n",
              "      display:flex;\n",
              "      flex-wrap:wrap;\n",
              "      gap: 12px;\n",
              "    }\n",
              "\n",
              "    .colab-df-convert {\n",
              "      background-color: #E8F0FE;\n",
              "      border: none;\n",
              "      border-radius: 50%;\n",
              "      cursor: pointer;\n",
              "      display: none;\n",
              "      fill: #1967D2;\n",
              "      height: 32px;\n",
              "      padding: 0 0 0 0;\n",
              "      width: 32px;\n",
              "    }\n",
              "\n",
              "    .colab-df-convert:hover {\n",
              "      background-color: #E2EBFA;\n",
              "      box-shadow: 0px 1px 2px rgba(60, 64, 67, 0.3), 0px 1px 3px 1px rgba(60, 64, 67, 0.15);\n",
              "      fill: #174EA6;\n",
              "    }\n",
              "\n",
              "    [theme=dark] .colab-df-convert {\n",
              "      background-color: #3B4455;\n",
              "      fill: #D2E3FC;\n",
              "    }\n",
              "\n",
              "    [theme=dark] .colab-df-convert:hover {\n",
              "      background-color: #434B5C;\n",
              "      box-shadow: 0px 1px 3px 1px rgba(0, 0, 0, 0.15);\n",
              "      filter: drop-shadow(0px 1px 2px rgba(0, 0, 0, 0.3));\n",
              "      fill: #FFFFFF;\n",
              "    }\n",
              "  </style>\n",
              "\n",
              "      <script>\n",
              "        const buttonEl =\n",
              "          document.querySelector('#df-7e969ac7-239e-4aa9-83f0-cf5cdd7cc149 button.colab-df-convert');\n",
              "        buttonEl.style.display =\n",
              "          google.colab.kernel.accessAllowed ? 'block' : 'none';\n",
              "\n",
              "        async function convertToInteractive(key) {\n",
              "          const element = document.querySelector('#df-7e969ac7-239e-4aa9-83f0-cf5cdd7cc149');\n",
              "          const dataTable =\n",
              "            await google.colab.kernel.invokeFunction('convertToInteractive',\n",
              "                                                     [key], {});\n",
              "          if (!dataTable) return;\n",
              "\n",
              "          const docLinkHtml = 'Like what you see? Visit the ' +\n",
              "            '<a target=\"_blank\" href=https://colab.research.google.com/notebooks/data_table.ipynb>data table notebook</a>'\n",
              "            + ' to learn more about interactive tables.';\n",
              "          element.innerHTML = '';\n",
              "          dataTable['output_type'] = 'display_data';\n",
              "          await google.colab.output.renderOutput(dataTable, element);\n",
              "          const docLink = document.createElement('div');\n",
              "          docLink.innerHTML = docLinkHtml;\n",
              "          element.appendChild(docLink);\n",
              "        }\n",
              "      </script>\n",
              "    </div>\n",
              "  </div>\n",
              "  "
            ]
          },
          "metadata": {},
          "execution_count": 5
        }
      ]
    },
    {
      "cell_type": "code",
      "metadata": {
        "id": "zG1LZ_BZd1VJ",
        "colab": {
          "base_uri": "https://localhost:8080/",
          "height": 206
        },
        "outputId": "ed30dcdf-8d08-4090-cdc8-27611eb7dfe4"
      },
      "source": [
        "df = pd.read_csv(files[3])\n",
        "deaths_US = df.melt(['Province_State', 'Country_Region'], df.columns[12:], var_name='Dates', value_name='Count')\n",
        "deaths_US.rename(columns={\"Province_State\": \"Province/State\", \"Country_Region\": \"Country/Region\"}, inplace=True)\n",
        "deaths_US.Dates = pd.to_datetime(deaths_US.Dates)\n",
        "deaths_US.head()"
      ],
      "execution_count": null,
      "outputs": [
        {
          "output_type": "execute_result",
          "data": {
            "text/plain": [
              "  Province/State Country/Region      Dates  Count\n",
              "0        Alabama             US 2020-01-22      0\n",
              "1        Alabama             US 2020-01-22      0\n",
              "2        Alabama             US 2020-01-22      0\n",
              "3        Alabama             US 2020-01-22      0\n",
              "4        Alabama             US 2020-01-22      0"
            ],
            "text/html": [
              "\n",
              "  <div id=\"df-c4b9d462-6174-4ade-9bb3-66884e5c5e45\">\n",
              "    <div class=\"colab-df-container\">\n",
              "      <div>\n",
              "<style scoped>\n",
              "    .dataframe tbody tr th:only-of-type {\n",
              "        vertical-align: middle;\n",
              "    }\n",
              "\n",
              "    .dataframe tbody tr th {\n",
              "        vertical-align: top;\n",
              "    }\n",
              "\n",
              "    .dataframe thead th {\n",
              "        text-align: right;\n",
              "    }\n",
              "</style>\n",
              "<table border=\"1\" class=\"dataframe\">\n",
              "  <thead>\n",
              "    <tr style=\"text-align: right;\">\n",
              "      <th></th>\n",
              "      <th>Province/State</th>\n",
              "      <th>Country/Region</th>\n",
              "      <th>Dates</th>\n",
              "      <th>Count</th>\n",
              "    </tr>\n",
              "  </thead>\n",
              "  <tbody>\n",
              "    <tr>\n",
              "      <th>0</th>\n",
              "      <td>Alabama</td>\n",
              "      <td>US</td>\n",
              "      <td>2020-01-22</td>\n",
              "      <td>0</td>\n",
              "    </tr>\n",
              "    <tr>\n",
              "      <th>1</th>\n",
              "      <td>Alabama</td>\n",
              "      <td>US</td>\n",
              "      <td>2020-01-22</td>\n",
              "      <td>0</td>\n",
              "    </tr>\n",
              "    <tr>\n",
              "      <th>2</th>\n",
              "      <td>Alabama</td>\n",
              "      <td>US</td>\n",
              "      <td>2020-01-22</td>\n",
              "      <td>0</td>\n",
              "    </tr>\n",
              "    <tr>\n",
              "      <th>3</th>\n",
              "      <td>Alabama</td>\n",
              "      <td>US</td>\n",
              "      <td>2020-01-22</td>\n",
              "      <td>0</td>\n",
              "    </tr>\n",
              "    <tr>\n",
              "      <th>4</th>\n",
              "      <td>Alabama</td>\n",
              "      <td>US</td>\n",
              "      <td>2020-01-22</td>\n",
              "      <td>0</td>\n",
              "    </tr>\n",
              "  </tbody>\n",
              "</table>\n",
              "</div>\n",
              "      <button class=\"colab-df-convert\" onclick=\"convertToInteractive('df-c4b9d462-6174-4ade-9bb3-66884e5c5e45')\"\n",
              "              title=\"Convert this dataframe to an interactive table.\"\n",
              "              style=\"display:none;\">\n",
              "        \n",
              "  <svg xmlns=\"http://www.w3.org/2000/svg\" height=\"24px\"viewBox=\"0 0 24 24\"\n",
              "       width=\"24px\">\n",
              "    <path d=\"M0 0h24v24H0V0z\" fill=\"none\"/>\n",
              "    <path d=\"M18.56 5.44l.94 2.06.94-2.06 2.06-.94-2.06-.94-.94-2.06-.94 2.06-2.06.94zm-11 1L8.5 8.5l.94-2.06 2.06-.94-2.06-.94L8.5 2.5l-.94 2.06-2.06.94zm10 10l.94 2.06.94-2.06 2.06-.94-2.06-.94-.94-2.06-.94 2.06-2.06.94z\"/><path d=\"M17.41 7.96l-1.37-1.37c-.4-.4-.92-.59-1.43-.59-.52 0-1.04.2-1.43.59L10.3 9.45l-7.72 7.72c-.78.78-.78 2.05 0 2.83L4 21.41c.39.39.9.59 1.41.59.51 0 1.02-.2 1.41-.59l7.78-7.78 2.81-2.81c.8-.78.8-2.07 0-2.86zM5.41 20L4 18.59l7.72-7.72 1.47 1.35L5.41 20z\"/>\n",
              "  </svg>\n",
              "      </button>\n",
              "      \n",
              "  <style>\n",
              "    .colab-df-container {\n",
              "      display:flex;\n",
              "      flex-wrap:wrap;\n",
              "      gap: 12px;\n",
              "    }\n",
              "\n",
              "    .colab-df-convert {\n",
              "      background-color: #E8F0FE;\n",
              "      border: none;\n",
              "      border-radius: 50%;\n",
              "      cursor: pointer;\n",
              "      display: none;\n",
              "      fill: #1967D2;\n",
              "      height: 32px;\n",
              "      padding: 0 0 0 0;\n",
              "      width: 32px;\n",
              "    }\n",
              "\n",
              "    .colab-df-convert:hover {\n",
              "      background-color: #E2EBFA;\n",
              "      box-shadow: 0px 1px 2px rgba(60, 64, 67, 0.3), 0px 1px 3px 1px rgba(60, 64, 67, 0.15);\n",
              "      fill: #174EA6;\n",
              "    }\n",
              "\n",
              "    [theme=dark] .colab-df-convert {\n",
              "      background-color: #3B4455;\n",
              "      fill: #D2E3FC;\n",
              "    }\n",
              "\n",
              "    [theme=dark] .colab-df-convert:hover {\n",
              "      background-color: #434B5C;\n",
              "      box-shadow: 0px 1px 3px 1px rgba(0, 0, 0, 0.15);\n",
              "      filter: drop-shadow(0px 1px 2px rgba(0, 0, 0, 0.3));\n",
              "      fill: #FFFFFF;\n",
              "    }\n",
              "  </style>\n",
              "\n",
              "      <script>\n",
              "        const buttonEl =\n",
              "          document.querySelector('#df-c4b9d462-6174-4ade-9bb3-66884e5c5e45 button.colab-df-convert');\n",
              "        buttonEl.style.display =\n",
              "          google.colab.kernel.accessAllowed ? 'block' : 'none';\n",
              "\n",
              "        async function convertToInteractive(key) {\n",
              "          const element = document.querySelector('#df-c4b9d462-6174-4ade-9bb3-66884e5c5e45');\n",
              "          const dataTable =\n",
              "            await google.colab.kernel.invokeFunction('convertToInteractive',\n",
              "                                                     [key], {});\n",
              "          if (!dataTable) return;\n",
              "\n",
              "          const docLinkHtml = 'Like what you see? Visit the ' +\n",
              "            '<a target=\"_blank\" href=https://colab.research.google.com/notebooks/data_table.ipynb>data table notebook</a>'\n",
              "            + ' to learn more about interactive tables.';\n",
              "          element.innerHTML = '';\n",
              "          dataTable['output_type'] = 'display_data';\n",
              "          await google.colab.output.renderOutput(dataTable, element);\n",
              "          const docLink = document.createElement('div');\n",
              "          docLink.innerHTML = docLinkHtml;\n",
              "          element.appendChild(docLink);\n",
              "        }\n",
              "      </script>\n",
              "    </div>\n",
              "  </div>\n",
              "  "
            ]
          },
          "metadata": {},
          "execution_count": 6
        }
      ]
    },
    {
      "cell_type": "code",
      "metadata": {
        "id": "7Jhn6DaSd1VN",
        "colab": {
          "base_uri": "https://localhost:8080/",
          "height": 206
        },
        "outputId": "27c519fc-c390-4258-8d4a-cd05bacffc2d"
      },
      "source": [
        "df = pd.read_csv(files[4])\n",
        "recovered = df.melt(['Province/State', 'Country/Region'], df.columns[4:], var_name='Dates', value_name='Count')\n",
        "recovered.Dates = pd.to_datetime(recovered.Dates)\n",
        "recovered.head()"
      ],
      "execution_count": null,
      "outputs": [
        {
          "output_type": "execute_result",
          "data": {
            "text/plain": [
              "  Province/State Country/Region      Dates  Count\n",
              "0            NaN    Afghanistan 2020-01-22      0\n",
              "1            NaN        Albania 2020-01-22      0\n",
              "2            NaN        Algeria 2020-01-22      0\n",
              "3            NaN        Andorra 2020-01-22      0\n",
              "4            NaN         Angola 2020-01-22      0"
            ],
            "text/html": [
              "\n",
              "  <div id=\"df-3fbf9bfc-5bf9-46c2-8127-2a5f66f2a9b9\">\n",
              "    <div class=\"colab-df-container\">\n",
              "      <div>\n",
              "<style scoped>\n",
              "    .dataframe tbody tr th:only-of-type {\n",
              "        vertical-align: middle;\n",
              "    }\n",
              "\n",
              "    .dataframe tbody tr th {\n",
              "        vertical-align: top;\n",
              "    }\n",
              "\n",
              "    .dataframe thead th {\n",
              "        text-align: right;\n",
              "    }\n",
              "</style>\n",
              "<table border=\"1\" class=\"dataframe\">\n",
              "  <thead>\n",
              "    <tr style=\"text-align: right;\">\n",
              "      <th></th>\n",
              "      <th>Province/State</th>\n",
              "      <th>Country/Region</th>\n",
              "      <th>Dates</th>\n",
              "      <th>Count</th>\n",
              "    </tr>\n",
              "  </thead>\n",
              "  <tbody>\n",
              "    <tr>\n",
              "      <th>0</th>\n",
              "      <td>NaN</td>\n",
              "      <td>Afghanistan</td>\n",
              "      <td>2020-01-22</td>\n",
              "      <td>0</td>\n",
              "    </tr>\n",
              "    <tr>\n",
              "      <th>1</th>\n",
              "      <td>NaN</td>\n",
              "      <td>Albania</td>\n",
              "      <td>2020-01-22</td>\n",
              "      <td>0</td>\n",
              "    </tr>\n",
              "    <tr>\n",
              "      <th>2</th>\n",
              "      <td>NaN</td>\n",
              "      <td>Algeria</td>\n",
              "      <td>2020-01-22</td>\n",
              "      <td>0</td>\n",
              "    </tr>\n",
              "    <tr>\n",
              "      <th>3</th>\n",
              "      <td>NaN</td>\n",
              "      <td>Andorra</td>\n",
              "      <td>2020-01-22</td>\n",
              "      <td>0</td>\n",
              "    </tr>\n",
              "    <tr>\n",
              "      <th>4</th>\n",
              "      <td>NaN</td>\n",
              "      <td>Angola</td>\n",
              "      <td>2020-01-22</td>\n",
              "      <td>0</td>\n",
              "    </tr>\n",
              "  </tbody>\n",
              "</table>\n",
              "</div>\n",
              "      <button class=\"colab-df-convert\" onclick=\"convertToInteractive('df-3fbf9bfc-5bf9-46c2-8127-2a5f66f2a9b9')\"\n",
              "              title=\"Convert this dataframe to an interactive table.\"\n",
              "              style=\"display:none;\">\n",
              "        \n",
              "  <svg xmlns=\"http://www.w3.org/2000/svg\" height=\"24px\"viewBox=\"0 0 24 24\"\n",
              "       width=\"24px\">\n",
              "    <path d=\"M0 0h24v24H0V0z\" fill=\"none\"/>\n",
              "    <path d=\"M18.56 5.44l.94 2.06.94-2.06 2.06-.94-2.06-.94-.94-2.06-.94 2.06-2.06.94zm-11 1L8.5 8.5l.94-2.06 2.06-.94-2.06-.94L8.5 2.5l-.94 2.06-2.06.94zm10 10l.94 2.06.94-2.06 2.06-.94-2.06-.94-.94-2.06-.94 2.06-2.06.94z\"/><path d=\"M17.41 7.96l-1.37-1.37c-.4-.4-.92-.59-1.43-.59-.52 0-1.04.2-1.43.59L10.3 9.45l-7.72 7.72c-.78.78-.78 2.05 0 2.83L4 21.41c.39.39.9.59 1.41.59.51 0 1.02-.2 1.41-.59l7.78-7.78 2.81-2.81c.8-.78.8-2.07 0-2.86zM5.41 20L4 18.59l7.72-7.72 1.47 1.35L5.41 20z\"/>\n",
              "  </svg>\n",
              "      </button>\n",
              "      \n",
              "  <style>\n",
              "    .colab-df-container {\n",
              "      display:flex;\n",
              "      flex-wrap:wrap;\n",
              "      gap: 12px;\n",
              "    }\n",
              "\n",
              "    .colab-df-convert {\n",
              "      background-color: #E8F0FE;\n",
              "      border: none;\n",
              "      border-radius: 50%;\n",
              "      cursor: pointer;\n",
              "      display: none;\n",
              "      fill: #1967D2;\n",
              "      height: 32px;\n",
              "      padding: 0 0 0 0;\n",
              "      width: 32px;\n",
              "    }\n",
              "\n",
              "    .colab-df-convert:hover {\n",
              "      background-color: #E2EBFA;\n",
              "      box-shadow: 0px 1px 2px rgba(60, 64, 67, 0.3), 0px 1px 3px 1px rgba(60, 64, 67, 0.15);\n",
              "      fill: #174EA6;\n",
              "    }\n",
              "\n",
              "    [theme=dark] .colab-df-convert {\n",
              "      background-color: #3B4455;\n",
              "      fill: #D2E3FC;\n",
              "    }\n",
              "\n",
              "    [theme=dark] .colab-df-convert:hover {\n",
              "      background-color: #434B5C;\n",
              "      box-shadow: 0px 1px 3px 1px rgba(0, 0, 0, 0.15);\n",
              "      filter: drop-shadow(0px 1px 2px rgba(0, 0, 0, 0.3));\n",
              "      fill: #FFFFFF;\n",
              "    }\n",
              "  </style>\n",
              "\n",
              "      <script>\n",
              "        const buttonEl =\n",
              "          document.querySelector('#df-3fbf9bfc-5bf9-46c2-8127-2a5f66f2a9b9 button.colab-df-convert');\n",
              "        buttonEl.style.display =\n",
              "          google.colab.kernel.accessAllowed ? 'block' : 'none';\n",
              "\n",
              "        async function convertToInteractive(key) {\n",
              "          const element = document.querySelector('#df-3fbf9bfc-5bf9-46c2-8127-2a5f66f2a9b9');\n",
              "          const dataTable =\n",
              "            await google.colab.kernel.invokeFunction('convertToInteractive',\n",
              "                                                     [key], {});\n",
              "          if (!dataTable) return;\n",
              "\n",
              "          const docLinkHtml = 'Like what you see? Visit the ' +\n",
              "            '<a target=\"_blank\" href=https://colab.research.google.com/notebooks/data_table.ipynb>data table notebook</a>'\n",
              "            + ' to learn more about interactive tables.';\n",
              "          element.innerHTML = '';\n",
              "          dataTable['output_type'] = 'display_data';\n",
              "          await google.colab.output.renderOutput(dataTable, element);\n",
              "          const docLink = document.createElement('div');\n",
              "          docLink.innerHTML = docLinkHtml;\n",
              "          element.appendChild(docLink);\n",
              "        }\n",
              "      </script>\n",
              "    </div>\n",
              "  </div>\n",
              "  "
            ]
          },
          "metadata": {},
          "execution_count": 7
        }
      ]
    },
    {
      "cell_type": "code",
      "metadata": {
        "id": "rzdQ8yezd1VP",
        "colab": {
          "base_uri": "https://localhost:8080/",
          "height": 206
        },
        "outputId": "615748cc-71d0-4076-db91-1b284424bce3"
      },
      "source": [
        "df1 = confirmed.groupby('Dates').sum().reset_index()\n",
        "df2 = deaths.groupby('Dates').sum().reset_index()\n",
        "df3 = recovered.groupby('Dates').sum().reset_index()\n",
        "\n",
        "cdr = pd.DataFrame({\n",
        "    'date': df1.Dates,\n",
        "    'confirmed': df1.Count,\n",
        "    'deaths': df2.Count,\n",
        "    'recovered': df3.Count,\n",
        "})\n",
        "\n",
        "cdr.head()"
      ],
      "execution_count": null,
      "outputs": [
        {
          "output_type": "execute_result",
          "data": {
            "text/plain": [
              "        date  confirmed  deaths  recovered\n",
              "0 2020-01-22        555      17         28\n",
              "1 2020-01-23        654      18         30\n",
              "2 2020-01-24        941      26         36\n",
              "3 2020-01-25       1434      42         39\n",
              "4 2020-01-26       2118      56         52"
            ],
            "text/html": [
              "\n",
              "  <div id=\"df-457417c8-ec1e-46a8-bb47-e4ba4418b8c3\">\n",
              "    <div class=\"colab-df-container\">\n",
              "      <div>\n",
              "<style scoped>\n",
              "    .dataframe tbody tr th:only-of-type {\n",
              "        vertical-align: middle;\n",
              "    }\n",
              "\n",
              "    .dataframe tbody tr th {\n",
              "        vertical-align: top;\n",
              "    }\n",
              "\n",
              "    .dataframe thead th {\n",
              "        text-align: right;\n",
              "    }\n",
              "</style>\n",
              "<table border=\"1\" class=\"dataframe\">\n",
              "  <thead>\n",
              "    <tr style=\"text-align: right;\">\n",
              "      <th></th>\n",
              "      <th>date</th>\n",
              "      <th>confirmed</th>\n",
              "      <th>deaths</th>\n",
              "      <th>recovered</th>\n",
              "    </tr>\n",
              "  </thead>\n",
              "  <tbody>\n",
              "    <tr>\n",
              "      <th>0</th>\n",
              "      <td>2020-01-22</td>\n",
              "      <td>555</td>\n",
              "      <td>17</td>\n",
              "      <td>28</td>\n",
              "    </tr>\n",
              "    <tr>\n",
              "      <th>1</th>\n",
              "      <td>2020-01-23</td>\n",
              "      <td>654</td>\n",
              "      <td>18</td>\n",
              "      <td>30</td>\n",
              "    </tr>\n",
              "    <tr>\n",
              "      <th>2</th>\n",
              "      <td>2020-01-24</td>\n",
              "      <td>941</td>\n",
              "      <td>26</td>\n",
              "      <td>36</td>\n",
              "    </tr>\n",
              "    <tr>\n",
              "      <th>3</th>\n",
              "      <td>2020-01-25</td>\n",
              "      <td>1434</td>\n",
              "      <td>42</td>\n",
              "      <td>39</td>\n",
              "    </tr>\n",
              "    <tr>\n",
              "      <th>4</th>\n",
              "      <td>2020-01-26</td>\n",
              "      <td>2118</td>\n",
              "      <td>56</td>\n",
              "      <td>52</td>\n",
              "    </tr>\n",
              "  </tbody>\n",
              "</table>\n",
              "</div>\n",
              "      <button class=\"colab-df-convert\" onclick=\"convertToInteractive('df-457417c8-ec1e-46a8-bb47-e4ba4418b8c3')\"\n",
              "              title=\"Convert this dataframe to an interactive table.\"\n",
              "              style=\"display:none;\">\n",
              "        \n",
              "  <svg xmlns=\"http://www.w3.org/2000/svg\" height=\"24px\"viewBox=\"0 0 24 24\"\n",
              "       width=\"24px\">\n",
              "    <path d=\"M0 0h24v24H0V0z\" fill=\"none\"/>\n",
              "    <path d=\"M18.56 5.44l.94 2.06.94-2.06 2.06-.94-2.06-.94-.94-2.06-.94 2.06-2.06.94zm-11 1L8.5 8.5l.94-2.06 2.06-.94-2.06-.94L8.5 2.5l-.94 2.06-2.06.94zm10 10l.94 2.06.94-2.06 2.06-.94-2.06-.94-.94-2.06-.94 2.06-2.06.94z\"/><path d=\"M17.41 7.96l-1.37-1.37c-.4-.4-.92-.59-1.43-.59-.52 0-1.04.2-1.43.59L10.3 9.45l-7.72 7.72c-.78.78-.78 2.05 0 2.83L4 21.41c.39.39.9.59 1.41.59.51 0 1.02-.2 1.41-.59l7.78-7.78 2.81-2.81c.8-.78.8-2.07 0-2.86zM5.41 20L4 18.59l7.72-7.72 1.47 1.35L5.41 20z\"/>\n",
              "  </svg>\n",
              "      </button>\n",
              "      \n",
              "  <style>\n",
              "    .colab-df-container {\n",
              "      display:flex;\n",
              "      flex-wrap:wrap;\n",
              "      gap: 12px;\n",
              "    }\n",
              "\n",
              "    .colab-df-convert {\n",
              "      background-color: #E8F0FE;\n",
              "      border: none;\n",
              "      border-radius: 50%;\n",
              "      cursor: pointer;\n",
              "      display: none;\n",
              "      fill: #1967D2;\n",
              "      height: 32px;\n",
              "      padding: 0 0 0 0;\n",
              "      width: 32px;\n",
              "    }\n",
              "\n",
              "    .colab-df-convert:hover {\n",
              "      background-color: #E2EBFA;\n",
              "      box-shadow: 0px 1px 2px rgba(60, 64, 67, 0.3), 0px 1px 3px 1px rgba(60, 64, 67, 0.15);\n",
              "      fill: #174EA6;\n",
              "    }\n",
              "\n",
              "    [theme=dark] .colab-df-convert {\n",
              "      background-color: #3B4455;\n",
              "      fill: #D2E3FC;\n",
              "    }\n",
              "\n",
              "    [theme=dark] .colab-df-convert:hover {\n",
              "      background-color: #434B5C;\n",
              "      box-shadow: 0px 1px 3px 1px rgba(0, 0, 0, 0.15);\n",
              "      filter: drop-shadow(0px 1px 2px rgba(0, 0, 0, 0.3));\n",
              "      fill: #FFFFFF;\n",
              "    }\n",
              "  </style>\n",
              "\n",
              "      <script>\n",
              "        const buttonEl =\n",
              "          document.querySelector('#df-457417c8-ec1e-46a8-bb47-e4ba4418b8c3 button.colab-df-convert');\n",
              "        buttonEl.style.display =\n",
              "          google.colab.kernel.accessAllowed ? 'block' : 'none';\n",
              "\n",
              "        async function convertToInteractive(key) {\n",
              "          const element = document.querySelector('#df-457417c8-ec1e-46a8-bb47-e4ba4418b8c3');\n",
              "          const dataTable =\n",
              "            await google.colab.kernel.invokeFunction('convertToInteractive',\n",
              "                                                     [key], {});\n",
              "          if (!dataTable) return;\n",
              "\n",
              "          const docLinkHtml = 'Like what you see? Visit the ' +\n",
              "            '<a target=\"_blank\" href=https://colab.research.google.com/notebooks/data_table.ipynb>data table notebook</a>'\n",
              "            + ' to learn more about interactive tables.';\n",
              "          element.innerHTML = '';\n",
              "          dataTable['output_type'] = 'display_data';\n",
              "          await google.colab.output.renderOutput(dataTable, element);\n",
              "          const docLink = document.createElement('div');\n",
              "          docLink.innerHTML = docLinkHtml;\n",
              "          element.appendChild(docLink);\n",
              "        }\n",
              "      </script>\n",
              "    </div>\n",
              "  </div>\n",
              "  "
            ]
          },
          "metadata": {},
          "execution_count": 8
        }
      ]
    },
    {
      "cell_type": "code",
      "metadata": {
        "id": "KsxJTcDnd1VS",
        "colab": {
          "base_uri": "https://localhost:8080/",
          "height": 206
        },
        "outputId": "333d7c19-7369-4b14-e8d3-c1455a47eeee"
      },
      "source": [
        "cdr = cdr.melt('date', cdr.columns[1:], var_name='condition', value_name='count')\n",
        "cdr.head()"
      ],
      "execution_count": null,
      "outputs": [
        {
          "output_type": "execute_result",
          "data": {
            "text/plain": [
              "        date  condition  count\n",
              "0 2020-01-22  confirmed    555\n",
              "1 2020-01-23  confirmed    654\n",
              "2 2020-01-24  confirmed    941\n",
              "3 2020-01-25  confirmed   1434\n",
              "4 2020-01-26  confirmed   2118"
            ],
            "text/html": [
              "\n",
              "  <div id=\"df-329e89a4-1574-479d-a69a-4fa5dd684275\">\n",
              "    <div class=\"colab-df-container\">\n",
              "      <div>\n",
              "<style scoped>\n",
              "    .dataframe tbody tr th:only-of-type {\n",
              "        vertical-align: middle;\n",
              "    }\n",
              "\n",
              "    .dataframe tbody tr th {\n",
              "        vertical-align: top;\n",
              "    }\n",
              "\n",
              "    .dataframe thead th {\n",
              "        text-align: right;\n",
              "    }\n",
              "</style>\n",
              "<table border=\"1\" class=\"dataframe\">\n",
              "  <thead>\n",
              "    <tr style=\"text-align: right;\">\n",
              "      <th></th>\n",
              "      <th>date</th>\n",
              "      <th>condition</th>\n",
              "      <th>count</th>\n",
              "    </tr>\n",
              "  </thead>\n",
              "  <tbody>\n",
              "    <tr>\n",
              "      <th>0</th>\n",
              "      <td>2020-01-22</td>\n",
              "      <td>confirmed</td>\n",
              "      <td>555</td>\n",
              "    </tr>\n",
              "    <tr>\n",
              "      <th>1</th>\n",
              "      <td>2020-01-23</td>\n",
              "      <td>confirmed</td>\n",
              "      <td>654</td>\n",
              "    </tr>\n",
              "    <tr>\n",
              "      <th>2</th>\n",
              "      <td>2020-01-24</td>\n",
              "      <td>confirmed</td>\n",
              "      <td>941</td>\n",
              "    </tr>\n",
              "    <tr>\n",
              "      <th>3</th>\n",
              "      <td>2020-01-25</td>\n",
              "      <td>confirmed</td>\n",
              "      <td>1434</td>\n",
              "    </tr>\n",
              "    <tr>\n",
              "      <th>4</th>\n",
              "      <td>2020-01-26</td>\n",
              "      <td>confirmed</td>\n",
              "      <td>2118</td>\n",
              "    </tr>\n",
              "  </tbody>\n",
              "</table>\n",
              "</div>\n",
              "      <button class=\"colab-df-convert\" onclick=\"convertToInteractive('df-329e89a4-1574-479d-a69a-4fa5dd684275')\"\n",
              "              title=\"Convert this dataframe to an interactive table.\"\n",
              "              style=\"display:none;\">\n",
              "        \n",
              "  <svg xmlns=\"http://www.w3.org/2000/svg\" height=\"24px\"viewBox=\"0 0 24 24\"\n",
              "       width=\"24px\">\n",
              "    <path d=\"M0 0h24v24H0V0z\" fill=\"none\"/>\n",
              "    <path d=\"M18.56 5.44l.94 2.06.94-2.06 2.06-.94-2.06-.94-.94-2.06-.94 2.06-2.06.94zm-11 1L8.5 8.5l.94-2.06 2.06-.94-2.06-.94L8.5 2.5l-.94 2.06-2.06.94zm10 10l.94 2.06.94-2.06 2.06-.94-2.06-.94-.94-2.06-.94 2.06-2.06.94z\"/><path d=\"M17.41 7.96l-1.37-1.37c-.4-.4-.92-.59-1.43-.59-.52 0-1.04.2-1.43.59L10.3 9.45l-7.72 7.72c-.78.78-.78 2.05 0 2.83L4 21.41c.39.39.9.59 1.41.59.51 0 1.02-.2 1.41-.59l7.78-7.78 2.81-2.81c.8-.78.8-2.07 0-2.86zM5.41 20L4 18.59l7.72-7.72 1.47 1.35L5.41 20z\"/>\n",
              "  </svg>\n",
              "      </button>\n",
              "      \n",
              "  <style>\n",
              "    .colab-df-container {\n",
              "      display:flex;\n",
              "      flex-wrap:wrap;\n",
              "      gap: 12px;\n",
              "    }\n",
              "\n",
              "    .colab-df-convert {\n",
              "      background-color: #E8F0FE;\n",
              "      border: none;\n",
              "      border-radius: 50%;\n",
              "      cursor: pointer;\n",
              "      display: none;\n",
              "      fill: #1967D2;\n",
              "      height: 32px;\n",
              "      padding: 0 0 0 0;\n",
              "      width: 32px;\n",
              "    }\n",
              "\n",
              "    .colab-df-convert:hover {\n",
              "      background-color: #E2EBFA;\n",
              "      box-shadow: 0px 1px 2px rgba(60, 64, 67, 0.3), 0px 1px 3px 1px rgba(60, 64, 67, 0.15);\n",
              "      fill: #174EA6;\n",
              "    }\n",
              "\n",
              "    [theme=dark] .colab-df-convert {\n",
              "      background-color: #3B4455;\n",
              "      fill: #D2E3FC;\n",
              "    }\n",
              "\n",
              "    [theme=dark] .colab-df-convert:hover {\n",
              "      background-color: #434B5C;\n",
              "      box-shadow: 0px 1px 3px 1px rgba(0, 0, 0, 0.15);\n",
              "      filter: drop-shadow(0px 1px 2px rgba(0, 0, 0, 0.3));\n",
              "      fill: #FFFFFF;\n",
              "    }\n",
              "  </style>\n",
              "\n",
              "      <script>\n",
              "        const buttonEl =\n",
              "          document.querySelector('#df-329e89a4-1574-479d-a69a-4fa5dd684275 button.colab-df-convert');\n",
              "        buttonEl.style.display =\n",
              "          google.colab.kernel.accessAllowed ? 'block' : 'none';\n",
              "\n",
              "        async function convertToInteractive(key) {\n",
              "          const element = document.querySelector('#df-329e89a4-1574-479d-a69a-4fa5dd684275');\n",
              "          const dataTable =\n",
              "            await google.colab.kernel.invokeFunction('convertToInteractive',\n",
              "                                                     [key], {});\n",
              "          if (!dataTable) return;\n",
              "\n",
              "          const docLinkHtml = 'Like what you see? Visit the ' +\n",
              "            '<a target=\"_blank\" href=https://colab.research.google.com/notebooks/data_table.ipynb>data table notebook</a>'\n",
              "            + ' to learn more about interactive tables.';\n",
              "          element.innerHTML = '';\n",
              "          dataTable['output_type'] = 'display_data';\n",
              "          await google.colab.output.renderOutput(dataTable, element);\n",
              "          const docLink = document.createElement('div');\n",
              "          docLink.innerHTML = docLinkHtml;\n",
              "          element.appendChild(docLink);\n",
              "        }\n",
              "      </script>\n",
              "    </div>\n",
              "  </div>\n",
              "  "
            ]
          },
          "metadata": {},
          "execution_count": 9
        }
      ]
    },
    {
      "cell_type": "code",
      "metadata": {
        "id": "q_M1EbNdd1VT",
        "colab": {
          "base_uri": "https://localhost:8080/",
          "height": 206
        },
        "outputId": "c9549270-d755-468a-9bc1-8bcc2ecf03ed"
      },
      "source": [
        "countrywise_confirmed = confirmed.groupby(['Country/Region']).sum().reset_index()\n",
        "countrywise_deaths = deaths.groupby(['Country/Region']).sum().reset_index()\n",
        "countrywise_recovered = recovered.groupby(['Country/Region']).sum().reset_index()\n",
        "\n",
        "countrywise_cdr = pd.DataFrame({\n",
        "    'country': countrywise_confirmed['Country/Region'],\n",
        "    'confirmed': countrywise_confirmed.Count,\n",
        "    'deaths': countrywise_deaths.Count,\n",
        "    'recovered': countrywise_recovered.Count,\n",
        "})\n",
        "\n",
        "countrywise_cdr.head()"
      ],
      "execution_count": null,
      "outputs": [
        {
          "output_type": "execute_result",
          "data": {
            "text/plain": [
              "       country  confirmed  deaths  recovered\n",
              "0  Afghanistan    3745342  114595    2139148\n",
              "1      Albania     583139   17360     329905\n",
              "2      Algeria    3088876  145505    2089806\n",
              "3      Andorra     145841    7952     111054\n",
              "4       Angola     125569    5483      45985"
            ],
            "text/html": [
              "\n",
              "  <div id=\"df-ef881335-537d-4def-baa7-84f18b9ee825\">\n",
              "    <div class=\"colab-df-container\">\n",
              "      <div>\n",
              "<style scoped>\n",
              "    .dataframe tbody tr th:only-of-type {\n",
              "        vertical-align: middle;\n",
              "    }\n",
              "\n",
              "    .dataframe tbody tr th {\n",
              "        vertical-align: top;\n",
              "    }\n",
              "\n",
              "    .dataframe thead th {\n",
              "        text-align: right;\n",
              "    }\n",
              "</style>\n",
              "<table border=\"1\" class=\"dataframe\">\n",
              "  <thead>\n",
              "    <tr style=\"text-align: right;\">\n",
              "      <th></th>\n",
              "      <th>country</th>\n",
              "      <th>confirmed</th>\n",
              "      <th>deaths</th>\n",
              "      <th>recovered</th>\n",
              "    </tr>\n",
              "  </thead>\n",
              "  <tbody>\n",
              "    <tr>\n",
              "      <th>0</th>\n",
              "      <td>Afghanistan</td>\n",
              "      <td>3745342</td>\n",
              "      <td>114595</td>\n",
              "      <td>2139148</td>\n",
              "    </tr>\n",
              "    <tr>\n",
              "      <th>1</th>\n",
              "      <td>Albania</td>\n",
              "      <td>583139</td>\n",
              "      <td>17360</td>\n",
              "      <td>329905</td>\n",
              "    </tr>\n",
              "    <tr>\n",
              "      <th>2</th>\n",
              "      <td>Algeria</td>\n",
              "      <td>3088876</td>\n",
              "      <td>145505</td>\n",
              "      <td>2089806</td>\n",
              "    </tr>\n",
              "    <tr>\n",
              "      <th>3</th>\n",
              "      <td>Andorra</td>\n",
              "      <td>145841</td>\n",
              "      <td>7952</td>\n",
              "      <td>111054</td>\n",
              "    </tr>\n",
              "    <tr>\n",
              "      <th>4</th>\n",
              "      <td>Angola</td>\n",
              "      <td>125569</td>\n",
              "      <td>5483</td>\n",
              "      <td>45985</td>\n",
              "    </tr>\n",
              "  </tbody>\n",
              "</table>\n",
              "</div>\n",
              "      <button class=\"colab-df-convert\" onclick=\"convertToInteractive('df-ef881335-537d-4def-baa7-84f18b9ee825')\"\n",
              "              title=\"Convert this dataframe to an interactive table.\"\n",
              "              style=\"display:none;\">\n",
              "        \n",
              "  <svg xmlns=\"http://www.w3.org/2000/svg\" height=\"24px\"viewBox=\"0 0 24 24\"\n",
              "       width=\"24px\">\n",
              "    <path d=\"M0 0h24v24H0V0z\" fill=\"none\"/>\n",
              "    <path d=\"M18.56 5.44l.94 2.06.94-2.06 2.06-.94-2.06-.94-.94-2.06-.94 2.06-2.06.94zm-11 1L8.5 8.5l.94-2.06 2.06-.94-2.06-.94L8.5 2.5l-.94 2.06-2.06.94zm10 10l.94 2.06.94-2.06 2.06-.94-2.06-.94-.94-2.06-.94 2.06-2.06.94z\"/><path d=\"M17.41 7.96l-1.37-1.37c-.4-.4-.92-.59-1.43-.59-.52 0-1.04.2-1.43.59L10.3 9.45l-7.72 7.72c-.78.78-.78 2.05 0 2.83L4 21.41c.39.39.9.59 1.41.59.51 0 1.02-.2 1.41-.59l7.78-7.78 2.81-2.81c.8-.78.8-2.07 0-2.86zM5.41 20L4 18.59l7.72-7.72 1.47 1.35L5.41 20z\"/>\n",
              "  </svg>\n",
              "      </button>\n",
              "      \n",
              "  <style>\n",
              "    .colab-df-container {\n",
              "      display:flex;\n",
              "      flex-wrap:wrap;\n",
              "      gap: 12px;\n",
              "    }\n",
              "\n",
              "    .colab-df-convert {\n",
              "      background-color: #E8F0FE;\n",
              "      border: none;\n",
              "      border-radius: 50%;\n",
              "      cursor: pointer;\n",
              "      display: none;\n",
              "      fill: #1967D2;\n",
              "      height: 32px;\n",
              "      padding: 0 0 0 0;\n",
              "      width: 32px;\n",
              "    }\n",
              "\n",
              "    .colab-df-convert:hover {\n",
              "      background-color: #E2EBFA;\n",
              "      box-shadow: 0px 1px 2px rgba(60, 64, 67, 0.3), 0px 1px 3px 1px rgba(60, 64, 67, 0.15);\n",
              "      fill: #174EA6;\n",
              "    }\n",
              "\n",
              "    [theme=dark] .colab-df-convert {\n",
              "      background-color: #3B4455;\n",
              "      fill: #D2E3FC;\n",
              "    }\n",
              "\n",
              "    [theme=dark] .colab-df-convert:hover {\n",
              "      background-color: #434B5C;\n",
              "      box-shadow: 0px 1px 3px 1px rgba(0, 0, 0, 0.15);\n",
              "      filter: drop-shadow(0px 1px 2px rgba(0, 0, 0, 0.3));\n",
              "      fill: #FFFFFF;\n",
              "    }\n",
              "  </style>\n",
              "\n",
              "      <script>\n",
              "        const buttonEl =\n",
              "          document.querySelector('#df-ef881335-537d-4def-baa7-84f18b9ee825 button.colab-df-convert');\n",
              "        buttonEl.style.display =\n",
              "          google.colab.kernel.accessAllowed ? 'block' : 'none';\n",
              "\n",
              "        async function convertToInteractive(key) {\n",
              "          const element = document.querySelector('#df-ef881335-537d-4def-baa7-84f18b9ee825');\n",
              "          const dataTable =\n",
              "            await google.colab.kernel.invokeFunction('convertToInteractive',\n",
              "                                                     [key], {});\n",
              "          if (!dataTable) return;\n",
              "\n",
              "          const docLinkHtml = 'Like what you see? Visit the ' +\n",
              "            '<a target=\"_blank\" href=https://colab.research.google.com/notebooks/data_table.ipynb>data table notebook</a>'\n",
              "            + ' to learn more about interactive tables.';\n",
              "          element.innerHTML = '';\n",
              "          dataTable['output_type'] = 'display_data';\n",
              "          await google.colab.output.renderOutput(dataTable, element);\n",
              "          const docLink = document.createElement('div');\n",
              "          docLink.innerHTML = docLinkHtml;\n",
              "          element.appendChild(docLink);\n",
              "        }\n",
              "      </script>\n",
              "    </div>\n",
              "  </div>\n",
              "  "
            ]
          },
          "metadata": {},
          "execution_count": 10
        }
      ]
    },
    {
      "cell_type": "markdown",
      "metadata": {
        "id": "JDwqlKzFyp2i"
      },
      "source": [
        "The number of active cases can be calculated by subtracting the sum of recovery and death from confirmed cases"
      ]
    },
    {
      "cell_type": "code",
      "metadata": {
        "id": "pkvyKbNIyf4f",
        "colab": {
          "base_uri": "https://localhost:8080/",
          "height": 729
        },
        "outputId": "2a4d31b9-9fdb-46ae-b3a4-f519e7af2df9"
      },
      "source": [
        "conf=countrywise_cdr['confirmed'].sum()\n",
        "deth=countrywise_cdr['deaths'].sum()\n",
        "rec=countrywise_cdr['recovered'].sum()\n",
        "active=conf-(rec-deth)\n",
        "labels = ['Active','Recovered','Deceased']\n",
        "sizes = [active,rec,deth]\n",
        "color= ['#66b3ff','green','red']\n",
        "explode = []\n",
        "\n",
        "for i in labels:\n",
        "    explode.append(0.05)\n",
        "    \n",
        "plt.figure(figsize= (15,10))\n",
        "plt.pie(sizes, labels=labels, autopct='%1.1f%%', startangle=9, explode =explode,colors = color)\n",
        "centre_circle = plt.Circle((0,0),0.70,fc='white')\n",
        "\n",
        "fig = plt.gcf()\n",
        "fig.gca().add_artist(centre_circle)\n",
        "plt.title('World COVID-19 Cases',fontsize = 20)\n",
        "plt.axis('equal')  \n",
        "plt.tight_layout()"
      ],
      "execution_count": null,
      "outputs": [
        {
          "output_type": "display_data",
          "data": {
            "text/plain": [
              "<Figure size 1080x720 with 1 Axes>"
            ],
            "image/png": "[encoded data removed]"
          },
          "metadata": {}
        }
      ]
    },
    {
      "cell_type": "code",
      "metadata": {
        "id": "5EOLeaEpd1VW"
      },
      "source": [
        "temp1 = countrywise_cdr.sort_values('confirmed', ascending=False).head(20)\n",
        "temp2 = countrywise_cdr.sort_values('deaths', ascending=False).head(20)\n",
        "temp3 = countrywise_cdr.sort_values('recovered', ascending=False).head(20)\n"
      ],
      "execution_count": null,
      "outputs": []
    },
    {
      "cell_type": "code",
      "metadata": {
        "id": "5kh6hP-qd1VY",
        "colab": {
          "base_uri": "https://localhost:8080/",
          "height": 484
        },
        "outputId": "76df5360-d22f-4655-cc9e-96a383c690a9"
      },
      "source": [
        "fig3 = plt.figure(constrained_layout=True, figsize=(20,8));\n",
        "gs = fig3.add_gridspec(2, 2);\n",
        "\n",
        "f3_ax1 = fig3.add_subplot(gs[0, :]);\n",
        "f3_ax1.set_title('Confirmed cases of COVID-19',fontsize=25);\n",
        "f3_ax1.set_xlabel(\"Number of people recovered\",fontsize=20);\n",
        "sns.barplot(temp1[\"confirmed\"], temp1[\"country\"],ax=f3_ax1);\n",
        "\n",
        "f3_ax2 = fig3.add_subplot(gs[1, :1]);\n",
        "f3_ax2.set_title('Death due to COVID-19',fontsize=25);\n",
        "f3_ax2.set_xlabel(\"Number of people recovered\",fontsize=20);\n",
        "sns.barplot(temp2[\"deaths\"], temp2[\"country\"],ax=f3_ax2);\n",
        "\n",
        "f3_ax2 = fig3.add_subplot(gs[1, 1:]);\n",
        "f3_ax2.set_title('COVID-19 Recovery',fontsize=25);\n",
        "f3_ax2.set_xlabel(\"Number of people recovered\",fontsize=20);\n",
        "sns.barplot(temp3[\"recovered\"], temp3[\"country\"],ax=f3_ax2);\n",
        "\n",
        "\n",
        "f3_ax1.set_ylabel(\"Country\",fontsize=20, position=(0,-0.5));\n",
        "f3_ax2.set_ylabel(\" \",fontsize=0);\n",
        "f3_ax2.set_ylabel(\" \",fontsize=0);"
      ],
      "execution_count": null,
      "outputs": [
        {
          "output_type": "display_data",
          "data": {
            "text/plain": [
              "<Figure size 1440x576 with 3 Axes>"
            ],
            "image/png": "[encoded data removed]"
          },
          "metadata": {
            "needs_background": "light"
          }
        }
      ]
    },
    {
      "cell_type": "code",
      "metadata": {
        "id": "QPz35bQYd1VZ"
      },
      "source": [],
      "execution_count": null,
      "outputs": []
    },
    {
      "cell_type": "markdown",
      "metadata": {
        "id": "tMUIUcRVd1Vd"
      },
      "source": [
        "## Correlation between new cases,deaths and recoveries"
      ]
    },
    {
      "cell_type": "code",
      "metadata": {
        "id": "U_fD_jjcd1Ve",
        "colab": {
          "base_uri": "https://localhost:8080/",
          "height": 499
        },
        "outputId": "7a0d0f3e-91cc-4dd9-aeb5-0495c527be23"
      },
      "source": [
        "plt.figure(figsize=(8,8))\n",
        "sns.heatmap(countrywise_cdr.corr(), cbar=True)\n",
        "plt.title('Heatmap to show relationship between columns')\n",
        "plt.show()"
      ],
      "execution_count": null,
      "outputs": [
        {
          "output_type": "display_data",
          "data": {
            "text/plain": [
              "<Figure size 576x576 with 2 Axes>"
            ],
            "image/png": "[encoded data removed]"
          },
          "metadata": {
            "needs_background": "light"
          }
        }
      ]
    },
    {
      "cell_type": "markdown",
      "metadata": {
        "id": "xoWAY6WPd1Vi"
      },
      "source": [
        "Correlation map shows that confirmed cases are positively correlated with the death cases,whereas the a similar correlation is present with the confirmed cases and the recovered cases as well"
      ]
    },
    {
      "cell_type": "markdown",
      "metadata": {
        "id": "8AvzXCdVd1Vi"
      },
      "source": [
        "## PART-2: Building the ARIMA model for forecasting the timeseries"
      ]
    },
    {
      "cell_type": "markdown",
      "metadata": {
        "id": "f5rOxpW3d1Vi"
      },
      "source": [
        "## Loading the data"
      ]
    },
    {
      "cell_type": "code",
      "metadata": {
        "id": "rLPXzRUXd1Vj"
      },
      "source": [
        "files = {\n",
        "         'confirmed': 'https://raw.githubusercontent.com/Ashwin1999/COVID-19-Data-Mining/master/COVID-Time%20Series%20Data/time_series_covid_19_confirmed.csv',\n",
        "         'deaths': 'https://raw.githubusercontent.com/Ashwin1999/COVID-19-Data-Mining/master/COVID-Time%20Series%20Data/time_series_covid_19_deaths.csv',\n",
        "         'recovered':'https://raw.githubusercontent.com/Ashwin1999/COVID-19-Data-Mining/master/COVID-Time%20Series%20Data/time_series_covid_19_recovered.csv'\n",
        "}"
      ],
      "execution_count": null,
      "outputs": []
    },
    {
      "cell_type": "code",
      "metadata": {
        "id": "6zUEDJPPd1Vm"
      },
      "source": [
        "confirmed = pd.read_csv(files['confirmed'])\n",
        "deaths = pd.read_csv(files['deaths'])\n",
        "recovered= pd.read_csv(files['recovered'])"
      ],
      "execution_count": null,
      "outputs": []
    },
    {
      "cell_type": "code",
      "metadata": {
        "id": "gTIPReC9d1Vq",
        "colab": {
          "base_uri": "https://localhost:8080/",
          "height": 299
        },
        "outputId": "94812abb-1c35-4132-caf8-fc1158ebf2e1"
      },
      "source": [
        "confirmed.head()"
      ],
      "execution_count": null,
      "outputs": [
        {
          "output_type": "execute_result",
          "data": {
            "text/plain": [
              "  Province/State Country/Region       Lat       Long  1/22/20  1/23/20  \\\n",
              "0            NaN    Afghanistan  33.93911  67.709953        0        0   \n",
              "1            NaN        Albania  41.15330  20.168300        0        0   \n",
              "2            NaN        Algeria  28.03390   1.659600        0        0   \n",
              "3            NaN        Andorra  42.50630   1.521800        0        0   \n",
              "4            NaN         Angola -11.20270  17.873900        0        0   \n",
              "\n",
              "   1/24/20  1/25/20  1/26/20  1/27/20  ...  9/4/20  9/5/20  9/6/20  9/7/20  \\\n",
              "0        0        0        0        0  ...   38304   38324   38398   38494   \n",
              "1        0        0        0        0  ...    9967   10102   10255   10406   \n",
              "2        0        0        0        0  ...   45773   46071   46364   46653   \n",
              "3        0        0        0        0  ...    1215    1215    1215    1261   \n",
              "4        0        0        0        0  ...    2876    2935    2965    2981   \n",
              "\n",
              "   9/8/20  9/9/20  9/10/20  9/11/20  9/12/20  9/13/20  \n",
              "0   38520   38544    38572    38606    38641    38716  \n",
              "1   10553   10704    10860    11021    11185    11353  \n",
              "2   46938   47216    47488    47752    48007    48254  \n",
              "3    1261    1301     1301     1344     1344     1344  \n",
              "4    3033    3092     3217     3279     3335     3388  \n",
              "\n",
              "[5 rows x 240 columns]"
            ],
            "text/html": [
              "\n",
              "  <div id=\"df-dea9bb36-0ec5-4dc6-b310-b9e2ca13475c\">\n",
              "    <div class=\"colab-df-container\">\n",
              "      <div>\n",
              "<style scoped>\n",
              "    .dataframe tbody tr th:only-of-type {\n",
              "        vertical-align: middle;\n",
              "    }\n",
              "\n",
              "    .dataframe tbody tr th {\n",
              "        vertical-align: top;\n",
              "    }\n",
              "\n",
              "    .dataframe thead th {\n",
              "        text-align: right;\n",
              "    }\n",
              "</style>\n",
              "<table border=\"1\" class=\"dataframe\">\n",
              "  <thead>\n",
              "    <tr style=\"text-align: right;\">\n",
              "      <th></th>\n",
              "      <th>Province/State</th>\n",
              "      <th>Country/Region</th>\n",
              "      <th>Lat</th>\n",
              "      <th>Long</th>\n",
              "      <th>1/22/20</th>\n",
              "      <th>1/23/20</th>\n",
              "      <th>1/24/20</th>\n",
              "      <th>1/25/20</th>\n",
              "      <th>1/26/20</th>\n",
              "      <th>1/27/20</th>\n",
              "      <th>...</th>\n",
              "      <th>9/4/20</th>\n",
              "      <th>9/5/20</th>\n",
              "      <th>9/6/20</th>\n",
              "      <th>9/7/20</th>\n",
              "      <th>9/8/20</th>\n",
              "      <th>9/9/20</th>\n",
              "      <th>9/10/20</th>\n",
              "      <th>9/11/20</th>\n",
              "      <th>9/12/20</th>\n",
              "      <th>9/13/20</th>\n",
              "    </tr>\n",
              "  </thead>\n",
              "  <tbody>\n",
              "    <tr>\n",
              "      <th>0</th>\n",
              "      <td>NaN</td>\n",
              "      <td>Afghanistan</td>\n",
              "      <td>33.93911</td>\n",
              "      <td>67.709953</td>\n",
              "      <td>0</td>\n",
              "      <td>0</td>\n",
              "      <td>0</td>\n",
              "      <td>0</td>\n",
              "      <td>0</td>\n",
              "      <td>0</td>\n",
              "      <td>...</td>\n",
              "      <td>38304</td>\n",
              "      <td>38324</td>\n",
              "      <td>38398</td>\n",
              "      <td>38494</td>\n",
              "      <td>38520</td>\n",
              "      <td>38544</td>\n",
              "      <td>38572</td>\n",
              "      <td>38606</td>\n",
              "      <td>38641</td>\n",
              "      <td>38716</td>\n",
              "    </tr>\n",
              "    <tr>\n",
              "      <th>1</th>\n",
              "      <td>NaN</td>\n",
              "      <td>Albania</td>\n",
              "      <td>41.15330</td>\n",
              "      <td>20.168300</td>\n",
              "      <td>0</td>\n",
              "      <td>0</td>\n",
              "      <td>0</td>\n",
              "      <td>0</td>\n",
              "      <td>0</td>\n",
              "      <td>0</td>\n",
              "      <td>...</td>\n",
              "      <td>9967</td>\n",
              "      <td>10102</td>\n",
              "      <td>10255</td>\n",
              "      <td>10406</td>\n",
              "      <td>10553</td>\n",
              "      <td>10704</td>\n",
              "      <td>10860</td>\n",
              "      <td>11021</td>\n",
              "      <td>11185</td>\n",
              "      <td>11353</td>\n",
              "    </tr>\n",
              "    <tr>\n",
              "      <th>2</th>\n",
              "      <td>NaN</td>\n",
              "      <td>Algeria</td>\n",
              "      <td>28.03390</td>\n",
              "      <td>1.659600</td>\n",
              "      <td>0</td>\n",
              "      <td>0</td>\n",
              "      <td>0</td>\n",
              "      <td>0</td>\n",
              "      <td>0</td>\n",
              "      <td>0</td>\n",
              "      <td>...</td>\n",
              "      <td>45773</td>\n",
              "      <td>46071</td>\n",
              "      <td>46364</td>\n",
              "      <td>46653</td>\n",
              "      <td>46938</td>\n",
              "      <td>47216</td>\n",
              "      <td>47488</td>\n",
              "      <td>47752</td>\n",
              "      <td>48007</td>\n",
              "      <td>48254</td>\n",
              "    </tr>\n",
              "    <tr>\n",
              "      <th>3</th>\n",
              "      <td>NaN</td>\n",
              "      <td>Andorra</td>\n",
              "      <td>42.50630</td>\n",
              "      <td>1.521800</td>\n",
              "      <td>0</td>\n",
              "      <td>0</td>\n",
              "      <td>0</td>\n",
              "      <td>0</td>\n",
              "      <td>0</td>\n",
              "      <td>0</td>\n",
              "      <td>...</td>\n",
              "      <td>1215</td>\n",
              "      <td>1215</td>\n",
              "      <td>1215</td>\n",
              "      <td>1261</td>\n",
              "      <td>1261</td>\n",
              "      <td>1301</td>\n",
              "      <td>1301</td>\n",
              "      <td>1344</td>\n",
              "      <td>1344</td>\n",
              "      <td>1344</td>\n",
              "    </tr>\n",
              "    <tr>\n",
              "      <th>4</th>\n",
              "      <td>NaN</td>\n",
              "      <td>Angola</td>\n",
              "      <td>-11.20270</td>\n",
              "      <td>17.873900</td>\n",
              "      <td>0</td>\n",
              "      <td>0</td>\n",
              "      <td>0</td>\n",
              "      <td>0</td>\n",
              "      <td>0</td>\n",
              "      <td>0</td>\n",
              "      <td>...</td>\n",
              "      <td>2876</td>\n",
              "      <td>2935</td>\n",
              "      <td>2965</td>\n",
              "      <td>2981</td>\n",
              "      <td>3033</td>\n",
              "      <td>3092</td>\n",
              "      <td>3217</td>\n",
              "      <td>3279</td>\n",
              "      <td>3335</td>\n",
              "      <td>3388</td>\n",
              "    </tr>\n",
              "  </tbody>\n",
              "</table>\n",
              "<p>5 rows × 240 columns</p>\n",
              "</div>\n",
              "      <button class=\"colab-df-convert\" onclick=\"convertToInteractive('df-dea9bb36-0ec5-4dc6-b310-b9e2ca13475c')\"\n",
              "              title=\"Convert this dataframe to an interactive table.\"\n",
              "              style=\"display:none;\">\n",
              "        \n",
              "  <svg xmlns=\"http://www.w3.org/2000/svg\" height=\"24px\"viewBox=\"0 0 24 24\"\n",
              "       width=\"24px\">\n",
              "    <path d=\"M0 0h24v24H0V0z\" fill=\"none\"/>\n",
              "    <path d=\"M18.56 5.44l.94 2.06.94-2.06 2.06-.94-2.06-.94-.94-2.06-.94 2.06-2.06.94zm-11 1L8.5 8.5l.94-2.06 2.06-.94-2.06-.94L8.5 2.5l-.94 2.06-2.06.94zm10 10l.94 2.06.94-2.06 2.06-.94-2.06-.94-.94-2.06-.94 2.06-2.06.94z\"/><path d=\"M17.41 7.96l-1.37-1.37c-.4-.4-.92-.59-1.43-.59-.52 0-1.04.2-1.43.59L10.3 9.45l-7.72 7.72c-.78.78-.78 2.05 0 2.83L4 21.41c.39.39.9.59 1.41.59.51 0 1.02-.2 1.41-.59l7.78-7.78 2.81-2.81c.8-.78.8-2.07 0-2.86zM5.41 20L4 18.59l7.72-7.72 1.47 1.35L5.41 20z\"/>\n",
              "  </svg>\n",
              "      </button>\n",
              "      \n",
              "  <style>\n",
              "    .colab-df-container {\n",
              "      display:flex;\n",
              "      flex-wrap:wrap;\n",
              "      gap: 12px;\n",
              "    }\n",
              "\n",
              "    .colab-df-convert {\n",
              "      background-color: #E8F0FE;\n",
              "      border: none;\n",
              "      border-radius: 50%;\n",
              "      cursor: pointer;\n",
              "      display: none;\n",
              "      fill: #1967D2;\n",
              "      height: 32px;\n",
              "      padding: 0 0 0 0;\n",
              "      width: 32px;\n",
              "    }\n",
              "\n",
              "    .colab-df-convert:hover {\n",
              "      background-color: #E2EBFA;\n",
              "      box-shadow: 0px 1px 2px rgba(60, 64, 67, 0.3), 0px 1px 3px 1px rgba(60, 64, 67, 0.15);\n",
              "      fill: #174EA6;\n",
              "    }\n",
              "\n",
              "    [theme=dark] .colab-df-convert {\n",
              "      background-color: #3B4455;\n",
              "      fill: #D2E3FC;\n",
              "    }\n",
              "\n",
              "    [theme=dark] .colab-df-convert:hover {\n",
              "      background-color: #434B5C;\n",
              "      box-shadow: 0px 1px 3px 1px rgba(0, 0, 0, 0.15);\n",
              "      filter: drop-shadow(0px 1px 2px rgba(0, 0, 0, 0.3));\n",
              "      fill: #FFFFFF;\n",
              "    }\n",
              "  </style>\n",
              "\n",
              "      <script>\n",
              "        const buttonEl =\n",
              "          document.querySelector('#df-dea9bb36-0ec5-4dc6-b310-b9e2ca13475c button.colab-df-convert');\n",
              "        buttonEl.style.display =\n",
              "          google.colab.kernel.accessAllowed ? 'block' : 'none';\n",
              "\n",
              "        async function convertToInteractive(key) {\n",
              "          const element = document.querySelector('#df-dea9bb36-0ec5-4dc6-b310-b9e2ca13475c');\n",
              "          const dataTable =\n",
              "            await google.colab.kernel.invokeFunction('convertToInteractive',\n",
              "                                                     [key], {});\n",
              "          if (!dataTable) return;\n",
              "\n",
              "          const docLinkHtml = 'Like what you see? Visit the ' +\n",
              "            '<a target=\"_blank\" href=https://colab.research.google.com/notebooks/data_table.ipynb>data table notebook</a>'\n",
              "            + ' to learn more about interactive tables.';\n",
              "          element.innerHTML = '';\n",
              "          dataTable['output_type'] = 'display_data';\n",
              "          await google.colab.output.renderOutput(dataTable, element);\n",
              "          const docLink = document.createElement('div');\n",
              "          docLink.innerHTML = docLinkHtml;\n",
              "          element.appendChild(docLink);\n",
              "        }\n",
              "      </script>\n",
              "    </div>\n",
              "  </div>\n",
              "  "
            ]
          },
          "metadata": {},
          "execution_count": 17
        }
      ]
    },
    {
      "cell_type": "code",
      "metadata": {
        "id": "8BE9JfWFd1Vt",
        "colab": {
          "base_uri": "https://localhost:8080/",
          "height": 299
        },
        "outputId": "c2d63cac-38ca-4fcb-df71-ae43fed3e91d"
      },
      "source": [
        "deaths.head()"
      ],
      "execution_count": null,
      "outputs": [
        {
          "output_type": "execute_result",
          "data": {
            "text/plain": [
              "  Province/State Country/Region       Lat       Long  1/22/20  1/23/20  \\\n",
              "0            NaN    Afghanistan  33.93911  67.709953        0        0   \n",
              "1            NaN        Albania  41.15330  20.168300        0        0   \n",
              "2            NaN        Algeria  28.03390   1.659600        0        0   \n",
              "3            NaN        Andorra  42.50630   1.521800        0        0   \n",
              "4            NaN         Angola -11.20270  17.873900        0        0   \n",
              "\n",
              "   1/24/20  1/25/20  1/26/20  1/27/20  ...  9/4/20  9/5/20  9/6/20  9/7/20  \\\n",
              "0        0        0        0        0  ...    1409    1409    1412    1415   \n",
              "1        0        0        0        0  ...     306     312     316     319   \n",
              "2        0        0        0        0  ...    1539    1549    1556    1562   \n",
              "3        0        0        0        0  ...      53      53      53      53   \n",
              "4        0        0        0        0  ...     115     117     117     120   \n",
              "\n",
              "   9/8/20  9/9/20  9/10/20  9/11/20  9/12/20  9/13/20  \n",
              "0    1418    1420     1420     1420     1420     1420  \n",
              "1     321     322      324      327      330      334  \n",
              "2    1571    1581     1591     1599     1605     1612  \n",
              "3      53      53       53       53       53       53  \n",
              "4     124     126      130      131      132      134  \n",
              "\n",
              "[5 rows x 240 columns]"
            ],
            "text/html": [
              "\n",
              "  <div id=\"df-b7ae116f-74aa-4cca-bad0-23dcfa69ff4d\">\n",
              "    <div class=\"colab-df-container\">\n",
              "      <div>\n",
              "<style scoped>\n",
              "    .dataframe tbody tr th:only-of-type {\n",
              "        vertical-align: middle;\n",
              "    }\n",
              "\n",
              "    .dataframe tbody tr th {\n",
              "        vertical-align: top;\n",
              "    }\n",
              "\n",
              "    .dataframe thead th {\n",
              "        text-align: right;\n",
              "    }\n",
              "</style>\n",
              "<table border=\"1\" class=\"dataframe\">\n",
              "  <thead>\n",
              "    <tr style=\"text-align: right;\">\n",
              "      <th></th>\n",
              "      <th>Province/State</th>\n",
              "      <th>Country/Region</th>\n",
              "      <th>Lat</th>\n",
              "      <th>Long</th>\n",
              "      <th>1/22/20</th>\n",
              "      <th>1/23/20</th>\n",
              "      <th>1/24/20</th>\n",
              "      <th>1/25/20</th>\n",
              "      <th>1/26/20</th>\n",
              "      <th>1/27/20</th>\n",
              "      <th>...</th>\n",
              "      <th>9/4/20</th>\n",
              "      <th>9/5/20</th>\n",
              "      <th>9/6/20</th>\n",
              "      <th>9/7/20</th>\n",
              "      <th>9/8/20</th>\n",
              "      <th>9/9/20</th>\n",
              "      <th>9/10/20</th>\n",
              "      <th>9/11/20</th>\n",
              "      <th>9/12/20</th>\n",
              "      <th>9/13/20</th>\n",
              "    </tr>\n",
              "  </thead>\n",
              "  <tbody>\n",
              "    <tr>\n",
              "      <th>0</th>\n",
              "      <td>NaN</td>\n",
              "      <td>Afghanistan</td>\n",
              "      <td>33.93911</td>\n",
              "      <td>67.709953</td>\n",
              "      <td>0</td>\n",
              "      <td>0</td>\n",
              "      <td>0</td>\n",
              "      <td>0</td>\n",
              "      <td>0</td>\n",
              "      <td>0</td>\n",
              "      <td>...</td>\n",
              "      <td>1409</td>\n",
              "      <td>1409</td>\n",
              "      <td>1412</td>\n",
              "      <td>1415</td>\n",
              "      <td>1418</td>\n",
              "      <td>1420</td>\n",
              "      <td>1420</td>\n",
              "      <td>1420</td>\n",
              "      <td>1420</td>\n",
              "      <td>1420</td>\n",
              "    </tr>\n",
              "    <tr>\n",
              "      <th>1</th>\n",
              "      <td>NaN</td>\n",
              "      <td>Albania</td>\n",
              "      <td>41.15330</td>\n",
              "      <td>20.168300</td>\n",
              "      <td>0</td>\n",
              "      <td>0</td>\n",
              "      <td>0</td>\n",
              "      <td>0</td>\n",
              "      <td>0</td>\n",
              "      <td>0</td>\n",
              "      <td>...</td>\n",
              "      <td>306</td>\n",
              "      <td>312</td>\n",
              "      <td>316</td>\n",
              "      <td>319</td>\n",
              "      <td>321</td>\n",
              "      <td>322</td>\n",
              "      <td>324</td>\n",
              "      <td>327</td>\n",
              "      <td>330</td>\n",
              "      <td>334</td>\n",
              "    </tr>\n",
              "    <tr>\n",
              "      <th>2</th>\n",
              "      <td>NaN</td>\n",
              "      <td>Algeria</td>\n",
              "      <td>28.03390</td>\n",
              "      <td>1.659600</td>\n",
              "      <td>0</td>\n",
              "      <td>0</td>\n",
              "      <td>0</td>\n",
              "      <td>0</td>\n",
              "      <td>0</td>\n",
              "      <td>0</td>\n",
              "      <td>...</td>\n",
              "      <td>1539</td>\n",
              "      <td>1549</td>\n",
              "      <td>1556</td>\n",
              "      <td>1562</td>\n",
              "      <td>1571</td>\n",
              "      <td>1581</td>\n",
              "      <td>1591</td>\n",
              "      <td>1599</td>\n",
              "      <td>1605</td>\n",
              "      <td>1612</td>\n",
              "    </tr>\n",
              "    <tr>\n",
              "      <th>3</th>\n",
              "      <td>NaN</td>\n",
              "      <td>Andorra</td>\n",
              "      <td>42.50630</td>\n",
              "      <td>1.521800</td>\n",
              "      <td>0</td>\n",
              "      <td>0</td>\n",
              "      <td>0</td>\n",
              "      <td>0</td>\n",
              "      <td>0</td>\n",
              "      <td>0</td>\n",
              "      <td>...</td>\n",
              "      <td>53</td>\n",
              "      <td>53</td>\n",
              "      <td>53</td>\n",
              "      <td>53</td>\n",
              "      <td>53</td>\n",
              "      <td>53</td>\n",
              "      <td>53</td>\n",
              "      <td>53</td>\n",
              "      <td>53</td>\n",
              "      <td>53</td>\n",
              "    </tr>\n",
              "    <tr>\n",
              "      <th>4</th>\n",
              "      <td>NaN</td>\n",
              "      <td>Angola</td>\n",
              "      <td>-11.20270</td>\n",
              "      <td>17.873900</td>\n",
              "      <td>0</td>\n",
              "      <td>0</td>\n",
              "      <td>0</td>\n",
              "      <td>0</td>\n",
              "      <td>0</td>\n",
              "      <td>0</td>\n",
              "      <td>...</td>\n",
              "      <td>115</td>\n",
              "      <td>117</td>\n",
              "      <td>117</td>\n",
              "      <td>120</td>\n",
              "      <td>124</td>\n",
              "      <td>126</td>\n",
              "      <td>130</td>\n",
              "      <td>131</td>\n",
              "      <td>132</td>\n",
              "      <td>134</td>\n",
              "    </tr>\n",
              "  </tbody>\n",
              "</table>\n",
              "<p>5 rows × 240 columns</p>\n",
              "</div>\n",
              "      <button class=\"colab-df-convert\" onclick=\"convertToInteractive('df-b7ae116f-74aa-4cca-bad0-23dcfa69ff4d')\"\n",
              "              title=\"Convert this dataframe to an interactive table.\"\n",
              "              style=\"display:none;\">\n",
              "        \n",
              "  <svg xmlns=\"http://www.w3.org/2000/svg\" height=\"24px\"viewBox=\"0 0 24 24\"\n",
              "       width=\"24px\">\n",
              "    <path d=\"M0 0h24v24H0V0z\" fill=\"none\"/>\n",
              "    <path d=\"M18.56 5.44l.94 2.06.94-2.06 2.06-.94-2.06-.94-.94-2.06-.94 2.06-2.06.94zm-11 1L8.5 8.5l.94-2.06 2.06-.94-2.06-.94L8.5 2.5l-.94 2.06-2.06.94zm10 10l.94 2.06.94-2.06 2.06-.94-2.06-.94-.94-2.06-.94 2.06-2.06.94z\"/><path d=\"M17.41 7.96l-1.37-1.37c-.4-.4-.92-.59-1.43-.59-.52 0-1.04.2-1.43.59L10.3 9.45l-7.72 7.72c-.78.78-.78 2.05 0 2.83L4 21.41c.39.39.9.59 1.41.59.51 0 1.02-.2 1.41-.59l7.78-7.78 2.81-2.81c.8-.78.8-2.07 0-2.86zM5.41 20L4 18.59l7.72-7.72 1.47 1.35L5.41 20z\"/>\n",
              "  </svg>\n",
              "      </button>\n",
              "      \n",
              "  <style>\n",
              "    .colab-df-container {\n",
              "      display:flex;\n",
              "      flex-wrap:wrap;\n",
              "      gap: 12px;\n",
              "    }\n",
              "\n",
              "    .colab-df-convert {\n",
              "      background-color: #E8F0FE;\n",
              "      border: none;\n",
              "      border-radius: 50%;\n",
              "      cursor: pointer;\n",
              "      display: none;\n",
              "      fill: #1967D2;\n",
              "      height: 32px;\n",
              "      padding: 0 0 0 0;\n",
              "      width: 32px;\n",
              "    }\n",
              "\n",
              "    .colab-df-convert:hover {\n",
              "      background-color: #E2EBFA;\n",
              "      box-shadow: 0px 1px 2px rgba(60, 64, 67, 0.3), 0px 1px 3px 1px rgba(60, 64, 67, 0.15);\n",
              "      fill: #174EA6;\n",
              "    }\n",
              "\n",
              "    [theme=dark] .colab-df-convert {\n",
              "      background-color: #3B4455;\n",
              "      fill: #D2E3FC;\n",
              "    }\n",
              "\n",
              "    [theme=dark] .colab-df-convert:hover {\n",
              "      background-color: #434B5C;\n",
              "      box-shadow: 0px 1px 3px 1px rgba(0, 0, 0, 0.15);\n",
              "      filter: drop-shadow(0px 1px 2px rgba(0, 0, 0, 0.3));\n",
              "      fill: #FFFFFF;\n",
              "    }\n",
              "  </style>\n",
              "\n",
              "      <script>\n",
              "        const buttonEl =\n",
              "          document.querySelector('#df-b7ae116f-74aa-4cca-bad0-23dcfa69ff4d button.colab-df-convert');\n",
              "        buttonEl.style.display =\n",
              "          google.colab.kernel.accessAllowed ? 'block' : 'none';\n",
              "\n",
              "        async function convertToInteractive(key) {\n",
              "          const element = document.querySelector('#df-b7ae116f-74aa-4cca-bad0-23dcfa69ff4d');\n",
              "          const dataTable =\n",
              "            await google.colab.kernel.invokeFunction('convertToInteractive',\n",
              "                                                     [key], {});\n",
              "          if (!dataTable) return;\n",
              "\n",
              "          const docLinkHtml = 'Like what you see? Visit the ' +\n",
              "            '<a target=\"_blank\" href=https://colab.research.google.com/notebooks/data_table.ipynb>data table notebook</a>'\n",
              "            + ' to learn more about interactive tables.';\n",
              "          element.innerHTML = '';\n",
              "          dataTable['output_type'] = 'display_data';\n",
              "          await google.colab.output.renderOutput(dataTable, element);\n",
              "          const docLink = document.createElement('div');\n",
              "          docLink.innerHTML = docLinkHtml;\n",
              "          element.appendChild(docLink);\n",
              "        }\n",
              "      </script>\n",
              "    </div>\n",
              "  </div>\n",
              "  "
            ]
          },
          "metadata": {},
          "execution_count": 18
        }
      ]
    },
    {
      "cell_type": "code",
      "metadata": {
        "id": "L0zdu37Sd1Vw",
        "colab": {
          "base_uri": "https://localhost:8080/",
          "height": 299
        },
        "outputId": "d12b7c05-d240-45ec-b12e-b49710c3b91e"
      },
      "source": [
        "recovered.head()"
      ],
      "execution_count": null,
      "outputs": [
        {
          "output_type": "execute_result",
          "data": {
            "text/plain": [
              "  Province/State Country/Region       Lat       Long  1/22/20  1/23/20  \\\n",
              "0            NaN    Afghanistan  33.93911  67.709953        0        0   \n",
              "1            NaN        Albania  41.15330  20.168300        0        0   \n",
              "2            NaN        Algeria  28.03390   1.659600        0        0   \n",
              "3            NaN        Andorra  42.50630   1.521800        0        0   \n",
              "4            NaN         Angola -11.20270  17.873900        0        0   \n",
              "\n",
              "   1/24/20  1/25/20  1/26/20  1/27/20  ...  9/4/20  9/5/20  9/6/20  9/7/20  \\\n",
              "0        0        0        0        0  ...   29713   30082   30537   30557   \n",
              "1        0        0        0        0  ...    5882    5976    6106    6186   \n",
              "2        0        0        0        0  ...   32259   32481   32745   32985   \n",
              "3        0        0        0        0  ...     928     928     928     934   \n",
              "4        0        0        0        0  ...    1167    1192    1198    1215   \n",
              "\n",
              "   9/8/20  9/9/20  9/10/20  9/11/20  9/12/20  9/13/20  \n",
              "0   30715   31048    31129    31154    31234    31638  \n",
              "1    6239    6284     6346     6443     6494     6569  \n",
              "2   33183   33379    33562    33723    33875    34037  \n",
              "3     934     938      938      943      943      943  \n",
              "4    1215    1245     1277     1288     1289     1301  \n",
              "\n",
              "[5 rows x 240 columns]"
            ],
            "text/html": [
              "\n",
              "  <div id=\"df-e9fbc852-e994-4da4-9486-cfff5040b3d5\">\n",
              "    <div class=\"colab-df-container\">\n",
              "      <div>\n",
              "<style scoped>\n",
              "    .dataframe tbody tr th:only-of-type {\n",
              "        vertical-align: middle;\n",
              "    }\n",
              "\n",
              "    .dataframe tbody tr th {\n",
              "        vertical-align: top;\n",
              "    }\n",
              "\n",
              "    .dataframe thead th {\n",
              "        text-align: right;\n",
              "    }\n",
              "</style>\n",
              "<table border=\"1\" class=\"dataframe\">\n",
              "  <thead>\n",
              "    <tr style=\"text-align: right;\">\n",
              "      <th></th>\n",
              "      <th>Province/State</th>\n",
              "      <th>Country/Region</th>\n",
              "      <th>Lat</th>\n",
              "      <th>Long</th>\n",
              "      <th>1/22/20</th>\n",
              "      <th>1/23/20</th>\n",
              "      <th>1/24/20</th>\n",
              "      <th>1/25/20</th>\n",
              "      <th>1/26/20</th>\n",
              "      <th>1/27/20</th>\n",
              "      <th>...</th>\n",
              "      <th>9/4/20</th>\n",
              "      <th>9/5/20</th>\n",
              "      <th>9/6/20</th>\n",
              "      <th>9/7/20</th>\n",
              "      <th>9/8/20</th>\n",
              "      <th>9/9/20</th>\n",
              "      <th>9/10/20</th>\n",
              "      <th>9/11/20</th>\n",
              "      <th>9/12/20</th>\n",
              "      <th>9/13/20</th>\n",
              "    </tr>\n",
              "  </thead>\n",
              "  <tbody>\n",
              "    <tr>\n",
              "      <th>0</th>\n",
              "      <td>NaN</td>\n",
              "      <td>Afghanistan</td>\n",
              "      <td>33.93911</td>\n",
              "      <td>67.709953</td>\n",
              "      <td>0</td>\n",
              "      <td>0</td>\n",
              "      <td>0</td>\n",
              "      <td>0</td>\n",
              "      <td>0</td>\n",
              "      <td>0</td>\n",
              "      <td>...</td>\n",
              "      <td>29713</td>\n",
              "      <td>30082</td>\n",
              "      <td>30537</td>\n",
              "      <td>30557</td>\n",
              "      <td>30715</td>\n",
              "      <td>31048</td>\n",
              "      <td>31129</td>\n",
              "      <td>31154</td>\n",
              "      <td>31234</td>\n",
              "      <td>31638</td>\n",
              "    </tr>\n",
              "    <tr>\n",
              "      <th>1</th>\n",
              "      <td>NaN</td>\n",
              "      <td>Albania</td>\n",
              "      <td>41.15330</td>\n",
              "      <td>20.168300</td>\n",
              "      <td>0</td>\n",
              "      <td>0</td>\n",
              "      <td>0</td>\n",
              "      <td>0</td>\n",
              "      <td>0</td>\n",
              "      <td>0</td>\n",
              "      <td>...</td>\n",
              "      <td>5882</td>\n",
              "      <td>5976</td>\n",
              "      <td>6106</td>\n",
              "      <td>6186</td>\n",
              "      <td>6239</td>\n",
              "      <td>6284</td>\n",
              "      <td>6346</td>\n",
              "      <td>6443</td>\n",
              "      <td>6494</td>\n",
              "      <td>6569</td>\n",
              "    </tr>\n",
              "    <tr>\n",
              "      <th>2</th>\n",
              "      <td>NaN</td>\n",
              "      <td>Algeria</td>\n",
              "      <td>28.03390</td>\n",
              "      <td>1.659600</td>\n",
              "      <td>0</td>\n",
              "      <td>0</td>\n",
              "      <td>0</td>\n",
              "      <td>0</td>\n",
              "      <td>0</td>\n",
              "      <td>0</td>\n",
              "      <td>...</td>\n",
              "      <td>32259</td>\n",
              "      <td>32481</td>\n",
              "      <td>32745</td>\n",
              "      <td>32985</td>\n",
              "      <td>33183</td>\n",
              "      <td>33379</td>\n",
              "      <td>33562</td>\n",
              "      <td>33723</td>\n",
              "      <td>33875</td>\n",
              "      <td>34037</td>\n",
              "    </tr>\n",
              "    <tr>\n",
              "      <th>3</th>\n",
              "      <td>NaN</td>\n",
              "      <td>Andorra</td>\n",
              "      <td>42.50630</td>\n",
              "      <td>1.521800</td>\n",
              "      <td>0</td>\n",
              "      <td>0</td>\n",
              "      <td>0</td>\n",
              "      <td>0</td>\n",
              "      <td>0</td>\n",
              "      <td>0</td>\n",
              "      <td>...</td>\n",
              "      <td>928</td>\n",
              "      <td>928</td>\n",
              "      <td>928</td>\n",
              "      <td>934</td>\n",
              "      <td>934</td>\n",
              "      <td>938</td>\n",
              "      <td>938</td>\n",
              "      <td>943</td>\n",
              "      <td>943</td>\n",
              "      <td>943</td>\n",
              "    </tr>\n",
              "    <tr>\n",
              "      <th>4</th>\n",
              "      <td>NaN</td>\n",
              "      <td>Angola</td>\n",
              "      <td>-11.20270</td>\n",
              "      <td>17.873900</td>\n",
              "      <td>0</td>\n",
              "      <td>0</td>\n",
              "      <td>0</td>\n",
              "      <td>0</td>\n",
              "      <td>0</td>\n",
              "      <td>0</td>\n",
              "      <td>...</td>\n",
              "      <td>1167</td>\n",
              "      <td>1192</td>\n",
              "      <td>1198</td>\n",
              "      <td>1215</td>\n",
              "      <td>1215</td>\n",
              "      <td>1245</td>\n",
              "      <td>1277</td>\n",
              "      <td>1288</td>\n",
              "      <td>1289</td>\n",
              "      <td>1301</td>\n",
              "    </tr>\n",
              "  </tbody>\n",
              "</table>\n",
              "<p>5 rows × 240 columns</p>\n",
              "</div>\n",
              "      <button class=\"colab-df-convert\" onclick=\"convertToInteractive('df-e9fbc852-e994-4da4-9486-cfff5040b3d5')\"\n",
              "              title=\"Convert this dataframe to an interactive table.\"\n",
              "              style=\"display:none;\">\n",
              "        \n",
              "  <svg xmlns=\"http://www.w3.org/2000/svg\" height=\"24px\"viewBox=\"0 0 24 24\"\n",
              "       width=\"24px\">\n",
              "    <path d=\"M0 0h24v24H0V0z\" fill=\"none\"/>\n",
              "    <path d=\"M18.56 5.44l.94 2.06.94-2.06 2.06-.94-2.06-.94-.94-2.06-.94 2.06-2.06.94zm-11 1L8.5 8.5l.94-2.06 2.06-.94-2.06-.94L8.5 2.5l-.94 2.06-2.06.94zm10 10l.94 2.06.94-2.06 2.06-.94-2.06-.94-.94-2.06-.94 2.06-2.06.94z\"/><path d=\"M17.41 7.96l-1.37-1.37c-.4-.4-.92-.59-1.43-.59-.52 0-1.04.2-1.43.59L10.3 9.45l-7.72 7.72c-.78.78-.78 2.05 0 2.83L4 21.41c.39.39.9.59 1.41.59.51 0 1.02-.2 1.41-.59l7.78-7.78 2.81-2.81c.8-.78.8-2.07 0-2.86zM5.41 20L4 18.59l7.72-7.72 1.47 1.35L5.41 20z\"/>\n",
              "  </svg>\n",
              "      </button>\n",
              "      \n",
              "  <style>\n",
              "    .colab-df-container {\n",
              "      display:flex;\n",
              "      flex-wrap:wrap;\n",
              "      gap: 12px;\n",
              "    }\n",
              "\n",
              "    .colab-df-convert {\n",
              "      background-color: #E8F0FE;\n",
              "      border: none;\n",
              "      border-radius: 50%;\n",
              "      cursor: pointer;\n",
              "      display: none;\n",
              "      fill: #1967D2;\n",
              "      height: 32px;\n",
              "      padding: 0 0 0 0;\n",
              "      width: 32px;\n",
              "    }\n",
              "\n",
              "    .colab-df-convert:hover {\n",
              "      background-color: #E2EBFA;\n",
              "      box-shadow: 0px 1px 2px rgba(60, 64, 67, 0.3), 0px 1px 3px 1px rgba(60, 64, 67, 0.15);\n",
              "      fill: #174EA6;\n",
              "    }\n",
              "\n",
              "    [theme=dark] .colab-df-convert {\n",
              "      background-color: #3B4455;\n",
              "      fill: #D2E3FC;\n",
              "    }\n",
              "\n",
              "    [theme=dark] .colab-df-convert:hover {\n",
              "      background-color: #434B5C;\n",
              "      box-shadow: 0px 1px 3px 1px rgba(0, 0, 0, 0.15);\n",
              "      filter: drop-shadow(0px 1px 2px rgba(0, 0, 0, 0.3));\n",
              "      fill: #FFFFFF;\n",
              "    }\n",
              "  </style>\n",
              "\n",
              "      <script>\n",
              "        const buttonEl =\n",
              "          document.querySelector('#df-e9fbc852-e994-4da4-9486-cfff5040b3d5 button.colab-df-convert');\n",
              "        buttonEl.style.display =\n",
              "          google.colab.kernel.accessAllowed ? 'block' : 'none';\n",
              "\n",
              "        async function convertToInteractive(key) {\n",
              "          const element = document.querySelector('#df-e9fbc852-e994-4da4-9486-cfff5040b3d5');\n",
              "          const dataTable =\n",
              "            await google.colab.kernel.invokeFunction('convertToInteractive',\n",
              "                                                     [key], {});\n",
              "          if (!dataTable) return;\n",
              "\n",
              "          const docLinkHtml = 'Like what you see? Visit the ' +\n",
              "            '<a target=\"_blank\" href=https://colab.research.google.com/notebooks/data_table.ipynb>data table notebook</a>'\n",
              "            + ' to learn more about interactive tables.';\n",
              "          element.innerHTML = '';\n",
              "          dataTable['output_type'] = 'display_data';\n",
              "          await google.colab.output.renderOutput(dataTable, element);\n",
              "          const docLink = document.createElement('div');\n",
              "          docLink.innerHTML = docLinkHtml;\n",
              "          element.appendChild(docLink);\n",
              "        }\n",
              "      </script>\n",
              "    </div>\n",
              "  </div>\n",
              "  "
            ]
          },
          "metadata": {},
          "execution_count": 19
        }
      ]
    },
    {
      "cell_type": "code",
      "metadata": {
        "id": "tv-N6fUZd1V6"
      },
      "source": [
        "confirmed_m = confirmed.melt(['Country/Region'], confirmed.columns[4:], var_name='Dates', value_name='Count')\n",
        "confirmed_m.rename(columns={\"Country/Region\": \"Country\"}, inplace=True)\n",
        "confirmed_m.Dates = pd.to_datetime(confirmed_m.Dates)\n",
        "\n",
        "deaths_m =deaths.melt(['Country/Region'], confirmed.columns[4:], var_name='Dates', value_name='Count')\n",
        "deaths_m.rename(columns={\"Country/Region\": \"Country\"}, inplace=True)\n",
        "deaths_m.Dates = pd.to_datetime(deaths_m.Dates)\n",
        "\n",
        "recovered_m = recovered.melt(['Country/Region'], confirmed.columns[4:], var_name='Dates', value_name='Count')\n",
        "recovered_m.rename(columns={\"Country/Region\": \"Country\"}, inplace=True)\n",
        "recovered_m.Dates = pd.to_datetime(recovered_m.Dates)"
      ],
      "execution_count": null,
      "outputs": []
    },
    {
      "cell_type": "code",
      "metadata": {
        "id": "8dhA0g4Od1WA",
        "colab": {
          "base_uri": "https://localhost:8080/",
          "height": 206
        },
        "outputId": "df1f80c1-58df-45c4-ed65-1c0b181259f9"
      },
      "source": [
        "confirmed_m.head()"
      ],
      "execution_count": null,
      "outputs": [
        {
          "output_type": "execute_result",
          "data": {
            "text/plain": [
              "       Country      Dates  Count\n",
              "0  Afghanistan 2020-01-22      0\n",
              "1      Albania 2020-01-22      0\n",
              "2      Algeria 2020-01-22      0\n",
              "3      Andorra 2020-01-22      0\n",
              "4       Angola 2020-01-22      0"
            ],
            "text/html": [
              "\n",
              "  <div id=\"df-eea8e16c-bb3c-4f94-b03e-86b0ed4654df\">\n",
              "    <div class=\"colab-df-container\">\n",
              "      <div>\n",
              "<style scoped>\n",
              "    .dataframe tbody tr th:only-of-type {\n",
              "        vertical-align: middle;\n",
              "    }\n",
              "\n",
              "    .dataframe tbody tr th {\n",
              "        vertical-align: top;\n",
              "    }\n",
              "\n",
              "    .dataframe thead th {\n",
              "        text-align: right;\n",
              "    }\n",
              "</style>\n",
              "<table border=\"1\" class=\"dataframe\">\n",
              "  <thead>\n",
              "    <tr style=\"text-align: right;\">\n",
              "      <th></th>\n",
              "      <th>Country</th>\n",
              "      <th>Dates</th>\n",
              "      <th>Count</th>\n",
              "    </tr>\n",
              "  </thead>\n",
              "  <tbody>\n",
              "    <tr>\n",
              "      <th>0</th>\n",
              "      <td>Afghanistan</td>\n",
              "      <td>2020-01-22</td>\n",
              "      <td>0</td>\n",
              "    </tr>\n",
              "    <tr>\n",
              "      <th>1</th>\n",
              "      <td>Albania</td>\n",
              "      <td>2020-01-22</td>\n",
              "      <td>0</td>\n",
              "    </tr>\n",
              "    <tr>\n",
              "      <th>2</th>\n",
              "      <td>Algeria</td>\n",
              "      <td>2020-01-22</td>\n",
              "      <td>0</td>\n",
              "    </tr>\n",
              "    <tr>\n",
              "      <th>3</th>\n",
              "      <td>Andorra</td>\n",
              "      <td>2020-01-22</td>\n",
              "      <td>0</td>\n",
              "    </tr>\n",
              "    <tr>\n",
              "      <th>4</th>\n",
              "      <td>Angola</td>\n",
              "      <td>2020-01-22</td>\n",
              "      <td>0</td>\n",
              "    </tr>\n",
              "  </tbody>\n",
              "</table>\n",
              "</div>\n",
              "      <button class=\"colab-df-convert\" onclick=\"convertToInteractive('df-eea8e16c-bb3c-4f94-b03e-86b0ed4654df')\"\n",
              "              title=\"Convert this dataframe to an interactive table.\"\n",
              "              style=\"display:none;\">\n",
              "        \n",
              "  <svg xmlns=\"http://www.w3.org/2000/svg\" height=\"24px\"viewBox=\"0 0 24 24\"\n",
              "       width=\"24px\">\n",
              "    <path d=\"M0 0h24v24H0V0z\" fill=\"none\"/>\n",
              "    <path d=\"M18.56 5.44l.94 2.06.94-2.06 2.06-.94-2.06-.94-.94-2.06-.94 2.06-2.06.94zm-11 1L8.5 8.5l.94-2.06 2.06-.94-2.06-.94L8.5 2.5l-.94 2.06-2.06.94zm10 10l.94 2.06.94-2.06 2.06-.94-2.06-.94-.94-2.06-.94 2.06-2.06.94z\"/><path d=\"M17.41 7.96l-1.37-1.37c-.4-.4-.92-.59-1.43-.59-.52 0-1.04.2-1.43.59L10.3 9.45l-7.72 7.72c-.78.78-.78 2.05 0 2.83L4 21.41c.39.39.9.59 1.41.59.51 0 1.02-.2 1.41-.59l7.78-7.78 2.81-2.81c.8-.78.8-2.07 0-2.86zM5.41 20L4 18.59l7.72-7.72 1.47 1.35L5.41 20z\"/>\n",
              "  </svg>\n",
              "      </button>\n",
              "      \n",
              "  <style>\n",
              "    .colab-df-container {\n",
              "      display:flex;\n",
              "      flex-wrap:wrap;\n",
              "      gap: 12px;\n",
              "    }\n",
              "\n",
              "    .colab-df-convert {\n",
              "      background-color: #E8F0FE;\n",
              "      border: none;\n",
              "      border-radius: 50%;\n",
              "      cursor: pointer;\n",
              "      display: none;\n",
              "      fill: #1967D2;\n",
              "      height: 32px;\n",
              "      padding: 0 0 0 0;\n",
              "      width: 32px;\n",
              "    }\n",
              "\n",
              "    .colab-df-convert:hover {\n",
              "      background-color: #E2EBFA;\n",
              "      box-shadow: 0px 1px 2px rgba(60, 64, 67, 0.3), 0px 1px 3px 1px rgba(60, 64, 67, 0.15);\n",
              "      fill: #174EA6;\n",
              "    }\n",
              "\n",
              "    [theme=dark] .colab-df-convert {\n",
              "      background-color: #3B4455;\n",
              "      fill: #D2E3FC;\n",
              "    }\n",
              "\n",
              "    [theme=dark] .colab-df-convert:hover {\n",
              "      background-color: #434B5C;\n",
              "      box-shadow: 0px 1px 3px 1px rgba(0, 0, 0, 0.15);\n",
              "      filter: drop-shadow(0px 1px 2px rgba(0, 0, 0, 0.3));\n",
              "      fill: #FFFFFF;\n",
              "    }\n",
              "  </style>\n",
              "\n",
              "      <script>\n",
              "        const buttonEl =\n",
              "          document.querySelector('#df-eea8e16c-bb3c-4f94-b03e-86b0ed4654df button.colab-df-convert');\n",
              "        buttonEl.style.display =\n",
              "          google.colab.kernel.accessAllowed ? 'block' : 'none';\n",
              "\n",
              "        async function convertToInteractive(key) {\n",
              "          const element = document.querySelector('#df-eea8e16c-bb3c-4f94-b03e-86b0ed4654df');\n",
              "          const dataTable =\n",
              "            await google.colab.kernel.invokeFunction('convertToInteractive',\n",
              "                                                     [key], {});\n",
              "          if (!dataTable) return;\n",
              "\n",
              "          const docLinkHtml = 'Like what you see? Visit the ' +\n",
              "            '<a target=\"_blank\" href=https://colab.research.google.com/notebooks/data_table.ipynb>data table notebook</a>'\n",
              "            + ' to learn more about interactive tables.';\n",
              "          element.innerHTML = '';\n",
              "          dataTable['output_type'] = 'display_data';\n",
              "          await google.colab.output.renderOutput(dataTable, element);\n",
              "          const docLink = document.createElement('div');\n",
              "          docLink.innerHTML = docLinkHtml;\n",
              "          element.appendChild(docLink);\n",
              "        }\n",
              "      </script>\n",
              "    </div>\n",
              "  </div>\n",
              "  "
            ]
          },
          "metadata": {},
          "execution_count": 21
        }
      ]
    },
    {
      "cell_type": "code",
      "metadata": {
        "id": "DJqlNC0od1WE",
        "colab": {
          "base_uri": "https://localhost:8080/",
          "height": 206
        },
        "outputId": "a21c002a-007a-43a9-e020-27b7c4bf8273"
      },
      "source": [
        "deaths_m.head()"
      ],
      "execution_count": null,
      "outputs": [
        {
          "output_type": "execute_result",
          "data": {
            "text/plain": [
              "       Country      Dates  Count\n",
              "0  Afghanistan 2020-01-22      0\n",
              "1      Albania 2020-01-22      0\n",
              "2      Algeria 2020-01-22      0\n",
              "3      Andorra 2020-01-22      0\n",
              "4       Angola 2020-01-22      0"
            ],
            "text/html": [
              "\n",
              "  <div id=\"df-0fffaa1a-1d1e-4dd2-8ef7-fa214585feb9\">\n",
              "    <div class=\"colab-df-container\">\n",
              "      <div>\n",
              "<style scoped>\n",
              "    .dataframe tbody tr th:only-of-type {\n",
              "        vertical-align: middle;\n",
              "    }\n",
              "\n",
              "    .dataframe tbody tr th {\n",
              "        vertical-align: top;\n",
              "    }\n",
              "\n",
              "    .dataframe thead th {\n",
              "        text-align: right;\n",
              "    }\n",
              "</style>\n",
              "<table border=\"1\" class=\"dataframe\">\n",
              "  <thead>\n",
              "    <tr style=\"text-align: right;\">\n",
              "      <th></th>\n",
              "      <th>Country</th>\n",
              "      <th>Dates</th>\n",
              "      <th>Count</th>\n",
              "    </tr>\n",
              "  </thead>\n",
              "  <tbody>\n",
              "    <tr>\n",
              "      <th>0</th>\n",
              "      <td>Afghanistan</td>\n",
              "      <td>2020-01-22</td>\n",
              "      <td>0</td>\n",
              "    </tr>\n",
              "    <tr>\n",
              "      <th>1</th>\n",
              "      <td>Albania</td>\n",
              "      <td>2020-01-22</td>\n",
              "      <td>0</td>\n",
              "    </tr>\n",
              "    <tr>\n",
              "      <th>2</th>\n",
              "      <td>Algeria</td>\n",
              "      <td>2020-01-22</td>\n",
              "      <td>0</td>\n",
              "    </tr>\n",
              "    <tr>\n",
              "      <th>3</th>\n",
              "      <td>Andorra</td>\n",
              "      <td>2020-01-22</td>\n",
              "      <td>0</td>\n",
              "    </tr>\n",
              "    <tr>\n",
              "      <th>4</th>\n",
              "      <td>Angola</td>\n",
              "      <td>2020-01-22</td>\n",
              "      <td>0</td>\n",
              "    </tr>\n",
              "  </tbody>\n",
              "</table>\n",
              "</div>\n",
              "      <button class=\"colab-df-convert\" onclick=\"convertToInteractive('df-0fffaa1a-1d1e-4dd2-8ef7-fa214585feb9')\"\n",
              "              title=\"Convert this dataframe to an interactive table.\"\n",
              "              style=\"display:none;\">\n",
              "        \n",
              "  <svg xmlns=\"http://www.w3.org/2000/svg\" height=\"24px\"viewBox=\"0 0 24 24\"\n",
              "       width=\"24px\">\n",
              "    <path d=\"M0 0h24v24H0V0z\" fill=\"none\"/>\n",
              "    <path d=\"M18.56 5.44l.94 2.06.94-2.06 2.06-.94-2.06-.94-.94-2.06-.94 2.06-2.06.94zm-11 1L8.5 8.5l.94-2.06 2.06-.94-2.06-.94L8.5 2.5l-.94 2.06-2.06.94zm10 10l.94 2.06.94-2.06 2.06-.94-2.06-.94-.94-2.06-.94 2.06-2.06.94z\"/><path d=\"M17.41 7.96l-1.37-1.37c-.4-.4-.92-.59-1.43-.59-.52 0-1.04.2-1.43.59L10.3 9.45l-7.72 7.72c-.78.78-.78 2.05 0 2.83L4 21.41c.39.39.9.59 1.41.59.51 0 1.02-.2 1.41-.59l7.78-7.78 2.81-2.81c.8-.78.8-2.07 0-2.86zM5.41 20L4 18.59l7.72-7.72 1.47 1.35L5.41 20z\"/>\n",
              "  </svg>\n",
              "      </button>\n",
              "      \n",
              "  <style>\n",
              "    .colab-df-container {\n",
              "      display:flex;\n",
              "      flex-wrap:wrap;\n",
              "      gap: 12px;\n",
              "    }\n",
              "\n",
              "    .colab-df-convert {\n",
              "      background-color: #E8F0FE;\n",
              "      border: none;\n",
              "      border-radius: 50%;\n",
              "      cursor: pointer;\n",
              "      display: none;\n",
              "      fill: #1967D2;\n",
              "      height: 32px;\n",
              "      padding: 0 0 0 0;\n",
              "      width: 32px;\n",
              "    }\n",
              "\n",
              "    .colab-df-convert:hover {\n",
              "      background-color: #E2EBFA;\n",
              "      box-shadow: 0px 1px 2px rgba(60, 64, 67, 0.3), 0px 1px 3px 1px rgba(60, 64, 67, 0.15);\n",
              "      fill: #174EA6;\n",
              "    }\n",
              "\n",
              "    [theme=dark] .colab-df-convert {\n",
              "      background-color: #3B4455;\n",
              "      fill: #D2E3FC;\n",
              "    }\n",
              "\n",
              "    [theme=dark] .colab-df-convert:hover {\n",
              "      background-color: #434B5C;\n",
              "      box-shadow: 0px 1px 3px 1px rgba(0, 0, 0, 0.15);\n",
              "      filter: drop-shadow(0px 1px 2px rgba(0, 0, 0, 0.3));\n",
              "      fill: #FFFFFF;\n",
              "    }\n",
              "  </style>\n",
              "\n",
              "      <script>\n",
              "        const buttonEl =\n",
              "          document.querySelector('#df-0fffaa1a-1d1e-4dd2-8ef7-fa214585feb9 button.colab-df-convert');\n",
              "        buttonEl.style.display =\n",
              "          google.colab.kernel.accessAllowed ? 'block' : 'none';\n",
              "\n",
              "        async function convertToInteractive(key) {\n",
              "          const element = document.querySelector('#df-0fffaa1a-1d1e-4dd2-8ef7-fa214585feb9');\n",
              "          const dataTable =\n",
              "            await google.colab.kernel.invokeFunction('convertToInteractive',\n",
              "                                                     [key], {});\n",
              "          if (!dataTable) return;\n",
              "\n",
              "          const docLinkHtml = 'Like what you see? Visit the ' +\n",
              "            '<a target=\"_blank\" href=https://colab.research.google.com/notebooks/data_table.ipynb>data table notebook</a>'\n",
              "            + ' to learn more about interactive tables.';\n",
              "          element.innerHTML = '';\n",
              "          dataTable['output_type'] = 'display_data';\n",
              "          await google.colab.output.renderOutput(dataTable, element);\n",
              "          const docLink = document.createElement('div');\n",
              "          docLink.innerHTML = docLinkHtml;\n",
              "          element.appendChild(docLink);\n",
              "        }\n",
              "      </script>\n",
              "    </div>\n",
              "  </div>\n",
              "  "
            ]
          },
          "metadata": {},
          "execution_count": 22
        }
      ]
    },
    {
      "cell_type": "code",
      "metadata": {
        "id": "ybGIO5iBd1WH",
        "colab": {
          "base_uri": "https://localhost:8080/",
          "height": 206
        },
        "outputId": "786c316e-b6f9-47e9-b39b-bf2cf773dd9c"
      },
      "source": [
        "recovered_m.head()"
      ],
      "execution_count": null,
      "outputs": [
        {
          "output_type": "execute_result",
          "data": {
            "text/plain": [
              "       Country      Dates  Count\n",
              "0  Afghanistan 2020-01-22      0\n",
              "1      Albania 2020-01-22      0\n",
              "2      Algeria 2020-01-22      0\n",
              "3      Andorra 2020-01-22      0\n",
              "4       Angola 2020-01-22      0"
            ],
            "text/html": [
              "\n",
              "  <div id=\"df-7933e408-c120-47fc-bdd4-bc90c2cc280a\">\n",
              "    <div class=\"colab-df-container\">\n",
              "      <div>\n",
              "<style scoped>\n",
              "    .dataframe tbody tr th:only-of-type {\n",
              "        vertical-align: middle;\n",
              "    }\n",
              "\n",
              "    .dataframe tbody tr th {\n",
              "        vertical-align: top;\n",
              "    }\n",
              "\n",
              "    .dataframe thead th {\n",
              "        text-align: right;\n",
              "    }\n",
              "</style>\n",
              "<table border=\"1\" class=\"dataframe\">\n",
              "  <thead>\n",
              "    <tr style=\"text-align: right;\">\n",
              "      <th></th>\n",
              "      <th>Country</th>\n",
              "      <th>Dates</th>\n",
              "      <th>Count</th>\n",
              "    </tr>\n",
              "  </thead>\n",
              "  <tbody>\n",
              "    <tr>\n",
              "      <th>0</th>\n",
              "      <td>Afghanistan</td>\n",
              "      <td>2020-01-22</td>\n",
              "      <td>0</td>\n",
              "    </tr>\n",
              "    <tr>\n",
              "      <th>1</th>\n",
              "      <td>Albania</td>\n",
              "      <td>2020-01-22</td>\n",
              "      <td>0</td>\n",
              "    </tr>\n",
              "    <tr>\n",
              "      <th>2</th>\n",
              "      <td>Algeria</td>\n",
              "      <td>2020-01-22</td>\n",
              "      <td>0</td>\n",
              "    </tr>\n",
              "    <tr>\n",
              "      <th>3</th>\n",
              "      <td>Andorra</td>\n",
              "      <td>2020-01-22</td>\n",
              "      <td>0</td>\n",
              "    </tr>\n",
              "    <tr>\n",
              "      <th>4</th>\n",
              "      <td>Angola</td>\n",
              "      <td>2020-01-22</td>\n",
              "      <td>0</td>\n",
              "    </tr>\n",
              "  </tbody>\n",
              "</table>\n",
              "</div>\n",
              "      <button class=\"colab-df-convert\" onclick=\"convertToInteractive('df-7933e408-c120-47fc-bdd4-bc90c2cc280a')\"\n",
              "              title=\"Convert this dataframe to an interactive table.\"\n",
              "              style=\"display:none;\">\n",
              "        \n",
              "  <svg xmlns=\"http://www.w3.org/2000/svg\" height=\"24px\"viewBox=\"0 0 24 24\"\n",
              "       width=\"24px\">\n",
              "    <path d=\"M0 0h24v24H0V0z\" fill=\"none\"/>\n",
              "    <path d=\"M18.56 5.44l.94 2.06.94-2.06 2.06-.94-2.06-.94-.94-2.06-.94 2.06-2.06.94zm-11 1L8.5 8.5l.94-2.06 2.06-.94-2.06-.94L8.5 2.5l-.94 2.06-2.06.94zm10 10l.94 2.06.94-2.06 2.06-.94-2.06-.94-.94-2.06-.94 2.06-2.06.94z\"/><path d=\"M17.41 7.96l-1.37-1.37c-.4-.4-.92-.59-1.43-.59-.52 0-1.04.2-1.43.59L10.3 9.45l-7.72 7.72c-.78.78-.78 2.05 0 2.83L4 21.41c.39.39.9.59 1.41.59.51 0 1.02-.2 1.41-.59l7.78-7.78 2.81-2.81c.8-.78.8-2.07 0-2.86zM5.41 20L4 18.59l7.72-7.72 1.47 1.35L5.41 20z\"/>\n",
              "  </svg>\n",
              "      </button>\n",
              "      \n",
              "  <style>\n",
              "    .colab-df-container {\n",
              "      display:flex;\n",
              "      flex-wrap:wrap;\n",
              "      gap: 12px;\n",
              "    }\n",
              "\n",
              "    .colab-df-convert {\n",
              "      background-color: #E8F0FE;\n",
              "      border: none;\n",
              "      border-radius: 50%;\n",
              "      cursor: pointer;\n",
              "      display: none;\n",
              "      fill: #1967D2;\n",
              "      height: 32px;\n",
              "      padding: 0 0 0 0;\n",
              "      width: 32px;\n",
              "    }\n",
              "\n",
              "    .colab-df-convert:hover {\n",
              "      background-color: #E2EBFA;\n",
              "      box-shadow: 0px 1px 2px rgba(60, 64, 67, 0.3), 0px 1px 3px 1px rgba(60, 64, 67, 0.15);\n",
              "      fill: #174EA6;\n",
              "    }\n",
              "\n",
              "    [theme=dark] .colab-df-convert {\n",
              "      background-color: #3B4455;\n",
              "      fill: #D2E3FC;\n",
              "    }\n",
              "\n",
              "    [theme=dark] .colab-df-convert:hover {\n",
              "      background-color: #434B5C;\n",
              "      box-shadow: 0px 1px 3px 1px rgba(0, 0, 0, 0.15);\n",
              "      filter: drop-shadow(0px 1px 2px rgba(0, 0, 0, 0.3));\n",
              "      fill: #FFFFFF;\n",
              "    }\n",
              "  </style>\n",
              "\n",
              "      <script>\n",
              "        const buttonEl =\n",
              "          document.querySelector('#df-7933e408-c120-47fc-bdd4-bc90c2cc280a button.colab-df-convert');\n",
              "        buttonEl.style.display =\n",
              "          google.colab.kernel.accessAllowed ? 'block' : 'none';\n",
              "\n",
              "        async function convertToInteractive(key) {\n",
              "          const element = document.querySelector('#df-7933e408-c120-47fc-bdd4-bc90c2cc280a');\n",
              "          const dataTable =\n",
              "            await google.colab.kernel.invokeFunction('convertToInteractive',\n",
              "                                                     [key], {});\n",
              "          if (!dataTable) return;\n",
              "\n",
              "          const docLinkHtml = 'Like what you see? Visit the ' +\n",
              "            '<a target=\"_blank\" href=https://colab.research.google.com/notebooks/data_table.ipynb>data table notebook</a>'\n",
              "            + ' to learn more about interactive tables.';\n",
              "          element.innerHTML = '';\n",
              "          dataTable['output_type'] = 'display_data';\n",
              "          await google.colab.output.renderOutput(dataTable, element);\n",
              "          const docLink = document.createElement('div');\n",
              "          docLink.innerHTML = docLinkHtml;\n",
              "          element.appendChild(docLink);\n",
              "        }\n",
              "      </script>\n",
              "    </div>\n",
              "  </div>\n",
              "  "
            ]
          },
          "metadata": {},
          "execution_count": 23
        }
      ]
    },
    {
      "cell_type": "code",
      "metadata": {
        "id": "7o5mXtFrd1WJ",
        "colab": {
          "base_uri": "https://localhost:8080/",
          "height": 312
        },
        "outputId": "5903f5a3-874e-4c4d-a6f0-3f5523d2f19c"
      },
      "source": [
        "confirmed_m.groupby('Dates').sum().plot();\n",
        "plt.ylabel('Confirmed', fontsize=16);\n",
        "plt.xlabel('Dates', fontsize=16);"
      ],
      "execution_count": null,
      "outputs": [
        {
          "output_type": "display_data",
          "data": {
            "text/plain": [
              "<Figure size 432x288 with 1 Axes>"
            ],
            "image/png": "[encoded data removed]"
          },
          "metadata": {
            "needs_background": "light"
          }
        }
      ]
    },
    {
      "cell_type": "code",
      "metadata": {
        "id": "9_SpxG0od1WN",
        "colab": {
          "base_uri": "https://localhost:8080/",
          "height": 299
        },
        "outputId": "2c8c3a43-549f-424e-c644-e6f0820f72a9"
      },
      "source": [
        "deaths_m.groupby('Dates').sum().plot();\n",
        "plt.ylabel('Death', fontsize=16);\n",
        "plt.xlabel('Dates', fontsize=16);"
      ],
      "execution_count": null,
      "outputs": [
        {
          "output_type": "display_data",
          "data": {
            "text/plain": [
              "<Figure size 432x288 with 1 Axes>"
            ],
            "image/png": "[encoded data removed]"
          },
          "metadata": {
            "needs_background": "light"
          }
        }
      ]
    },
    {
      "cell_type": "code",
      "metadata": {
        "id": "L88pAAdKd1WR",
        "colab": {
          "base_uri": "https://localhost:8080/",
          "height": 312
        },
        "outputId": "e491f2f3-c007-4d23-91ee-f78eb50bee18"
      },
      "source": [
        "recovered_m.groupby('Dates').sum().plot();\n",
        "plt.ylabel('Recovered', fontsize=16);\n",
        "plt.xlabel('Dates', fontsize=16);"
      ],
      "execution_count": null,
      "outputs": [
        {
          "output_type": "display_data",
          "data": {
            "text/plain": [
              "<Figure size 432x288 with 1 Axes>"
            ],
            "image/png": "[encoded data removed]"
          },
          "metadata": {
            "needs_background": "light"
          }
        }
      ]
    },
    {
      "cell_type": "markdown",
      "metadata": {
        "id": "eL6pBdDrd1WU"
      },
      "source": [
        "**ETS Decomposition**"
      ]
    },
    {
      "cell_type": "code",
      "metadata": {
        "id": "JsEQLxK0d1WU"
      },
      "source": [
        "from statsmodels.tsa.seasonal import seasonal_decompose "
      ],
      "execution_count": null,
      "outputs": []
    },
    {
      "cell_type": "markdown",
      "metadata": {
        "id": "7X_Bl45Dd1WX"
      },
      "source": [
        "**Confirmed** "
      ]
    },
    {
      "cell_type": "code",
      "metadata": {
        "id": "P0leTI8td1WY"
      },
      "source": [
        "temp = confirmed_m.groupby('Dates').sum()[confirmed_m.groupby('Dates').sum()['Count']>=0]['Count']\n",
        "result1 = seasonal_decompose(temp)"
      ],
      "execution_count": null,
      "outputs": []
    },
    {
      "cell_type": "code",
      "metadata": {
        "id": "etITonQ9d1Wa",
        "colab": {
          "base_uri": "https://localhost:8080/",
          "height": 501
        },
        "outputId": "76af25e7-23b9-482a-8620-7b8569363f55"
      },
      "source": [
        "fig = result1.plot()\n",
        "fig.set_size_inches(15,8)"
      ],
      "execution_count": null,
      "outputs": [
        {
          "output_type": "display_data",
          "data": {
            "text/plain": [
              "<Figure size 1080x576 with 4 Axes>"
            ],
            "image/png": "[encoded data removed]"
          },
          "metadata": {
            "needs_background": "light"
          }
        }
      ]
    },
    {
      "cell_type": "markdown",
      "metadata": {
        "id": "xbKIN82Id1Wv"
      },
      "source": [
        "The above plot shows that an increasing trend is present,as well as that the data has seasonal components.It can also be inferred that noise exists in the data from the residual component"
      ]
    },
    {
      "cell_type": "markdown",
      "metadata": {
        "id": "tbiTk657d1Ww"
      },
      "source": [
        "**Deaths**"
      ]
    },
    {
      "cell_type": "code",
      "metadata": {
        "id": "YULJD0xJd1Ww"
      },
      "source": [
        "temp = deaths_m.groupby('Dates').sum()[deaths_m.groupby('Dates').sum()['Count']>=0]['Count']\n",
        "result2 = seasonal_decompose(temp)"
      ],
      "execution_count": null,
      "outputs": []
    },
    {
      "cell_type": "code",
      "metadata": {
        "id": "9zvraXmFd1Wx",
        "colab": {
          "base_uri": "https://localhost:8080/",
          "height": 495
        },
        "outputId": "2a8e5b8e-92cf-4372-d44c-33e5a2a6f12a"
      },
      "source": [
        "fig = result2.plot()\n",
        "fig.set_size_inches(15,8)"
      ],
      "execution_count": null,
      "outputs": [
        {
          "output_type": "display_data",
          "data": {
            "text/plain": [
              "<Figure size 1080x576 with 4 Axes>"
            ],
            "image/png": "[encoded data removed]"
          },
          "metadata": {
            "needs_background": "light"
          }
        }
      ]
    },
    {
      "cell_type": "markdown",
      "metadata": {
        "id": "ihnGmc_Yd1W0"
      },
      "source": [
        "The above plot shows that an increasing trend is present,as well as that the data has seasonal components.It can also be inferred that noise exists in the data from the residual component"
      ]
    },
    {
      "cell_type": "markdown",
      "metadata": {
        "id": "WX8OMcdqd1W1"
      },
      "source": [
        "**Recovered data**"
      ]
    },
    {
      "cell_type": "code",
      "metadata": {
        "id": "ytPKS_0Ld1W1"
      },
      "source": [
        "temp = recovered_m.groupby('Dates').sum()[recovered_m.groupby('Dates').sum()['Count']>=0]['Count']\n",
        "result3 = seasonal_decompose(temp)"
      ],
      "execution_count": null,
      "outputs": []
    },
    {
      "cell_type": "code",
      "metadata": {
        "id": "55fcZu99d1W3",
        "colab": {
          "base_uri": "https://localhost:8080/",
          "height": 501
        },
        "outputId": "6ad8d95e-7fe9-4735-8e96-c7d76d324639"
      },
      "source": [
        "fig = result3.plot()\n",
        "fig.set_size_inches(15,8)"
      ],
      "execution_count": null,
      "outputs": [
        {
          "output_type": "display_data",
          "data": {
            "text/plain": [
              "<Figure size 1080x576 with 4 Axes>"
            ],
            "image/png": "[encoded data removed]"
          },
          "metadata": {
            "needs_background": "light"
          }
        }
      ]
    },
    {
      "cell_type": "markdown",
      "metadata": {
        "id": "OOWpZpPRd1W6"
      },
      "source": [
        "The above plot shows that an increasing trend is present,as well as that the data has seasonal components.It can also be inferred that noise exists in the data from the residual component"
      ]
    },
    {
      "cell_type": "markdown",
      "metadata": {
        "id": "JV-GI1cHd1W6"
      },
      "source": [
        "**Stationary test using ADF**"
      ]
    },
    {
      "cell_type": "markdown",
      "metadata": {
        "id": "3qRnu7b9d1W7"
      },
      "source": [
        " The Augmented Dickey Fuller test is performed to check for the staionarity of the data.In time series predictions,having a stationary dataset is important to have correct forecasts."
      ]
    },
    {
      "cell_type": "code",
      "metadata": {
        "id": "PB7SWWted1W7"
      },
      "source": [
        "from statsmodels.tsa.stattools import adfuller"
      ],
      "execution_count": null,
      "outputs": []
    },
    {
      "cell_type": "code",
      "metadata": {
        "id": "s5ILutiEd1W9"
      },
      "source": [
        "confirmed_to_fit = confirmed_m.groupby('Dates').sum()[confirmed_m.groupby('Dates').sum()['Count']>=0]\n",
        "confirmed_to_fit.head()"
      ],
      "execution_count": null,
      "outputs": []
    },
    {
      "cell_type": "code",
      "metadata": {
        "id": "ETeRNogod1W_"
      },
      "source": [
        "deaths_to_fit = deaths_m.groupby('Dates').sum()[deaths_m.groupby('Dates').sum()['Count']>=0]\n",
        "deaths_to_fit.head()"
      ],
      "execution_count": null,
      "outputs": []
    },
    {
      "cell_type": "code",
      "metadata": {
        "id": "V3JBhkAkd1XF"
      },
      "source": [
        "recovered_to_fit = recovered_m.groupby('Dates').sum()[recovered_m.groupby('Dates').sum()['Count']>=0]\n",
        "recovered_to_fit.head()"
      ],
      "execution_count": null,
      "outputs": []
    },
    {
      "cell_type": "code",
      "metadata": {
        "id": "3KR5bEGNd1XG"
      },
      "source": [
        "def adf_check(time_series):\n",
        "\n",
        "    #Pass in a time series, returns ADF report\n",
        "    result = adfuller(time_series)\n",
        "    \n",
        "    print('Augmented Dickey-Fuller Test:')\n",
        "    \n",
        "    labels = ['ADF Test Statistic','p-value','#Lags Used','Number of Observations Used']\n",
        "\n",
        "    for value,label in zip(result,labels):\n",
        "        print(label+' : '+str(value) )\n",
        "    \n",
        "    if result[1] <= 0.05:\n",
        "        print(\"strong evidence against the null hypothesis, reject the null hypothesis. Data has no unit root and is stationary\")\n",
        "    else:\n",
        "        print(\"weak evidence against null hypothesis, time series has a unit root, indicating it is non-stationary \")"
      ],
      "execution_count": null,
      "outputs": []
    },
    {
      "cell_type": "code",
      "metadata": {
        "id": "cbSBig95d1XI"
      },
      "source": [
        "adf_check(confirmed_to_fit['Count'])"
      ],
      "execution_count": null,
      "outputs": []
    },
    {
      "cell_type": "code",
      "metadata": {
        "id": "aKlr7DSyd1XK"
      },
      "source": [
        "adf_check(deaths_to_fit['Count'])"
      ],
      "execution_count": null,
      "outputs": []
    },
    {
      "cell_type": "code",
      "metadata": {
        "id": "Ll3GM7bvd1XL"
      },
      "source": [
        "adf_check(recovered_to_fit['Count'])"
      ],
      "execution_count": null,
      "outputs": []
    },
    {
      "cell_type": "markdown",
      "metadata": {
        "id": "BelFs3Okd1XN"
      },
      "source": [
        "According to the adf test,data is stationary,therefore differentation is to be done to make data stationary which will be done in the parameter 'd' of the SARIMAX model"
      ]
    },
    {
      "cell_type": "markdown",
      "metadata": {
        "id": "iTXORrAvd1XN"
      },
      "source": [
        "**Seasonal Arima**"
      ]
    },
    {
      "cell_type": "code",
      "metadata": {
        "id": "fyBCL3ord1XN"
      },
      "source": [
        "from statsmodels.tsa.arima_model import ARIMA\n",
        "from statsmodels.tsa.statespace.sarimax import SARIMAX"
      ],
      "execution_count": null,
      "outputs": []
    },
    {
      "cell_type": "code",
      "metadata": {
        "id": "a7rvsI7od1XO",
        "colab": {
          "base_uri": "https://localhost:8080/"
        },
        "outputId": "74406b78-0bb1-4d32-9913-21cd8e42058b"
      },
      "source": [
        "confirmed_to_fit = confirmed_m.groupby('Dates').sum()[confirmed_m.groupby('Dates').sum()['Count']>=0]\n",
        "\n",
        "model = SARIMAX(confirmed_to_fit['Count'],order=(1,1,0), seasonal_order=(1,1,1,12))\n",
        "results = model.fit()\n",
        "print(results.summary())"
      ],
      "execution_count": null,
      "outputs": [
        {
          "output_type": "stream",
          "name": "stdout",
          "text": [
            "                                 Statespace Model Results                                 \n",
            "==========================================================================================\n",
            "Dep. Variable:                              Count   No. Observations:                  236\n",
            "Model:             SARIMAX(1, 1, 0)x(1, 1, 1, 12)   Log Likelihood               -2537.654\n",
            "Date:                            Thu, 07 Apr 2022   AIC                           5083.308\n",
            "Time:                                    06:21:35   BIC                           5096.937\n",
            "Sample:                                01-22-2020   HQIC                          5088.810\n",
            "                                     - 09-13-2020                                         \n",
            "Covariance Type:                              opg                                         \n",
            "==============================================================================\n",
            "                 coef    std err          z      P>|z|      [0.025      0.975]\n",
            "------------------------------------------------------------------------------\n",
            "ar.L1          0.9795      0.024     41.473      0.000       0.933       1.026\n",
            "ar.S.L12      -0.2433      0.120     -2.032      0.042      -0.478      -0.009\n",
            "ma.S.L12      -0.8403      0.121     -6.958      0.000      -1.077      -0.604\n",
            "sigma2      6.321e+08   1.93e-11   3.28e+19      0.000    6.32e+08    6.32e+08\n",
            "===================================================================================\n",
            "Ljung-Box (Q):                      734.23   Jarque-Bera (JB):               846.82\n",
            "Prob(Q):                              0.00   Prob(JB):                         0.00\n",
            "Heteroskedasticity (H):              21.87   Skew:                            -1.12\n",
            "Prob(H) (two-sided):                  0.00   Kurtosis:                        12.28\n",
            "===================================================================================\n",
            "\n",
            "Warnings:\n",
            "[1] Covariance matrix calculated using the outer product of gradients (complex-step).\n",
            "[2] Covariance matrix is singular or near-singular, with condition number 5.21e+35. Standard errors may be unstable.\n"
          ]
        }
      ]
    },
    {
      "cell_type": "code",
      "metadata": {
        "id": "yF3Jpxyjd1XQ",
        "colab": {
          "base_uri": "https://localhost:8080/",
          "height": 298
        },
        "outputId": "3dd048ee-e39e-448d-edc9-994bcc30ac6f"
      },
      "source": [
        "results.resid.plot();"
      ],
      "execution_count": null,
      "outputs": [
        {
          "output_type": "display_data",
          "data": {
            "text/plain": [
              "<Figure size 432x288 with 1 Axes>"
            ],
            "image/png": "[encoded data removed]"
          },
          "metadata": {
            "needs_background": "light"
          }
        }
      ]
    },
    {
      "cell_type": "code",
      "metadata": {
        "id": "HHD56ZENd1XS",
        "colab": {
          "base_uri": "https://localhost:8080/",
          "height": 278
        },
        "outputId": "fc056179-39f8-43ff-874f-2c3835e92042"
      },
      "source": [
        "results.resid.plot(kind='kde');"
      ],
      "execution_count": null,
      "outputs": [
        {
          "output_type": "display_data",
          "data": {
            "text/plain": [
              "<Figure size 432x288 with 1 Axes>"
            ],
            "image/png": "[encoded data removed]"
          },
          "metadata": {
            "needs_background": "light"
          }
        }
      ]
    },
    {
      "cell_type": "markdown",
      "metadata": {
        "id": "SZbmhd5Cd1XU"
      },
      "source": [
        "The residual plots seem stationary with 0 mean and uniform variance"
      ]
    },
    {
      "cell_type": "code",
      "metadata": {
        "id": "cJBBJUNOd1XU",
        "colab": {
          "base_uri": "https://localhost:8080/",
          "height": 528
        },
        "outputId": "6ab8af0f-5c99-4c7e-9ece-44b138ce26b9"
      },
      "source": [
        "confirmed_to_fit['forecast'] = results.predict(start = 196, end= 236)  \n",
        "confirmed_to_fit[['Count','forecast']].plot(figsize=(12,8));"
      ],
      "execution_count": null,
      "outputs": [
        {
          "output_type": "display_data",
          "data": {
            "text/plain": [
              "<Figure size 864x576 with 1 Axes>"
            ],
            "image/png": "[encoded data removed]"
          },
          "metadata": {
            "needs_background": "light"
          }
        }
      ]
    },
    {
      "cell_type": "code",
      "metadata": {
        "id": "LTdG47jcd1XW"
      },
      "source": [
        "from pandas.tseries.offsets import DateOffset"
      ],
      "execution_count": null,
      "outputs": []
    },
    {
      "cell_type": "code",
      "metadata": {
        "id": "wc1TLSsdd1XX"
      },
      "source": [
        "n = 60\n",
        "last_date = confirmed_to_fit.index[-1]\n",
        "\n",
        "future_dates = [last_date+DateOffset(days=x) for x in range(1, n)]"
      ],
      "execution_count": null,
      "outputs": []
    },
    {
      "cell_type": "code",
      "metadata": {
        "id": "WnpIwU3-d1XY",
        "colab": {
          "base_uri": "https://localhost:8080/",
          "height": 206
        },
        "outputId": "257a3783-5917-4039-af67-5029cde0add4"
      },
      "source": [
        "future_dates_df = pd.DataFrame(index=future_dates[1:],columns=confirmed_to_fit.columns)\n",
        "future_df = pd.concat([confirmed_to_fit,future_dates_df])\n",
        "future_df.tail()"
      ],
      "execution_count": null,
      "outputs": [
        {
          "output_type": "execute_result",
          "data": {
            "text/plain": [
              "           Count  forecast\n",
              "2020-11-07   NaN       NaN\n",
              "2020-11-08   NaN       NaN\n",
              "2020-11-09   NaN       NaN\n",
              "2020-11-10   NaN       NaN\n",
              "2020-11-11   NaN       NaN"
            ],
            "text/html": [
              "\n",
              "  <div id=\"df-942d200e-92c0-4b02-a29f-041ef10b3927\">\n",
              "    <div class=\"colab-df-container\">\n",
              "      <div>\n",
              "<style scoped>\n",
              "    .dataframe tbody tr th:only-of-type {\n",
              "        vertical-align: middle;\n",
              "    }\n",
              "\n",
              "    .dataframe tbody tr th {\n",
              "        vertical-align: top;\n",
              "    }\n",
              "\n",
              "    .dataframe thead th {\n",
              "        text-align: right;\n",
              "    }\n",
              "</style>\n",
              "<table border=\"1\" class=\"dataframe\">\n",
              "  <thead>\n",
              "    <tr style=\"text-align: right;\">\n",
              "      <th></th>\n",
              "      <th>Count</th>\n",
              "      <th>forecast</th>\n",
              "    </tr>\n",
              "  </thead>\n",
              "  <tbody>\n",
              "    <tr>\n",
              "      <th>2020-11-07</th>\n",
              "      <td>NaN</td>\n",
              "      <td>NaN</td>\n",
              "    </tr>\n",
              "    <tr>\n",
              "      <th>2020-11-08</th>\n",
              "      <td>NaN</td>\n",
              "      <td>NaN</td>\n",
              "    </tr>\n",
              "    <tr>\n",
              "      <th>2020-11-09</th>\n",
              "      <td>NaN</td>\n",
              "      <td>NaN</td>\n",
              "    </tr>\n",
              "    <tr>\n",
              "      <th>2020-11-10</th>\n",
              "      <td>NaN</td>\n",
              "      <td>NaN</td>\n",
              "    </tr>\n",
              "    <tr>\n",
              "      <th>2020-11-11</th>\n",
              "      <td>NaN</td>\n",
              "      <td>NaN</td>\n",
              "    </tr>\n",
              "  </tbody>\n",
              "</table>\n",
              "</div>\n",
              "      <button class=\"colab-df-convert\" onclick=\"convertToInteractive('df-942d200e-92c0-4b02-a29f-041ef10b3927')\"\n",
              "              title=\"Convert this dataframe to an interactive table.\"\n",
              "              style=\"display:none;\">\n",
              "        \n",
              "  <svg xmlns=\"http://www.w3.org/2000/svg\" height=\"24px\"viewBox=\"0 0 24 24\"\n",
              "       width=\"24px\">\n",
              "    <path d=\"M0 0h24v24H0V0z\" fill=\"none\"/>\n",
              "    <path d=\"M18.56 5.44l.94 2.06.94-2.06 2.06-.94-2.06-.94-.94-2.06-.94 2.06-2.06.94zm-11 1L8.5 8.5l.94-2.06 2.06-.94-2.06-.94L8.5 2.5l-.94 2.06-2.06.94zm10 10l.94 2.06.94-2.06 2.06-.94-2.06-.94-.94-2.06-.94 2.06-2.06.94z\"/><path d=\"M17.41 7.96l-1.37-1.37c-.4-.4-.92-.59-1.43-.59-.52 0-1.04.2-1.43.59L10.3 9.45l-7.72 7.72c-.78.78-.78 2.05 0 2.83L4 21.41c.39.39.9.59 1.41.59.51 0 1.02-.2 1.41-.59l7.78-7.78 2.81-2.81c.8-.78.8-2.07 0-2.86zM5.41 20L4 18.59l7.72-7.72 1.47 1.35L5.41 20z\"/>\n",
              "  </svg>\n",
              "      </button>\n",
              "      \n",
              "  <style>\n",
              "    .colab-df-container {\n",
              "      display:flex;\n",
              "      flex-wrap:wrap;\n",
              "      gap: 12px;\n",
              "    }\n",
              "\n",
              "    .colab-df-convert {\n",
              "      background-color: #E8F0FE;\n",
              "      border: none;\n",
              "      border-radius: 50%;\n",
              "      cursor: pointer;\n",
              "      display: none;\n",
              "      fill: #1967D2;\n",
              "      height: 32px;\n",
              "      padding: 0 0 0 0;\n",
              "      width: 32px;\n",
              "    }\n",
              "\n",
              "    .colab-df-convert:hover {\n",
              "      background-color: #E2EBFA;\n",
              "      box-shadow: 0px 1px 2px rgba(60, 64, 67, 0.3), 0px 1px 3px 1px rgba(60, 64, 67, 0.15);\n",
              "      fill: #174EA6;\n",
              "    }\n",
              "\n",
              "    [theme=dark] .colab-df-convert {\n",
              "      background-color: #3B4455;\n",
              "      fill: #D2E3FC;\n",
              "    }\n",
              "\n",
              "    [theme=dark] .colab-df-convert:hover {\n",
              "      background-color: #434B5C;\n",
              "      box-shadow: 0px 1px 3px 1px rgba(0, 0, 0, 0.15);\n",
              "      filter: drop-shadow(0px 1px 2px rgba(0, 0, 0, 0.3));\n",
              "      fill: #FFFFFF;\n",
              "    }\n",
              "  </style>\n",
              "\n",
              "      <script>\n",
              "        const buttonEl =\n",
              "          document.querySelector('#df-942d200e-92c0-4b02-a29f-041ef10b3927 button.colab-df-convert');\n",
              "        buttonEl.style.display =\n",
              "          google.colab.kernel.accessAllowed ? 'block' : 'none';\n",
              "\n",
              "        async function convertToInteractive(key) {\n",
              "          const element = document.querySelector('#df-942d200e-92c0-4b02-a29f-041ef10b3927');\n",
              "          const dataTable =\n",
              "            await google.colab.kernel.invokeFunction('convertToInteractive',\n",
              "                                                     [key], {});\n",
              "          if (!dataTable) return;\n",
              "\n",
              "          const docLinkHtml = 'Like what you see? Visit the ' +\n",
              "            '<a target=\"_blank\" href=https://colab.research.google.com/notebooks/data_table.ipynb>data table notebook</a>'\n",
              "            + ' to learn more about interactive tables.';\n",
              "          element.innerHTML = '';\n",
              "          dataTable['output_type'] = 'display_data';\n",
              "          await google.colab.output.renderOutput(dataTable, element);\n",
              "          const docLink = document.createElement('div');\n",
              "          docLink.innerHTML = docLinkHtml;\n",
              "          element.appendChild(docLink);\n",
              "        }\n",
              "      </script>\n",
              "    </div>\n",
              "  </div>\n",
              "  "
            ]
          },
          "metadata": {},
          "execution_count": 41
        }
      ]
    },
    {
      "cell_type": "code",
      "metadata": {
        "id": "lZWZCzhad1XZ",
        "colab": {
          "base_uri": "https://localhost:8080/",
          "height": 475
        },
        "outputId": "7f1f3847-e240-408d-9553-4c047eecc58b"
      },
      "source": [
        "future_df['forecast'] = results.predict(start = 196, end = future_df.index[-1]);\n",
        "future_df[['Count', 'forecast']].plot(figsize=(12, 8));"
      ],
      "execution_count": null,
      "outputs": [
        {
          "output_type": "display_data",
          "data": {
            "text/plain": [
              "<Figure size 864x576 with 1 Axes>"
            ],
            "image/png": "[encoded data removed]"
          },
          "metadata": {
            "needs_background": "light"
          }
        }
      ]
    },
    {
      "cell_type": "markdown",
      "metadata": {
        "id": "1TZxhNnid1Xd"
      },
      "source": [
        "## Accuracy metrics for confirmed cases prediction"
      ]
    },
    {
      "cell_type": "markdown",
      "metadata": {
        "id": "IZ0z6C3yd1Xf"
      },
      "source": [
        "MEAN ABSOLUTE PERCENTAGE ERROR"
      ]
    },
    {
      "cell_type": "code",
      "metadata": {
        "id": "TtcKhki4d1Xg"
      },
      "source": [
        "mape = np.mean(np.abs(test['forecast']-test['Count'])/np.abs(test['Count']))\n",
        "mape*100"
      ],
      "execution_count": null,
      "outputs": []
    },
    {
      "cell_type": "markdown",
      "metadata": {
        "id": "M24pinpbd1Xi"
      },
      "source": [
        "The prediction has an error of .106% indicating that the model is very much accurate with an accuracy of 99.9%"
      ]
    },
    {
      "cell_type": "markdown",
      "metadata": {
        "id": "4vK8awUjd1Xi"
      },
      "source": [
        "**Deaths forecasting**"
      ]
    },
    {
      "cell_type": "code",
      "metadata": {
        "id": "QNP-Fhb3d1Xi"
      },
      "source": [
        "deaths_to_fit = deaths_m.groupby('Dates').sum()[confirmed_m.groupby('Dates').sum()['Count']>=0]\n",
        "\n",
        "model = SARIMAX(deaths_to_fit['Count'],order=(1,1,0), seasonal_order=(1,1,1,12))\n",
        "results = model.fit()\n",
        "print(results.summary())"
      ],
      "execution_count": null,
      "outputs": []
    },
    {
      "cell_type": "code",
      "metadata": {
        "id": "rrGyn36td1Xl"
      },
      "source": [
        "results.resid.plot();"
      ],
      "execution_count": null,
      "outputs": []
    },
    {
      "cell_type": "code",
      "metadata": {
        "id": "y-s3Dzwpd1Xn"
      },
      "source": [
        "results.resid.plot(kind='kde');"
      ],
      "execution_count": null,
      "outputs": []
    },
    {
      "cell_type": "code",
      "metadata": {
        "id": "qqw1igdJd1Xo"
      },
      "source": [
        "deaths_to_fit['forecast'] = results.predict(start = 196, end= 236);\n",
        "deaths_to_fit[['Count','forecast']].plot(figsize=(12,8));"
      ],
      "execution_count": null,
      "outputs": []
    },
    {
      "cell_type": "code",
      "metadata": {
        "id": "0uG75b9Hd1Xp"
      },
      "source": [
        "n = 60\n",
        "last_date = deaths_to_fit.index[-1]\n",
        "\n",
        "future_dates = [last_date+DateOffset(days=x) for x in range(1, n)]"
      ],
      "execution_count": null,
      "outputs": []
    },
    {
      "cell_type": "code",
      "metadata": {
        "id": "3ouipZz4d1Xq"
      },
      "source": [
        "future_dates_df = pd.DataFrame(index=future_dates[1:],columns=deaths_to_fit.columns)\n",
        "future_df = pd.concat([deaths_to_fit,future_dates_df])\n",
        "future_df.tail()"
      ],
      "execution_count": null,
      "outputs": []
    },
    {
      "cell_type": "code",
      "metadata": {
        "id": "NThhVKZAd1Xs"
      },
      "source": [
        "future_df['forecast'] = results.predict(start = 196, end = future_df.index[-1]);\n",
        "future_df[['Count', 'forecast']].plot(figsize=(12, 8));"
      ],
      "execution_count": null,
      "outputs": []
    },
    {
      "cell_type": "code",
      "metadata": {
        "id": "ayn6idIqd1Xt"
      },
      "source": [
        "mape = np.mean(np.abs(deaths_to_fit['forecast']-deaths_to_fit['Count'])/np.abs(deaths_to_fit['Count']))\n",
        "mape*100"
      ],
      "execution_count": null,
      "outputs": []
    },
    {
      "cell_type": "markdown",
      "metadata": {
        "id": "UwI-WYoXd1Xu"
      },
      "source": [
        "The prediction has an error of .13% indicating that the model is very much accurate with an accuracy of 99.86%"
      ]
    },
    {
      "cell_type": "markdown",
      "metadata": {
        "id": "IsiXVvr0d1Xu"
      },
      "source": [
        "**Recovered Cases forecasting**"
      ]
    },
    {
      "cell_type": "code",
      "metadata": {
        "id": "j4LVzeR0d1Xu"
      },
      "source": [
        "recovered_to_fit = recovered_m.groupby('Dates').sum()[recovered_m.groupby('Dates').sum()['Count']>=0]\n",
        "\n",
        "model = SARIMAX(recovered_to_fit['Count'],order=(1,1,0), seasonal_order=(1,1,1,12))\n",
        "results = model.fit()\n",
        "print(results.summary())"
      ],
      "execution_count": null,
      "outputs": []
    },
    {
      "cell_type": "code",
      "metadata": {
        "id": "Zq_MBFNTd1Xv"
      },
      "source": [
        "results.resid.plot();"
      ],
      "execution_count": null,
      "outputs": []
    },
    {
      "cell_type": "code",
      "metadata": {
        "id": "aaM0VrJId1Xx"
      },
      "source": [
        "recovered_to_fit['forecast'] = results.predict(start = 196, end= 236);\n",
        "recovered_to_fit[['Count','forecast']].plot(figsize=(12,8));"
      ],
      "execution_count": null,
      "outputs": []
    },
    {
      "cell_type": "code",
      "metadata": {
        "id": "XH6TMwegd1Xy"
      },
      "source": [
        "from pandas.tseries.offsets import DateOffset"
      ],
      "execution_count": null,
      "outputs": []
    },
    {
      "cell_type": "code",
      "metadata": {
        "id": "mmhCTs-Cd1Xz"
      },
      "source": [
        "n = 60\n",
        "last_date = recovered_to_fit.index[-1]\n",
        "\n",
        "future_dates = [last_date+DateOffset(days=x) for x in range(1, n)]"
      ],
      "execution_count": null,
      "outputs": []
    },
    {
      "cell_type": "code",
      "metadata": {
        "id": "RWf72-dfd1X3"
      },
      "source": [
        "future_dates_df = pd.DataFrame(index=future_dates[1:],columns=recovered_to_fit.columns)\n",
        "future_df = pd.concat([recovered_to_fit,future_dates_df])\n",
        "future_df.tail()"
      ],
      "execution_count": null,
      "outputs": []
    },
    {
      "cell_type": "code",
      "metadata": {
        "id": "zjLwkQ2wd1X4"
      },
      "source": [
        "future_df['forecast'] = results.predict(start = 196, end = future_df.index[-1]);\n",
        "future_df[['Count', 'forecast']].plot(figsize=(12, 8));"
      ],
      "execution_count": null,
      "outputs": []
    },
    {
      "cell_type": "code",
      "metadata": {
        "id": "EYaIT0tQd1X6"
      },
      "source": [
        "mape = np.mean(np.abs(recovered_to_fit['forecast']-recovered_to_fit['Count'])/np.abs(recovered_to_fit['Count']))\n",
        "mape*100"
      ],
      "execution_count": null,
      "outputs": []
    },
    {
      "cell_type": "markdown",
      "metadata": {
        "id": "ulLiqYOId1X7"
      },
      "source": [
        "The prediction has an error of .22% indicating that the model is very much accurate with an accuracy of 99.78%"
      ]
    },
    {
      "cell_type": "markdown",
      "metadata": {
        "id": "yfyYjU3yd1R_"
      },
      "source": [
        "# CB.EN.U4CSE17310\n"
      ]
    },
    {
      "cell_type": "markdown",
      "metadata": {
        "id": "jIb8Y3rbf_V9"
      },
      "source": [
        "## PART-1: Exploratory Data Analysis"
      ]
    },
    {
      "cell_type": "markdown",
      "metadata": {
        "id": "7WWc-OLKd1SA"
      },
      "source": [
        "## 1. Getting the data"
      ]
    },
    {
      "cell_type": "code",
      "metadata": {
        "id": "Kxb3dWJnd1SB"
      },
      "source": [
        "# storing the file paths of our datasets\n",
        "\n",
        "dfs = [\n",
        "    'https://raw.githubusercontent.com/Ashwin1999/COVID-19-Data-Mining/master/COVID-Time%20Series%20Data/COVID-Time%20Series%20Data%20-%20Refined/confirmed.csv',\n",
        "    'https://raw.githubusercontent.com/Ashwin1999/COVID-19-Data-Mining/master/COVID-Time%20Series%20Data/COVID-Time%20Series%20Data%20-%20Refined/deaths.csv',\n",
        "    'https://raw.githubusercontent.com/Ashwin1999/COVID-19-Data-Mining/master/COVID-Time%20Series%20Data/COVID-Time%20Series%20Data%20-%20Refined/recovered.csv',\n",
        "]"
      ],
      "execution_count": null,
      "outputs": []
    },
    {
      "cell_type": "code",
      "metadata": {
        "id": "H1BB3puxd1SG"
      },
      "source": [
        "confirmed = pd.read_csv(dfs[0])\n",
        "deaths = pd.read_csv(dfs[1])\n",
        "recovered = pd.read_csv(dfs[2])"
      ],
      "execution_count": null,
      "outputs": []
    },
    {
      "cell_type": "code",
      "metadata": {
        "cell_style": "center",
        "id": "3h-hyMC6d1SJ"
      },
      "source": [
        "confirmed.head(3)"
      ],
      "execution_count": null,
      "outputs": []
    },
    {
      "cell_type": "code",
      "metadata": {
        "id": "uF9Ody9Vd1SN"
      },
      "source": [
        "deaths.head(3)"
      ],
      "execution_count": null,
      "outputs": []
    },
    {
      "cell_type": "code",
      "metadata": {
        "id": "RIIFjE3-d1SQ"
      },
      "source": [
        "recovered.head(3)"
      ],
      "execution_count": null,
      "outputs": []
    },
    {
      "cell_type": "markdown",
      "metadata": {
        "id": "B7g1sZGSd1SV"
      },
      "source": [
        "## 2. Reshaping the data into a manageable format"
      ]
    },
    {
      "cell_type": "code",
      "metadata": {
        "id": "qpv5PRNAd1SV"
      },
      "source": [
        "confirmed = confirmed.melt(['State', 'Country'], confirmed.columns[4:], var_name='Dates', value_name='Confirmed')\n",
        "confirmed.Dates = pd.to_datetime(confirmed.Dates)\n",
        "\n",
        "deaths = deaths.melt(['State', 'Country'], deaths.columns[4:], var_name='Dates', value_name='Deaths')\n",
        "deaths.Dates = pd.to_datetime(deaths.Dates)\n",
        "\n",
        "recovered = recovered.melt(['State', 'Country'], recovered.columns[4:], var_name='Dates', value_name='Recovered')\n",
        "recovered.Dates = pd.to_datetime(recovered.Dates)"
      ],
      "execution_count": null,
      "outputs": []
    },
    {
      "cell_type": "code",
      "metadata": {
        "id": "Xt4aHEj8d1SZ"
      },
      "source": [
        "confirmed.head()"
      ],
      "execution_count": null,
      "outputs": []
    },
    {
      "cell_type": "code",
      "metadata": {
        "id": "biTG3RN3d1Sc"
      },
      "source": [
        "confirmed_dates = confirmed.groupby('Dates').sum().reset_index()\n",
        "deaths_dates = deaths.groupby('Dates').sum().reset_index()\n",
        "recovered_dates = recovered.groupby('Dates').sum().reset_index()"
      ],
      "execution_count": null,
      "outputs": []
    },
    {
      "cell_type": "code",
      "metadata": {
        "id": "DBhECjSmd1Sf"
      },
      "source": [
        "confirmed_dates.head()"
      ],
      "execution_count": null,
      "outputs": []
    },
    {
      "cell_type": "code",
      "metadata": {
        "id": "RP4cwAuCd1Sj"
      },
      "source": [
        "combined=pd.DataFrame({\n",
        "    'Date': confirmed_dates.Dates,\n",
        "    'Confirmed': confirmed_dates.Confirmed,\n",
        "    'Deaths': deaths_dates.Deaths,\n",
        "    'Recovered': recovered_dates.Recovered\n",
        "})\n",
        "combined = combined.melt('Date', combined.columns[1:], var_name='Condition', value_name='Count')\n",
        "combined.head()"
      ],
      "execution_count": null,
      "outputs": []
    },
    {
      "cell_type": "markdown",
      "metadata": {
        "id": "rifBwxZvd1Sv"
      },
      "source": [
        "## 3. Graphing the number of confirmed cases, deaths and recoveries"
      ]
    },
    {
      "cell_type": "code",
      "metadata": {
        "id": "kcQwE2c1d1S0"
      },
      "source": [
        "sns.set_style(\"dark\")\n",
        "\n",
        "plt.figure(figsize=(20,8));\n",
        "\n",
        "growth = sns.lineplot(combined[\"Date\"], combined[\"Count\"], hue=combined[\"Condition\"]);\n",
        "\n",
        "growth.set_title(\"Global growth of COVID-19\",fontsize=30);\n",
        "growth.set_xlabel(\"Date\",fontsize=20);\n",
        "growth.set_ylabel(\"Count\",fontsize=20);\n",
        "\n",
        "plt.xticks(rotation=30);\n",
        "plt.legend(fontsize='x-large');"
      ],
      "execution_count": null,
      "outputs": []
    },
    {
      "cell_type": "markdown",
      "metadata": {
        "id": "qjbG7x2jd1S4"
      },
      "source": [
        "### a. Number of confirmed cases of COVID-19 on a daily, weekly and monthly basis"
      ]
    },
    {
      "cell_type": "code",
      "metadata": {
        "id": "wf53iyqod1S5"
      },
      "source": [
        "plt.figure(figsize=(20,8));\n",
        "\n",
        "conf = confirmed.groupby('Dates').sum()\n",
        "\n",
        "conf.Confirmed.resample('d').mean().plot(label='daily');\n",
        "conf.Confirmed.resample('w').mean().plot(label='weekly');\n",
        "conf.Confirmed.resample('m').mean().plot(label='monthly');\n",
        "\n",
        "plt.title('Number of confirmed cases on a daily, weekly and montly basis',fontsize=20);\n",
        "plt.ylabel('Confirmed cases',fontsize=15);\n",
        "plt.xlabel('Dates',fontsize=15)\n",
        "\n",
        "plt.legend();"
      ],
      "execution_count": null,
      "outputs": []
    },
    {
      "cell_type": "markdown",
      "metadata": {
        "id": "hFZ4nYYPd1S8"
      },
      "source": [
        "### b. Number of COVID-19 related deaths on a daily, weekly and monthly basis"
      ]
    },
    {
      "cell_type": "code",
      "metadata": {
        "id": "2ZUhKNxXd1S8"
      },
      "source": [
        "plt.figure(figsize=(20,8));\n",
        "\n",
        "mort = deaths.groupby('Dates').sum()\n",
        "\n",
        "mort.Deaths.resample('d').mean().plot(label='daily');\n",
        "mort.Deaths.resample('w').mean().plot(label='weekly');\n",
        "mort.Deaths.resample('m').mean().plot(label='monthly');\n",
        "\n",
        "plt.title('Number of deaths on a daily, weekly and montly basis', fontsize=20);\n",
        "plt.ylabel('Deaths',fontsize=15);\n",
        "plt.xlabel('Dates',fontsize=15)\n",
        "\n",
        "plt.legend();"
      ],
      "execution_count": null,
      "outputs": []
    },
    {
      "cell_type": "markdown",
      "metadata": {
        "id": "jGRHEviYd1S_"
      },
      "source": [
        "### c. Number of recovery from COVID-19 on a daily, weekly and monthly basis"
      ]
    },
    {
      "cell_type": "code",
      "metadata": {
        "id": "jIpg_BK_d1S_"
      },
      "source": [
        "plt.figure(figsize=(20,8));\n",
        "\n",
        "rec = recovered.groupby('Dates').sum()\n",
        "\n",
        "rec.Recovered.resample('d').mean().plot(label='daily');\n",
        "rec.Recovered.resample('w').mean().plot(label='weekly');\n",
        "rec.Recovered.resample('m').mean().plot(label='monthly');\n",
        "\n",
        "plt.title('Number of recovery on a daily, weekly and montly basis',fontsize=20);\n",
        "plt.ylabel('Recovered', fontsize=15);\n",
        "plt.xlabel('Dates',fontsize=15)\n",
        "\n",
        "plt.legend();"
      ],
      "execution_count": null,
      "outputs": []
    },
    {
      "cell_type": "markdown",
      "metadata": {
        "id": "VJMss5jod1TC"
      },
      "source": [
        "## 4. Pie Chart Visualizations for COVID-19"
      ]
    },
    {
      "cell_type": "markdown",
      "metadata": {
        "id": "eYY6GlKxd1TC"
      },
      "source": [
        "### a. Confirmed COVID-19 cases"
      ]
    },
    {
      "cell_type": "code",
      "metadata": {
        "id": "2l4Q0LS-d1TD"
      },
      "source": [
        "confirmed_country = confirmed.groupby('Country').sum().reset_index()\n",
        "confirmed_country.sort_values(by='Confirmed', ascending=False, inplace=True)\n",
        "confirmed_country_top10 = confirmed_country.iloc[:10,:]\n",
        "others = pd.DataFrame({'Country': ['Others'], 'Confirmed':[sum(confirmed_country.iloc[10:,:].Confirmed)]})\n",
        "confirmed_country_top10 = pd.concat([confirmed_country_top10,others]).reset_index().drop('index', axis=1)\n",
        "\n",
        "plt.axis(\"equal\")\n",
        "plt.pie(confirmed_country_top10.Confirmed, labels=confirmed_country_top10.Country, radius=3, autopct='%0.0f%%', shadow=True, startangle=45,explode=[0.2,0,0,0,0,0,0,0,0,0,0])\n",
        "plt.show()"
      ],
      "execution_count": null,
      "outputs": []
    },
    {
      "cell_type": "markdown",
      "metadata": {
        "id": "Pys9U_okd1TF"
      },
      "source": [
        "### b. COVID-19 related deaths"
      ]
    },
    {
      "cell_type": "code",
      "metadata": {
        "id": "SNtHGvgJd1TG"
      },
      "source": [
        "deaths_country = deaths.groupby('Country').sum().reset_index()\n",
        "deaths_country.sort_values(by='Deaths', ascending=False, inplace=True)\n",
        "deaths_country_top10 = deaths_country.iloc[:10,:]\n",
        "others = pd.DataFrame({'Country': ['Others'], 'Deaths':[sum(deaths_country.iloc[10:,:].Deaths)]})\n",
        "deaths_country_top10 = pd.concat([deaths_country_top10,others]).reset_index().drop('index', axis=1)\n",
        "\n",
        "plt.axis(\"equal\")\n",
        "plt.pie(deaths_country_top10.Deaths, labels=deaths_country_top10.Country, radius=3, autopct='%0.0f%%', shadow=True, startangle=45,explode=[0.2,0,0,0,0,0,0,0,0,0,0])\n",
        "plt.show()"
      ],
      "execution_count": null,
      "outputs": []
    },
    {
      "cell_type": "markdown",
      "metadata": {
        "id": "q1cdSQ01d1TJ"
      },
      "source": [
        "### c. Recovery from COVID-19"
      ]
    },
    {
      "cell_type": "code",
      "metadata": {
        "id": "ScDNnXwWd1TJ"
      },
      "source": [
        "recovered_country = recovered.groupby('Country').sum().reset_index()\n",
        "recovered_country.sort_values(by='Recovered', ascending=False, inplace=True)\n",
        "recovered_country_top10 = recovered_country.iloc[:10,:]\n",
        "others = pd.DataFrame({'Country': ['Others'], 'Recovered':[sum(recovered_country.iloc[10:,:].Recovered)]})\n",
        "recovered_country_top10 = pd.concat([recovered_country_top10,others]).reset_index().drop('index', axis=1)\n",
        "\n",
        "plt.axis(\"equal\")\n",
        "plt.pie(recovered_country_top10.Recovered, labels=recovered_country_top10.Country, radius=3, autopct='%0.0f%%', shadow=True, startangle=45,explode=[0.2,0,0,0,0,0,0,0,0,0,0])\n",
        "plt.show()"
      ],
      "execution_count": null,
      "outputs": []
    },
    {
      "cell_type": "markdown",
      "metadata": {
        "id": "mrqdIz3wd1TM"
      },
      "source": [
        "## 5. Mortality rate and recovery rate visualized"
      ]
    },
    {
      "cell_type": "code",
      "metadata": {
        "id": "ttINnrmhd1TM"
      },
      "source": [
        "confirmed_country = confirmed.groupby('Country').sum().reset_index()\n",
        "deaths_country = deaths.groupby('Country').sum().reset_index()\n",
        "recovered_country = recovered.groupby('Country').sum().reset_index()\n",
        "\n",
        "combined_countries = confirmed_country.merge(deaths_country, on=['Country']).merge(recovered_country,on=['Country'])\n",
        "combined_countries.head()"
      ],
      "execution_count": null,
      "outputs": []
    },
    {
      "cell_type": "markdown",
      "metadata": {
        "id": "fETIu7jXd1TS"
      },
      "source": [
        "The dataset we have contains the columns confirmed cases, deaths and recovery. We can make use of these fields and get two other fields, <b>Mortality rate</b> and <b>Recovery rate</b>, which are equally important in our analysis"
      ]
    },
    {
      "cell_type": "code",
      "metadata": {
        "id": "BUZZBnFId1TS"
      },
      "source": [
        "combined_countries['Mortality_rate'] = combined_countries['Deaths']/combined_countries['Confirmed']\n",
        "combined_countries['Recovery_rate'] = combined_countries['Recovered']/combined_countries['Confirmed']\n",
        "\n",
        "combined_countries.head()"
      ],
      "execution_count": null,
      "outputs": []
    },
    {
      "cell_type": "code",
      "metadata": {
        "code_folding": [
          8,
          13
        ],
        "id": "XniOLyi3d1TW"
      },
      "source": [
        "x, y = 10, 20\n",
        "\n",
        "top20_mortality = combined_countries.sort_values(by='Mortality_rate', ascending=False).reset_index().loc[:x,['Country','Mortality_rate']]\n",
        "top20_recovery = combined_countries.sort_values(by='Recovery_rate', ascending=False).reset_index().loc[:y,['Country','Recovery_rate']]\n",
        "\n",
        "otherMortality = sum(combined_countries.sort_values(by='Mortality_rate', ascending=False).loc[x:,['Country','Mortality_rate']]['Mortality_rate'])\n",
        "otherRecovery = sum(combined_countries.sort_values(by='Recovery_rate', ascending=False).loc[y:,['Country','Recovery_rate']]['Recovery_rate'])\n",
        "\n",
        "otherMortality = pd.DataFrame({\n",
        "    'Country':['Others'],\n",
        "    'Mortality_rate':[otherMortality]\n",
        "})\n",
        "\n",
        "otherRecovery = pd.DataFrame({\n",
        "    'Country':['Others'],\n",
        "    'Recovery_rate':[otherRecovery]\n",
        "})\n",
        "\n",
        "top20_mortality = pd.concat([top20_mortality,otherMortality])\n",
        "top20_recovery = pd.concat([top20_recovery,otherRecovery])"
      ],
      "execution_count": null,
      "outputs": []
    },
    {
      "cell_type": "markdown",
      "metadata": {
        "id": "OGEZCInPd1TY"
      },
      "source": [
        "### a. Top 10 countries with high COVID-19 mortality rate"
      ]
    },
    {
      "cell_type": "code",
      "metadata": {
        "id": "mAFGwHpxd1TY"
      },
      "source": [
        "plt.axis(\"equal\")\n",
        "plt.pie(top20_mortality.Mortality_rate, labels=top20_mortality.Country, radius=3, autopct='%0.1f%%', shadow=True, startangle=45)\n",
        "plt.show()"
      ],
      "execution_count": null,
      "outputs": []
    },
    {
      "cell_type": "markdown",
      "metadata": {
        "id": "yc9WOpg_d1Tc"
      },
      "source": [
        "### b. Top 20 countries with high COVID-19 recovery rate"
      ]
    },
    {
      "cell_type": "code",
      "metadata": {
        "id": "FxxvsQJsd1Tc"
      },
      "source": [
        "plt.axis(\"equal\")\n",
        "plt.pie(top20_recovery.Recovery_rate, labels=top20_recovery.Country, radius=3, autopct='%0.1f%%', shadow=True, startangle=45)\n",
        "plt.show()"
      ],
      "execution_count": null,
      "outputs": []
    },
    {
      "cell_type": "markdown",
      "metadata": {
        "id": "6N5AuzKcd1Te"
      },
      "source": [
        "## PART-2: Building the Deep learning model to forecast the number of confirmed COVID-19 cases"
      ]
    },
    {
      "cell_type": "markdown",
      "metadata": {
        "id": "AOVVN08cd1Tf"
      },
      "source": [
        "With the situation at hand, we are in need of a ML/DL model which is capable of forecasting the expected number of confirmed cases in the near future. \n",
        "\n",
        "Here, I've trained a deep learning model which uses LSTM for forcasting into the future.\n",
        "\n",
        "The model will learn different trends in the provided timeseries data and will help us forecast the supposed number of cases."
      ]
    },
    {
      "cell_type": "markdown",
      "metadata": {
        "id": "-mEzNTFxd1Tg"
      },
      "source": [
        "## 1. Loading the data"
      ]
    },
    {
      "cell_type": "markdown",
      "metadata": {
        "id": "RjYKVCNtd1Tg"
      },
      "source": [
        "The goal here is to build a deep learning model which uses LSTM to forecast the number of active cases in the world."
      ]
    },
    {
      "cell_type": "code",
      "metadata": {
        "id": "dJK7jvNUd1Th"
      },
      "source": [
        "# dfs[0] has the link to the confirmed.csv dataset, which is the dataset I'm going to train this model on\n",
        "confirmed = pd.read_csv(dfs[0])\n",
        "\n",
        "# I've use the pandas melt to reshape the dataframe into a format that is easy to work with.\n",
        "confirmed = confirmed.melt(['State', 'Country'], confirmed.columns[4:], var_name='Dates', value_name='Confirmed')\n",
        "\n",
        "\"\"\" \n",
        "\n",
        "Also, I convert the date column from string object to datetime object since we have the need to perform timeseries \n",
        "forecasting.\n",
        "\n",
        "\n",
        "\"\"\"\n",
        "\n",
        "confirmed.Dates = pd.to_datetime(confirmed.Dates)\n",
        "\n",
        "confirmed.head()"
      ],
      "execution_count": null,
      "outputs": []
    },
    {
      "cell_type": "code",
      "metadata": {
        "id": "nUEnRktbd1Tj"
      },
      "source": [
        "\"\"\"\n",
        "\n",
        "I've then use the pandas groupby to group the confirmed cases by the date\n",
        "\n",
        "Note: Since we are using the global data, when we use groupby we essentially sum all the confirmed cases for a given day\n",
        "ie if we have 100 cases in place-1 and 200 cases in place-2 on a given day, when we use groupby date the total number of\n",
        "cases for that date is taken ie 200+100=300.\n",
        "\n",
        "\n",
        "\"\"\"\n",
        "\n",
        "days = confirmed.groupby('Dates').sum()\n",
        "days.Confirmed.resample('d').sum().plot();"
      ],
      "execution_count": null,
      "outputs": []
    },
    {
      "cell_type": "code",
      "metadata": {
        "cell_style": "split",
        "id": "iowrd9YSd1Tm"
      },
      "source": [
        "days.head()"
      ],
      "execution_count": null,
      "outputs": []
    },
    {
      "cell_type": "code",
      "metadata": {
        "cell_style": "split",
        "id": "KU0qB8ugd1To"
      },
      "source": [
        "days.tail()"
      ],
      "execution_count": null,
      "outputs": []
    },
    {
      "cell_type": "code",
      "metadata": {
        "id": "xdZD16YQd1Tr"
      },
      "source": [
        "# total number of rows in our dataset\n",
        "\n",
        "len(days)"
      ],
      "execution_count": null,
      "outputs": []
    },
    {
      "cell_type": "markdown",
      "metadata": {
        "id": "bzwoUqxWd1Tu"
      },
      "source": [
        "## 2. Preparing the data for the LSTM model"
      ]
    },
    {
      "cell_type": "code",
      "metadata": {
        "id": "04_qTfMjd1Tv"
      },
      "source": [
        "# I've taken the number of data in the test set is taken as 25, which basically is the last 25 days of our timeseries.\n",
        "# The remaining is used traing our LSTM model\n",
        "\n",
        "test_size = 25\n",
        "test_ind = len(days) - test_size\n",
        "\n",
        "train = days.iloc[:test_ind,:]\n",
        "test = days.iloc[test_ind:,:]"
      ],
      "execution_count": null,
      "outputs": []
    },
    {
      "cell_type": "code",
      "metadata": {
        "id": "f-IvVkWNd1Tx"
      },
      "source": [
        "from sklearn.preprocessing import MinMaxScaler\n",
        "\n",
        "# The data is normalized\n",
        "scaler = MinMaxScaler(feature_range=(0,1))\n",
        "\n",
        "scaler.fit(train)\n",
        "\n",
        "scaled_train = scaler.transform(train)\n",
        "scaled_test = scaler.transform(test)"
      ],
      "execution_count": null,
      "outputs": []
    },
    {
      "cell_type": "code",
      "metadata": {
        "id": "GULdQ6A3d1Tz"
      },
      "source": [
        "from tensorflow.keras.preprocessing.sequence import TimeseriesGenerator\n",
        "\n",
        "\"\"\"\n",
        "\n",
        "I've set the batch size for the model as 20. \n",
        "\n",
        "I'll be passing the data of the previous 20 days to predict the estimated number of cases for the  next day\n",
        "\n",
        "To make the work easy, I've used the Tensorflow's TimeseriesGenerator to make the training and validation timeseries data\n",
        "That we have to train the model with\n",
        "\n",
        "Note: batch size should be less than len(test)\n",
        "\n",
        "\n",
        "\"\"\"\n",
        "\n",
        "BS = 20\n",
        "\n",
        "generator = TimeseriesGenerator(scaled_train, scaled_train, length=BS, batch_size=1)"
      ],
      "execution_count": null,
      "outputs": []
    },
    {
      "cell_type": "code",
      "metadata": {
        "id": "jK_L6eWAd1T2"
      },
      "source": [
        "x1, y1 = generator[0]\n",
        "x2, y2 = generator[1]"
      ],
      "execution_count": null,
      "outputs": []
    },
    {
      "cell_type": "code",
      "metadata": {
        "id": "4Gl7IGhvd1T5"
      },
      "source": [
        "# given data of last BS days it will predict the expected number of cases for the (BS+1)th day\n",
        "\n",
        "print(f'example 1: {x1}\\n{y1}\\n\\n\\nexample 2: {x2}\\n{y2}')"
      ],
      "execution_count": null,
      "outputs": []
    },
    {
      "cell_type": "code",
      "metadata": {
        "id": "-A5dfo2hd1T9"
      },
      "source": [
        "valGenerator = TimeseriesGenerator(scaled_test, scaled_test, length=BS, batch_size=1)"
      ],
      "execution_count": null,
      "outputs": []
    },
    {
      "cell_type": "markdown",
      "metadata": {
        "id": "N-Uny3snd1T_"
      },
      "source": [
        "## 3. Building and compiling the model"
      ]
    },
    {
      "cell_type": "code",
      "metadata": {
        "id": "ys0xGV6od1UA"
      },
      "source": [
        "# part 1: Building the model\n",
        "\n",
        "from tensorflow.keras.models import Sequential\n",
        "from tensorflow.keras.layers import Dense, LSTM\n",
        "\n",
        "n_features = 1\n",
        "model = Sequential()\n",
        "\n",
        "# a. Input layer: An LSTM layer with 128 cells and rectified linear unit as activation.\n",
        "model.add(LSTM(128, activation='relu', input_shape=(BS, n_features))) # the input shape is 20x1\n",
        "# b. Final layer: A dense layer with just one neuron.\n",
        "model.add(Dense(1))\n",
        "\n",
        "\n",
        "# ----------------------------------------------------------------------------------------------------------------------------\n",
        "# part 2: compiling the model\n",
        "\n",
        "from tensorflow.keras.optimizers import Adam\n",
        "\n",
        "model.compile(optimizer=Adam(), loss='mse')\n",
        "print(model.summary())\n",
        "\n",
        "\n",
        "# ----------------------------------------------------------------------------------------------------------------------------\n",
        "# part 3: training the model\n",
        "\n",
        "EPOCHS = 25\n",
        "# With early stopping\n",
        "\n",
        "from tensorflow.keras.callbacks import EarlyStopping\n",
        "\n",
        "earlyStop = EarlyStopping(monitor='val_loss', patience=4)\n",
        "H = model.fit_generator(generator, epochs=EPOCHS, validation_data=valGenerator, callbacks=[earlyStop])"
      ],
      "execution_count": null,
      "outputs": []
    },
    {
      "cell_type": "code",
      "metadata": {
        "id": "Eg9KxAUFd1UC"
      },
      "source": [
        "losses = pd.DataFrame(H.history)\n",
        "losses.plot();"
      ],
      "execution_count": null,
      "outputs": []
    },
    {
      "cell_type": "markdown",
      "metadata": {
        "id": "ZceIsvpod1UD"
      },
      "source": [
        "From the above diagram we can clearly see that the training and validation <b>loss</b> is <b>significantly low</b> (lower the loss, the better).\n",
        "\n",
        "Now let us try evaluating our trained model for <b>forecasting</b> the number of active cases for the <b>next 25 days</b>."
      ]
    },
    {
      "cell_type": "markdown",
      "metadata": {
        "id": "e4_Mmlxud1UE"
      },
      "source": [
        "## 4. Evaluating the model"
      ]
    },
    {
      "cell_type": "markdown",
      "metadata": {
        "id": "e9VXZpPyd1UE"
      },
      "source": [
        "To predict the values for the last 25 days we have to get the confirmed cases for the previous 20 days, which is actually present in the train set.\n",
        "\n",
        "We bassically grab the data of the last 20 days of the train set inorder to predict/forecast the result for the first day in the test set.\n",
        "\n",
        "Then we append this result to a list and use our predicted value along with the last 19 values in the train set to forecast the result for the second day.\n",
        "\n",
        "By this way we can forecast for all the other days in the test set.\n",
        "\n",
        "Since we're using the previous predicted value inorder to predict the next value, there will be some noise in the forecasted value. For forecasting the values for few days will not give us a bad result but if we had to forecast for the next 3 or 4 months, the result will be too noisy."
      ]
    },
    {
      "cell_type": "code",
      "metadata": {
        "id": "Zf8Ku9p3d1UF"
      },
      "source": [
        "# last 20 rows from scaled_train\n",
        "\n",
        "first_eval_batch = scaled_train[-BS:]\n",
        "print(first_eval_batch)"
      ],
      "execution_count": null,
      "outputs": []
    },
    {
      "cell_type": "code",
      "metadata": {
        "id": "8EwwSslgd1UI"
      },
      "source": [
        "# array to store the forcasted results\n",
        "test_predictions = []\n",
        "\n",
        "current_batch = first_eval_batch.reshape((1, BS, n_features))\n",
        "\n",
        "count=1\n",
        "\n",
        "for i in range(len(test)):\n",
        "    \n",
        "    current_pred = model.predict(current_batch)[0]\n",
        "    test_predictions.append(current_pred) \n",
        "    \n",
        "#     print(f'Result {count}:')\n",
        "#     print(f'current batch:\\n{current_batch},\\n prediction: {current_pred}')\n",
        "    \n",
        "    current_batch = np.append(current_batch[:,1:,:],[[current_pred]],axis=1)\n",
        "    count += 1\n",
        "\n",
        "#     print('\\n\\n')"
      ],
      "execution_count": null,
      "outputs": []
    },
    {
      "cell_type": "code",
      "metadata": {
        "id": "idxxNMuAd1UK"
      },
      "source": [
        "true_predictions = scaler.inverse_transform(test_predictions)\n",
        "print(true_predictions)"
      ],
      "execution_count": null,
      "outputs": []
    },
    {
      "cell_type": "code",
      "metadata": {
        "id": "bNa1K8Dkd1UN"
      },
      "source": [
        "test['Predictions'] = true_predictions.astype(int)\n",
        "test"
      ],
      "execution_count": null,
      "outputs": []
    },
    {
      "cell_type": "code",
      "metadata": {
        "id": "2T8tA7ofd1UP"
      },
      "source": [
        "test.plot(figsize=(20,8));\n",
        "plt.title('Real vs Predicted results', fontsize=26)\n",
        "plt.xlabel('Dates', fontsize=18)\n",
        "plt.ylabel('Number of confirmed cases', fontsize=18)\n",
        "plt.legend(loc=2, prop={'size': 26})"
      ],
      "execution_count": null,
      "outputs": []
    },
    {
      "cell_type": "code",
      "metadata": {
        "id": "kjfsvlV_d1UR"
      },
      "source": [
        "from sklearn.metrics import r2_score, mean_squared_error\n",
        "\n",
        "mse = mean_squared_error(test.Confirmed, test.Predictions)\n",
        "# length = len(test)\n",
        "rmse = np.sqrt(mse)\n",
        "\n",
        "r2s = r2_score(test.Confirmed, test.Predictions) \n",
        "\n",
        "print(f'RMSE = {rmse}; r2 score = {r2s}')"
      ],
      "execution_count": null,
      "outputs": []
    },
    {
      "cell_type": "markdown",
      "metadata": {
        "id": "k01XAHUld1UU"
      },
      "source": [
        "At the first glance we might think the model's rmse is bad, but when we look the <b>coefficient of determination</b> (ie r2) we see that it has an <b>85% good fit</b>. The results are fairly good.\n",
        "\n",
        "<u><b>Note</b></u>: We use the $r^2$ value along with the RMSE because it has a fixed range from 0 to 1. \n",
        "\n",
        "A value of 0 indicates that the response variable cannot be explained by the predictor variable at all. A value of 1 indicates that the response variable can be perfectly explained without error by the predictor variable.\n",
        "\n",
        "Basically if it is closer to 1, our model is good."
      ]
    },
    {
      "cell_type": "markdown",
      "metadata": {
        "id": "HilUywvKd1UU"
      },
      "source": [
        "## 5. Forecasting the number of confirmed cases for the next N days"
      ]
    },
    {
      "cell_type": "code",
      "metadata": {
        "id": "uQOQKCTOd1UV"
      },
      "source": [
        "from pandas.tseries.offsets import DateOffset\n",
        "\n",
        "ndays=60\n",
        "last_date = days.index[-1]\n",
        "future_dates = [last_date+DateOffset(days=x) for x in range(1, ndays+1)]"
      ],
      "execution_count": null,
      "outputs": []
    },
    {
      "cell_type": "code",
      "metadata": {
        "id": "RJAzbOoid1UY"
      },
      "source": [
        "days_copy = days.copy()\n",
        "days_copy.tail()"
      ],
      "execution_count": null,
      "outputs": []
    },
    {
      "cell_type": "code",
      "metadata": {
        "id": "KLKSWBb4d1UZ"
      },
      "source": [
        "# get the scaled data for the last BS days in our dataset\n",
        "\n",
        "last_index = len(days)\n",
        "last_n_days = scaler.transform(days_copy.iloc[-BS:last_index,:])\n",
        "last_n_days"
      ],
      "execution_count": null,
      "outputs": []
    },
    {
      "cell_type": "code",
      "metadata": {
        "id": "W7B6-PDHd1Ub"
      },
      "source": [
        "# array to store the forcasted results for the next ndays\n",
        "test_predictions_ndays = []\n",
        "\n",
        "current_batch = last_n_days.reshape((1, BS, n_features))\n",
        "\n",
        "count=1\n",
        "\n",
        "for i in range(ndays):\n",
        "    \n",
        "    current_pred = model.predict(current_batch)[0]\n",
        "    test_predictions_ndays.append(current_pred) \n",
        "    \n",
        "    current_batch = np.append(current_batch[:,1:,:],[[current_pred]],axis=1)\n",
        "    count += 1"
      ],
      "execution_count": null,
      "outputs": []
    },
    {
      "cell_type": "code",
      "metadata": {
        "id": "TLWrA2nwd1Uf"
      },
      "source": [
        "true_predictions_ndays = scaler.inverse_transform(test_predictions_ndays).astype(int)\n",
        "future_dates_df = pd.DataFrame(index=future_dates[:],columns=days.columns, data=true_predictions_ndays)\n",
        "future_df = pd.concat([days_copy,future_dates_df])"
      ],
      "execution_count": null,
      "outputs": []
    },
    {
      "cell_type": "code",
      "metadata": {
        "cell_style": "split",
        "id": "VeS7Mt0sd1Uk"
      },
      "source": [
        "future_df.head()"
      ],
      "execution_count": null,
      "outputs": []
    },
    {
      "cell_type": "code",
      "metadata": {
        "cell_style": "split",
        "id": "9_SarCa7d1Uo"
      },
      "source": [
        "future_df.tail()"
      ],
      "execution_count": null,
      "outputs": []
    },
    {
      "cell_type": "code",
      "metadata": {
        "id": "iLcmU4cZd1Ur"
      },
      "source": [
        "future_df.plot(figsize=(20,8));\n",
        "\n",
        "plt.axvline(\"2020-09-14\", color=\"red\", linestyle=\"--\");\n",
        "\n",
        "plt.title(f'Predicted results for the next {ndays} days(starting from Sep 14, 2020)', fontsize=26);\n",
        "plt.xlabel('Dates', fontsize=18);\n",
        "plt.ylabel('Number of confirmed cases', fontsize=18);\n",
        "plt.legend(loc=2, prop={'size': 0});"
      ],
      "execution_count": null,
      "outputs": []
    },
    {
      "cell_type": "markdown",
      "metadata": {
        "id": "d46dwhg1d1Ux"
      },
      "source": [
        "From the above graph, we can tell that the values are most probably fairly accurate. Since we dont have the actual values we can never be too sure but it more or less looks like a good forecast."
      ]
    },
    {
      "cell_type": "markdown",
      "metadata": {
        "id": "30OAPAgUd1Uy"
      },
      "source": [
        "We then save our models architecture and weights."
      ]
    },
    {
      "cell_type": "code",
      "metadata": {
        "id": "nJ0ENSc4d1Uz"
      },
      "source": [
        "name = 'model1_weights.h5'\n",
        "\n",
        "model.save_weights(name)\n",
        "model.save('model1_architecture.h5')"
      ],
      "execution_count": null,
      "outputs": []
    },
    {
      "cell_type": "markdown",
      "metadata": {
        "id": "KaOy83o-383M"
      },
      "source": [
        "# CB.EN.U4CSE17337"
      ]
    },
    {
      "cell_type": "markdown",
      "metadata": {
        "id": "36aC16o-2Iwb"
      },
      "source": [
        "## India Covid Data\n"
      ]
    },
    {
      "cell_type": "code",
      "metadata": {
        "id": "blOWS2b7i75l"
      },
      "source": [
        "indiadaily=pd.read_csv('https://raw.githubusercontent.com/Ashwin1999/COVID-19-Data-Mining/Arnab/COVID-DataTimeSeries(India)/nation_level_daily.csv')\n",
        "indiadaily['Date'] = indiadaily['Date'].str.slice(0,6) +' 2020'\n",
        "indiadaily['Date']= indiadaily['Date'].astype(str).apply(lambda x: datetime.datetime.strptime(x,'%d %b %Y'))\n",
        "indiadaily['Date']= pd.to_datetime(indiadaily['Date'])\n",
        "indiadaily.rename(columns={'Daily Confirmed':'casesdaily',\n",
        "                   'Total Confirmed':'cases',\n",
        "                   'Daily Recovered':'recoverydaily',\n",
        "                   'Total Recovered':'recovery', \n",
        "                   'Daily Deceased' :'deathdaily',\n",
        "                   'Total Deceased':'death'},inplace=True)\n",
        "print(indiadaily.dtypes)\n",
        "indiadaily.tail()"
      ],
      "execution_count": null,
      "outputs": []
    },
    {
      "cell_type": "code",
      "metadata": {
        "id": "WYlpF1QSxA4Z"
      },
      "source": [
        "complete = pd.read_csv('https://raw.githubusercontent.com/Ashwin1999/COVID-19-Data-Mining/Arnab/COVID-DataTimeSeries(India)/complete.csv')\n",
        "complete['Date']= pd.to_datetime(complete['Date'])\n",
        "complete.rename(columns={'Name of State / UT':'State'},inplace=True)\n",
        "complete['Death'] = complete['Death'].str.extract('(\\d+)', expand=False)\n",
        "complete['Death'] = complete['Death'].astype(int)\n",
        "print(complete.dtypes)\n",
        "complete.head()"
      ],
      "execution_count": null,
      "outputs": []
    },
    {
      "cell_type": "code",
      "metadata": {
        "id": "gmMAdSGpMEbj"
      },
      "source": [
        "plt.figure(figsize=(20,15))\n",
        "statewisedata=complete.groupby('State').sum()\n",
        "statewisedata.reset_index(inplace=True)\n",
        "statewisedata.sort_values(by='Total Confirmed cases',inplace=True,ascending=False)\n",
        "sns.barplot(y='Total Confirmed cases',x='State',data=statewisedata.iloc[:10])\n",
        "# # statewisedata.plot.bar(rot=0,figsize=(20,10))\n",
        "# # statewisedata.plot.bar(rot=0,figsize=(20,10))\n",
        "\n",
        "# plt.xticks(rotation=70)\n",
        "# statewisedata.head()"
      ],
      "execution_count": null,
      "outputs": []
    },
    {
      "cell_type": "code",
      "metadata": {
        "id": "ohNsnIeiMsvX"
      },
      "source": [
        "plt.figure(figsize=(20,15))\n",
        "statewisedata=complete.groupby('State').sum()\n",
        "statewisedata.reset_index(inplace=True)\n",
        "statewisedata.sort_values(by='Death',inplace=True,ascending=False)\n",
        "sns.barplot(y='Death',x='State',data=statewisedata.iloc[:10])"
      ],
      "execution_count": null,
      "outputs": []
    },
    {
      "cell_type": "code",
      "metadata": {
        "id": "Mv_cRHy9M3rh"
      },
      "source": [
        "fig,ax=plt.subplots(3,2,figsize=(20,10))\n",
        "fig.tight_layout()\n",
        "ax[0,0].plot(indiadaily['Date'],indiadaily['cases'])\n",
        "ax[0,1].plot(indiadaily['Date'],indiadaily['casesdaily'])\n",
        "ax[1,0].plot(indiadaily['Date'],indiadaily['recovery'])\n",
        "ax[1,1].plot(indiadaily['Date'],indiadaily['recoverydaily'])\n",
        "ax[2,0].plot(indiadaily['Date'],indiadaily['death'])\n",
        "ax[2,1].plot(indiadaily['Date'],indiadaily['deathdaily'])\n",
        "\n",
        "# plt.plot(indiadaily['Date'],indiadaily['Total Recovered'])\n",
        "# plt.plot(indiadaily['Date'],indiadaily['Total Deceased'])"
      ],
      "execution_count": null,
      "outputs": []
    },
    {
      "cell_type": "code",
      "metadata": {
        "id": "f9vWKjOovfyr"
      },
      "source": [
        "indiatesting=pd.read_csv('https://raw.githubusercontent.com/Ashwin1999/COVID-19-Data-Mining/Arnab/COVID-DataTimeSeries(India)/tests_day_wise.csv')\n",
        "indiatesting=indiatesting[['Tested As Of','Total Samples Tested']]\n",
        "indiatesting['Tested As Of']=indiatesting['Tested As Of'].str.replace('/','-')\n",
        "indiatesting.rename(columns={'Tested As Of':'Date','Total Samples Tested':'tests'},inplace=True)\n",
        "indiatesting.dropna(how='any',axis=0,inplace=True)\n",
        "indiatesting['Date']= indiatesting['Date'].astype(str).apply(lambda x: datetime.datetime.strptime(x,'%d-%m-%Y'))\n",
        "indiatesting['Date']= pd.to_datetime(indiatesting['Date'])\n",
        "indiatesting.head()"
      ],
      "execution_count": null,
      "outputs": []
    },
    {
      "cell_type": "code",
      "metadata": {
        "id": "7671OPi62aGI"
      },
      "source": [
        "indiacovidfinal = indiadaily.merge(indiatesting,how='inner',on='Date')\n",
        "\n",
        "indiacovidfinal = indiacovidfinal[['Date','casesdaily', 'recoverydaily', 'recovery', 'deathdaily','death', 'tests', 'cases']]\n",
        "indiacovidfinal.tail()"
      ],
      "execution_count": null,
      "outputs": []
    },
    {
      "cell_type": "code",
      "metadata": {
        "id": "JH8ULyIU0UVS"
      },
      "source": [
        "indiacovidfinal.columns"
      ],
      "execution_count": null,
      "outputs": []
    },
    {
      "cell_type": "code",
      "metadata": {
        "id": "DrxABl6Vu3FA"
      },
      "source": [
        "sns.lineplot(x='Date',y='tests',data=indiacovidfinal)"
      ],
      "execution_count": null,
      "outputs": []
    },
    {
      "cell_type": "markdown",
      "metadata": {
        "id": "5vDTp8Ao3_tt"
      },
      "source": [
        "## EDA\n",
        "\n"
      ]
    },
    {
      "cell_type": "code",
      "metadata": {
        "id": "a7Q1FzGfH6Io"
      },
      "source": [
        "indiacovidfinal=indiacovidfinal.groupby('Date').sum()\n",
        "indiacovidfinal.sort_index(inplace= True)\n",
        "indiacovidfinal.head()"
      ],
      "execution_count": null,
      "outputs": []
    },
    {
      "cell_type": "code",
      "metadata": {
        "id": "uAoRPrKpIBQo"
      },
      "source": [
        "toplot=indiacovidfinal['cases']\n",
        "result = seasonal_decompose(toplot, model='additive',freq=52)\n",
        "fig, (ax1,ax2,ax3) = plt.subplots(3,1, figsize=(12,6))\n",
        "result.trend.plot(ax=ax1)\n",
        "result.resid.plot(ax=ax2)\n",
        "result.seasonal.plot(ax=ax3)\n",
        "plt.show()"
      ],
      "execution_count": null,
      "outputs": []
    },
    {
      "cell_type": "code",
      "metadata": {
        "id": "RGM1d2KTIDE6"
      },
      "source": [
        "toplot=indiacovidfinal['recovery']\n",
        "result = seasonal_decompose(toplot, model='additive',freq=52)\n",
        "fig, (ax1,ax2,ax3) = plt.subplots(3,1, figsize=(12,6))\n",
        "result.trend.plot(ax=ax1)\n",
        "result.resid.plot(ax=ax2)\n",
        "result.seasonal.plot(ax=ax3)\n",
        "ax1.set_ylabel(\"Trend\")\n",
        "ax2.set_ylabel(\"Residual\")\n",
        "ax3.set_ylabel(\"Seasonal\")\n",
        "plt.show()"
      ],
      "execution_count": null,
      "outputs": []
    },
    {
      "cell_type": "code",
      "metadata": {
        "id": "zPdQ13ht8DV0"
      },
      "source": [
        "toplot=indiacovidfinal['death']\n",
        "result = seasonal_decompose(toplot, model='additive',freq=52)\n",
        "fig, (ax1,ax2,ax3) = plt.subplots(3,1, figsize=(12,6))\n",
        "result.trend.plot(ax=ax1)\n",
        "result.resid.plot(ax=ax2)\n",
        "result.seasonal.plot(ax=ax3)\n",
        "ax1.set_ylabel(\"Trend\")\n",
        "ax2.set_ylabel(\"Residual\")\n",
        "ax3.set_ylabel(\"Seasonal\")\n",
        "plt.show()"
      ],
      "execution_count": null,
      "outputs": []
    },
    {
      "cell_type": "markdown",
      "metadata": {
        "id": "exfUEdkjIKMz"
      },
      "source": [
        "## Stationarity Testing"
      ]
    },
    {
      "cell_type": "code",
      "metadata": {
        "id": "bpCR_aeaIG-v"
      },
      "source": [
        "result = adfuller(indiacovidfinal['cases'])\n",
        "print('ADF Statistic: %f' % result[0])\n",
        "print('p-value: %f' % result[1])\n",
        "for key, value in result[4].items():\n",
        "\tprint('\\t%s: %.3f' % (key, value))"
      ],
      "execution_count": null,
      "outputs": []
    },
    {
      "cell_type": "code",
      "metadata": {
        "id": "KZiv9IfpIMSF"
      },
      "source": [
        "result = adfuller(indiacovidfinal['death'])\n",
        "print('ADF Statistic: %f' % result[0])\n",
        "print('p-value: %f' % result[1])\n",
        "for key, value in result[4].items():\n",
        "\tprint('\\t%s: %.3f' % (key, value))"
      ],
      "execution_count": null,
      "outputs": []
    },
    {
      "cell_type": "markdown",
      "metadata": {
        "id": "YmslSEHNK5P1"
      },
      "source": [
        "## LSTM"
      ]
    },
    {
      "cell_type": "code",
      "metadata": {
        "id": "01hQvNppKoS_"
      },
      "source": [
        "scaler = MinMaxScaler(feature_range=(0, 1))\n",
        "dataset = scaler.fit_transform(indiacovidfinal)"
      ],
      "execution_count": null,
      "outputs": []
    },
    {
      "cell_type": "code",
      "metadata": {
        "id": "-3zUgI8Mvth_"
      },
      "source": [
        "# split into train and test sets\n",
        "train_size = int(len(dataset) * 0.80)\n",
        "test_size = len(dataset) - train_size\n",
        "train, test = dataset[0:train_size,:], dataset[train_size:len(dataset),:]\n",
        "print(len(train), len(test))\n",
        "print(train.shape)\n",
        "print(test.shape)"
      ],
      "execution_count": null,
      "outputs": []
    },
    {
      "cell_type": "code",
      "metadata": {
        "id": "OO4ISwXRwLxw"
      },
      "source": [
        "trainX, trainY = train[:,0:6],train[:,6]\n",
        "testX, testY = test[:,0:6],test[:,6]"
      ],
      "execution_count": null,
      "outputs": []
    },
    {
      "cell_type": "code",
      "metadata": {
        "id": "Xj4hwujvloox"
      },
      "source": [
        "# trainY = np.insert(trainY, 0, 0)\n",
        "# define generator\n",
        "n_input = 1\n",
        "generator = TimeseriesGenerator(trainX, trainY, length=n_input, batch_size=1)\n",
        "generator_test = TimeseriesGenerator(testX, testY, length=n_input, batch_size=1)"
      ],
      "execution_count": null,
      "outputs": []
    },
    {
      "cell_type": "code",
      "metadata": {
        "id": "CG_kpZR0tuCG"
      },
      "source": [
        "n_features = 6\n",
        "# trainX = trainX.reshape((trainX.shape[0], trainX.shape[1], 1))"
      ],
      "execution_count": null,
      "outputs": []
    },
    {
      "cell_type": "code",
      "metadata": {
        "id": "AcVe7MCrwSJi"
      },
      "source": [
        "num_epochs=200\n",
        "lstm_model = Sequential()\n",
        "lstm_model.add(LSTM(58, activation='relu', input_shape=(n_input, n_features)))\n",
        "lstm_model.add(Dense(1))\n",
        "lstm_model.compile(optimizer='adam', loss='mse',metrics='mse')\n",
        "lstm_model.summary()"
      ],
      "execution_count": null,
      "outputs": []
    },
    {
      "cell_type": "code",
      "metadata": {
        "id": "8OXClYaiwfo-"
      },
      "source": [
        "lstm_model.fit_generator(generator=generator,epochs=num_epochs,validation_data=generator_test)"
      ],
      "execution_count": null,
      "outputs": []
    },
    {
      "cell_type": "code",
      "metadata": {
        "id": "jMcn4dFq1rw7"
      },
      "source": [
        "plt.figure(figsize=(12,4))\n",
        "plt.xlabel(\"Epochs\")\n",
        "plt.ylabel(\"Loss\")\n",
        "plt.xticks(np.arange(0,100,4))\n",
        "plt.plot(lstm_model.history.history['loss'], label='train')\n",
        "plt.plot(lstm_model.history.history['val_loss'], label='test')"
      ],
      "execution_count": null,
      "outputs": []
    },
    {
      "cell_type": "code",
      "metadata": {
        "id": "PIJE7gRK2kZB"
      },
      "source": [
        "output=lstm_model.predict(generator_test)"
      ],
      "execution_count": null,
      "outputs": []
    },
    {
      "cell_type": "code",
      "metadata": {
        "id": "fWNvWNoA1Mpr"
      },
      "source": [
        "toInverseScaleOuput = np.hstack((testX[0:len(testX)-1],output))\n",
        "inverseScaledOutput=scaler.inverse_transform(toInverseScaleOuput)\n",
        "\n",
        "inverseScaledActual=scaler.inverse_transform(test[0:len(test)-1])"
      ],
      "execution_count": null,
      "outputs": []
    },
    {
      "cell_type": "code",
      "metadata": {
        "id": "WheN6BUy6K1C"
      },
      "source": [
        "inverseScaledActual[:,-1:],inverseScaledOutput[:,-1:]"
      ],
      "execution_count": null,
      "outputs": []
    },
    {
      "cell_type": "code",
      "metadata": {
        "id": "Bv0alJz30_9Z"
      },
      "source": [
        "rms = sqrt(mean_squared_error(inverseScaledActual[:,-1:],inverseScaledOutput[:,-1:]))\n",
        "print('RMSE : ',rms)"
      ],
      "execution_count": null,
      "outputs": []
    },
    {
      "cell_type": "code",
      "metadata": {
        "id": "X3HQHKUC1KEl"
      },
      "source": [
        "mae = mean_absolute_error(inverseScaledActual[:,-1:],inverseScaledOutput[:,-1:])\n",
        "print('MAE :' ,mae)"
      ],
      "execution_count": null,
      "outputs": []
    },
    {
      "cell_type": "code",
      "metadata": {
        "id": "GkKFPGhAMISO"
      },
      "source": [
        "plt.plot(inverseScaledOutput[:,-1:],'r')\n",
        "plt.plot(inverseScaledActual[:,-1:],'g')\n",
        "plt.show()\n"
      ],
      "execution_count": null,
      "outputs": []
    },
    {
      "cell_type": "code",
      "metadata": {
        "id": "LqCP44eDP_ro"
      },
      "source": [
        "r2score=r2_score(inverseScaledActual[:,-1:],inverseScaledOutput[:,-1:])\n",
        "print('R2 Score: ',r2score )"
      ],
      "execution_count": null,
      "outputs": []
    }
  ]
}